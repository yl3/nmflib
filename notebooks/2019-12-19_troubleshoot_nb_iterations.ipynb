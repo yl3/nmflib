{
 "cells": [
  {
   "cell_type": "markdown",
   "metadata": {},
   "source": [
    "# Troubleshoot nmf._iterate_nb_theta()"
   ]
  },
  {
   "cell_type": "code",
   "execution_count": 33,
   "metadata": {},
   "outputs": [],
   "source": [
    "import matplotlib.pyplot as plt\n",
    "import numpy as np\n",
    "from scipy.stats import nbinom\n",
    "from scipy.special import digamma, polygamma\n",
    "import seaborn as sns"
   ]
  },
  {
   "cell_type": "code",
   "execution_count": 24,
   "metadata": {},
   "outputs": [],
   "source": [
    "sns.set()\n",
    "%matplotlib inline"
   ]
  },
  {
   "cell_type": "markdown",
   "metadata": {},
   "source": [
    "## Helper functions"
   ]
  },
  {
   "cell_type": "code",
   "execution_count": 77,
   "metadata": {},
   "outputs": [],
   "source": [
    "def score(X, r, mu):\n",
    "    elems = np.prod(X.shape)\n",
    "    score = (elems * (-digamma(r) + np.log(r) + 1)\n",
    "             + np.sum(digamma(X + r) - np.log(mu + r) - (X + r) / (mu + r)))\n",
    "    return score\n",
    "\n",
    "def trigamma(x):\n",
    "    return polygamma(1, x)\n",
    "    \n",
    "def info(X, r, mu):\n",
    "    elems = np.prod(X.shape)\n",
    "    info = (elems * (-trigamma(r) + 1 / r)\n",
    "            + np.sum(trigamma(X + r) - 2 / (mu + r) + (X + r) / ((mu + r)**2)))\n",
    "    return info\n",
    "\n",
    "def iterate_nb_theta(X, mu, r):\n",
    "    \"\"\"Use Newton's method to iterate negative binomial dispersion parameter.\n",
    "\n",
    "    Args:\n",
    "        X (numpy.ndarray): An array of counts.\n",
    "        mu (numpy.ndarray): The expected value for each observed count in X.\n",
    "        r (float): The current value of the negative binomial dispersion\n",
    "            parameter.\n",
    "\n",
    "    Returns:\n",
    "        float: The next iterated value of r.\n",
    "    \"\"\"\n",
    "\n",
    "    score = score(X, r, mu)\n",
    "    info = info(X, r, mu)\n",
    "    new_r = r - score / info\n",
    "    return new_r\n",
    "\n",
    "def mu_to_p(mu, r):\n",
    "    p = 1 - mu / (r + mu)\n",
    "    return p"
   ]
  },
  {
   "cell_type": "code",
   "execution_count": 50,
   "metadata": {},
   "outputs": [],
   "source": [
    "def naive_r_estimator(X, mu):\n",
    "    s2 = (X - mu)**2\n",
    "    r_hat = np.mean((mu ** 2) / (s2 - mu))\n",
    "    return r_hat"
   ]
  },
  {
   "cell_type": "code",
   "execution_count": 52,
   "metadata": {},
   "outputs": [],
   "source": [
    "def nbinom_onestep_estimator(X, mu):\n",
    "    numerator = np.sum(X.shape)\n",
    "    denominator = np.sum((X / mu - 1) ** 2)\n",
    "    return numerator / denominator"
   ]
  },
  {
   "cell_type": "code",
   "execution_count": 57,
   "metadata": {},
   "outputs": [],
   "source": [
    "def fit_nbinom_r(X, mu, dof, reltol=0.001):\n",
    "    \"\"\"Fit the negative binomial dispersion parameter.\"\"\"\n",
    "    prev_r = nbinom_onestep_estimator(X, mu)\n",
    "    iter = 0\n",
    "    while True:\n",
    "        iter += 1\n",
    "        numerator = np.sum((X - mu)**2 / (mu + mu**2/prev_r)) - dof\n",
    "        denominator = np.sum((X - mu)**2 / (mu + prev_r)**2)\n",
    "        delta = numerator / denominator\n",
    "        r = prev_r - delta\n",
    "        if abs(r - prev_r) / prev_r < reltol:\n",
    "            break\n",
    "        prev_r = r\n",
    "    return r, iter\n",
    "\n",
    "\n",
    "def fit_nbinom_nmf_r(X, mu, k, reltol=0.001):\n",
    "    \"\"\"Fit the negative binomial NMF dispersion parameter.\"\"\"\n",
    "    free_params = np.prod(X.shape) - k * (np.sum(X.shape) - 1)\n",
    "    r, iter = fit_nbinom_r(X, mu, free_params, reltol)\n",
    "    return r, iter"
   ]
  },
  {
   "cell_type": "markdown",
   "metadata": {},
   "source": [
    "## Create some test data and plot the functions."
   ]
  },
  {
   "cell_type": "code",
   "execution_count": 16,
   "metadata": {},
   "outputs": [],
   "source": [
    "r = 20\n",
    "mu = 10\n",
    "p = mu_to_p(mu, r)"
   ]
  },
  {
   "cell_type": "code",
   "execution_count": 17,
   "metadata": {},
   "outputs": [
    {
     "data": {
      "text/plain": [
       "array([ 3,  9, 12, ..., 12, 13,  9])"
      ]
     },
     "execution_count": 17,
     "metadata": {},
     "output_type": "execute_result"
    }
   ],
   "source": [
    "x = nbinom.rvs(r, p, size=int(1e5))\n",
    "x"
   ]
  },
  {
   "cell_type": "code",
   "execution_count": 29,
   "metadata": {},
   "outputs": [],
   "source": [
    "test_r = np.arange(10.1, 30.1, 0.1)\n",
    "loglik_r = np.array([np.sum(nbinom.logpmf(x, rr, mu_to_p(mu, rr))) for rr in test_r])"
   ]
  },
  {
   "cell_type": "code",
   "execution_count": 34,
   "metadata": {},
   "outputs": [],
   "source": [
    "score_r = np.array([score(x, rr, mu) for rr in test_r])"
   ]
  },
  {
   "cell_type": "code",
   "execution_count": 38,
   "metadata": {},
   "outputs": [],
   "source": [
    "info_r = np.array([info(x, rr, mu) for rr in test_r])"
   ]
  },
  {
   "cell_type": "code",
   "execution_count": 30,
   "metadata": {},
   "outputs": [
    {
     "data": {
      "text/plain": [
       "<matplotlib.axes._subplots.AxesSubplot at 0x11464aa90>"
      ]
     },
     "execution_count": 30,
     "metadata": {},
     "output_type": "execute_result"
    },
    {
     "data": {
      "image/png": "[encoded data removed]",
      "text/plain": [
       "<Figure size 432x288 with 1 Axes>"
      ]
     },
     "metadata": {
      "needs_background": "light"
     },
     "output_type": "display_data"
    }
   ],
   "source": [
    "sns.lineplot(test_r, loglik_r)"
   ]
  },
  {
   "cell_type": "code",
   "execution_count": 35,
   "metadata": {},
   "outputs": [
    {
     "data": {
      "text/plain": [
       "<matplotlib.axes._subplots.AxesSubplot at 0x114837358>"
      ]
     },
     "execution_count": 35,
     "metadata": {},
     "output_type": "execute_result"
    },
    {
     "data": {
      "image/png": "[encoded data removed]",
      "text/plain": [
       "<Figure size 432x288 with 1 Axes>"
      ]
     },
     "metadata": {
      "needs_background": "light"
     },
     "output_type": "display_data"
    }
   ],
   "source": [
    "sns.lineplot(test_r, score_r)"
   ]
  },
  {
   "cell_type": "code",
   "execution_count": 39,
   "metadata": {},
   "outputs": [
    {
     "data": {
      "text/plain": [
       "<matplotlib.axes._subplots.AxesSubplot at 0x1148da668>"
      ]
     },
     "execution_count": 39,
     "metadata": {},
     "output_type": "execute_result"
    },
    {
     "data": {
      "image/png": "[encoded data removed]",
      "text/plain": [
       "<Figure size 432x288 with 1 Axes>"
      ]
     },
     "metadata": {
      "needs_background": "light"
     },
     "output_type": "display_data"
    }
   ],
   "source": [
    "sns.lineplot(test_r, info_r)"
   ]
  },
  {
   "cell_type": "markdown",
   "metadata": {},
   "source": [
    "### Test additional info values using very high and very low r"
   ]
  },
  {
   "cell_type": "code",
   "execution_count": 43,
   "metadata": {},
   "outputs": [
    {
     "data": {
      "text/plain": [
       "array([7.97579676e+05, 9.57814440e+06, 9.93232258e+07, 9.98832112e+08])"
      ]
     },
     "execution_count": 43,
     "metadata": {},
     "output_type": "execute_result"
    }
   ],
   "source": [
    "np.array([score(x, rr, mu) for rr in [1e-1, 1e-2, 1e-3, 1e-4]])"
   ]
  },
  {
   "cell_type": "code",
   "execution_count": 44,
   "metadata": {},
   "outputs": [
    {
     "data": {
      "text/plain": [
       "array([-1.64284948e+01, -2.41543943e-01, -2.50801262e-03, -2.51745514e-05])"
      ]
     },
     "execution_count": 44,
     "metadata": {},
     "output_type": "execute_result"
    }
   ],
   "source": [
    "np.array([score(x, rr, mu) for rr in [1e2, 1e3, 1e4, 1e5]])"
   ]
  },
  {
   "cell_type": "code",
   "execution_count": 41,
   "metadata": {},
   "outputs": [
    {
     "data": {
      "text/plain": [
       "array([-9.13739147e+06, -9.89868939e+08, -9.98711611e+10, -9.99610016e+12])"
      ]
     },
     "execution_count": 41,
     "metadata": {},
     "output_type": "execute_result"
    }
   ],
   "source": [
    "np.array([info(x, rr, mu) for rr in [1e-1, 1e-2, 1e-3, 1e-4]])"
   ]
  },
  {
   "cell_type": "code",
   "execution_count": 45,
   "metadata": {},
   "outputs": [
    {
     "data": {
      "text/plain": [
       "array([-8.61010951e-01,  7.24695576e-01,  8.12023162e-01,  2.55938647e-01,\n",
       "        4.72980191e-04,  5.00555848e-07,  5.03385247e-10])"
      ]
     },
     "execution_count": 45,
     "metadata": {},
     "output_type": "execute_result"
    }
   ],
   "source": [
    "np.array([info(x, rr, mu) for rr in [30, 40, 50, 1e2, 1e3, 1e4, 1e5]])"
   ]
  },
  {
   "cell_type": "markdown",
   "metadata": {},
   "source": [
    "## Test naive r estimator."
   ]
  },
  {
   "cell_type": "code",
   "execution_count": 51,
   "metadata": {},
   "outputs": [
    {
     "data": {
      "text/plain": [
       "-18.971457358222317"
      ]
     },
     "execution_count": 51,
     "metadata": {},
     "output_type": "execute_result"
    }
   ],
   "source": [
    "naive_r_estimator(x, mu)"
   ]
  },
  {
   "cell_type": "markdown",
   "metadata": {},
   "source": [
    "## Test method of moments."
   ]
  },
  {
   "cell_type": "code",
   "execution_count": 53,
   "metadata": {},
   "outputs": [
    {
     "data": {
      "text/plain": [
       "6.637453023426226"
      ]
     },
     "execution_count": 53,
     "metadata": {},
     "output_type": "execute_result"
    }
   ],
   "source": [
    "nbinom_onestep_estimator(x, mu)"
   ]
  },
  {
   "cell_type": "code",
   "execution_count": 76,
   "metadata": {
    "scrolled": false
   },
   "outputs": [
    {
     "name": "stdout",
     "output_type": "stream",
     "text": [
      "(1.003602069613119, 2)\n",
      "(2.0062141341172914, 3)\n",
      "(3.00901269323127, 3)\n",
      "(3.9960002920746347, 3)\n",
      "(5.001623679246264, 3)\n",
      "(6.0319668019513335, 4)\n",
      "(7.043361512433325, 4)\n",
      "(7.979863591982983, 4)\n",
      "(9.030739674380943, 4)\n",
      "(9.999970995398778, 4)\n",
      "(10.935666374728372, 4)\n",
      "(12.016039902884433, 4)\n",
      "(12.935611769308094, 4)\n",
      "(13.990779577993544, 4)\n",
      "(15.0208867928464, 4)\n",
      "(15.960680456509582, 4)\n",
      "(16.944171930411027, 4)\n",
      "(17.988828926051383, 5)\n",
      "(18.938302546834777, 5)\n",
      "(19.902747119078974, 5)\n",
      "(21.005791932335093, 5)\n",
      "(21.655180746425394, 5)\n",
      "(23.159726303841637, 5)\n",
      "(23.92443411411357, 5)\n",
      "(24.944927765703962, 5)\n",
      "(26.10439991827595, 5)\n",
      "(26.931553058227447, 5)\n",
      "(28.225627850443125, 5)\n",
      "(28.88909731985684, 5)\n",
      "(29.817578487576423, 5)\n"
     ]
    }
   ],
   "source": [
    "for rr in range(1, 31):\n",
    "    pp = mu_to_p(mu, rr)\n",
    "    y = scipy.stats.nbinom.rvs(rr, pp, size=int(1e5))\n",
    "    r, iter = fit_nbinom_r(y, mu, len(y) - 1)"
   ]
  }
 ],
 "metadata": {
  "kernelspec": {
   "display_name": "Python 3",
   "language": "python",
   "name": "python3"
  },
  "language_info": {
   "codemirror_mode": {
    "name": "ipython",
    "version": 3
   },
   "file_extension": ".py",
   "mimetype": "text/x-python",
   "name": "python",
   "nbconvert_exporter": "python",
   "pygments_lexer": "ipython3",
   "version": "3.7.3"
  }
 },
 "nbformat": 4,
 "nbformat_minor": 2
}
