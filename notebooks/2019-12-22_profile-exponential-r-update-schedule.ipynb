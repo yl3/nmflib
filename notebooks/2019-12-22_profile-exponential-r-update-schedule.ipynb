{
 "cells": [
  {
   "cell_type": "markdown",
   "metadata": {},
   "source": [
    "# Line profiling nbinom NMF with exponential $r$ update schedule"
   ]
  },
  {
   "cell_type": "code",
   "execution_count": 9,
   "metadata": {
    "ExecuteTime": {
     "end_time": "2019-12-23T03:09:24.831792Z",
     "start_time": "2019-12-23T03:09:24.823656Z"
    }
   },
   "outputs": [
    {
     "name": "stdout",
     "output_type": "stream",
     "text": [
      "The line_profiler extension is already loaded. To reload it, use:\n",
      "  %reload_ext line_profiler\n"
     ]
    }
   ],
   "source": [
    "%load_ext line_profiler"
   ]
  },
  {
   "cell_type": "markdown",
   "metadata": {},
   "source": [
    "## Setup"
   ]
  },
  {
   "cell_type": "code",
   "execution_count": 10,
   "metadata": {
    "ExecuteTime": {
     "end_time": "2019-12-23T03:09:24.860395Z",
     "start_time": "2019-12-23T03:09:24.835280Z"
    }
   },
   "outputs": [
    {
     "data": {
      "text/plain": [
       "'/Users/yl3/github/genomics/nmflib'"
      ]
     },
     "execution_count": 10,
     "metadata": {},
     "output_type": "execute_result"
    }
   ],
   "source": [
    "import os\n",
    "while not os.path.exists('test_data'):\n",
    "    os.chdir('..')\n",
    "os.getcwd()"
   ]
  },
  {
   "cell_type": "code",
   "execution_count": 11,
   "metadata": {
    "ExecuteTime": {
     "end_time": "2019-12-23T03:09:24.878292Z",
     "start_time": "2019-12-23T03:09:24.864422Z"
    }
   },
   "outputs": [],
   "source": [
    "import logging\n",
    "logger = logging.getLogger()\n",
    "logger.setLevel(logging.INFO)"
   ]
  },
  {
   "cell_type": "code",
   "execution_count": 12,
   "metadata": {
    "ExecuteTime": {
     "end_time": "2019-12-23T03:09:24.888139Z",
     "start_time": "2019-12-23T03:09:24.882983Z"
    }
   },
   "outputs": [],
   "source": [
    "import numpy as np\n",
    "import pandas as pd\n",
    "import scipy.stats\n",
    "\n",
    "import nmflib.nmf"
   ]
  },
  {
   "cell_type": "markdown",
   "metadata": {},
   "source": [
    "## Load data"
   ]
  },
  {
   "cell_type": "code",
   "execution_count": 13,
   "metadata": {
    "ExecuteTime": {
     "end_time": "2019-12-23T03:09:24.905024Z",
     "start_time": "2019-12-23T03:09:24.890968Z"
    }
   },
   "outputs": [],
   "source": [
    "def load_syn_data(r=10):\n",
    "    datadir = 'test_data'\n",
    "    W = pd.read_csv(datadir + '/ground.truth.syn.sigs.csv.gz',\n",
    "                    index_col=[0, 1],\n",
    "                    header=0)\n",
    "    H = pd.read_csv(datadir +\n",
    "                    '/ground.truth.syn.exposures.csv.gz',\n",
    "                    index_col=0,\n",
    "                    header=0)\n",
    "    \n",
    "    # Compute S, O and X_exp.\n",
    "    X_exp = W.dot(H)\n",
    "    S = scipy.stats.uniform.rvs(0.05,\n",
    "                                1 - 0.05,\n",
    "                                X_exp.shape)\n",
    "    X_exp *= S\n",
    "    O = scipy.stats.uniform.rvs(\n",
    "        0.5,\n",
    "        1 - 0.5,\n",
    "        X_exp.shape)\n",
    "    O *= X_exp.values\n",
    "    X_exp -= O\n",
    "\n",
    "    # Simulate random counts.\n",
    "    p = nmflib.nmf._nb_p(X_exp, r)\n",
    "    X_obs = scipy.stats.nbinom.rvs(r, p)\n",
    "    return X_obs, W, H, S, O, r"
   ]
  },
  {
   "cell_type": "code",
   "execution_count": 14,
   "metadata": {
    "ExecuteTime": {
     "end_time": "2019-12-23T03:09:27.650727Z",
     "start_time": "2019-12-23T03:09:24.908564Z"
    }
   },
   "outputs": [],
   "source": [
    "np.random.seed(0)\n",
    "X_obs, W_true, H_true, S_true, O_true, r_true = load_syn_data()"
   ]
  },
  {
   "cell_type": "markdown",
   "metadata": {},
   "source": [
    "## Actual profiling"
   ]
  },
  {
   "cell_type": "code",
   "execution_count": 38,
   "metadata": {
    "ExecuteTime": {
     "end_time": "2019-12-23T03:53:10.581881Z",
     "start_time": "2019-12-23T03:53:10.561782Z"
    }
   },
   "outputs": [
    {
     "data": {
      "text/plain": [
       "<module 'nmflib.nmf' from '/Users/yl3/github/genomics/nmflib/src/nmflib/nmf.py'>"
      ]
     },
     "execution_count": 38,
     "metadata": {},
     "output_type": "execute_result"
    }
   ],
   "source": [
    "import importlib\n",
    "importlib.reload(nmflib.nmf)"
   ]
  },
  {
   "cell_type": "code",
   "execution_count": 39,
   "metadata": {
    "ExecuteTime": {
     "end_time": "2019-12-23T03:53:35.786914Z",
     "start_time": "2019-12-23T03:53:10.877757Z"
    },
    "scrolled": true
   },
   "outputs": [
    {
     "name": "stderr",
     "output_type": "stream",
     "text": [
      "INFO:root:Loglik change on updating W is -654.6024168655276\n",
      "INFO:root:Loglik change on updating H is -298.33660896867514\n",
      "INFO:root:Loglik change on updating r is -548873.6750426218\n",
      "INFO:root:Updated r is 0.8279975471749235\n",
      "INFO:root:Loglik change on updating W is -1833.6838594302535\n",
      "INFO:root:Loglik change on updating H is -2374.017664756626\n",
      "INFO:root:Loglik change on updating r is -64.13712669909\n",
      "INFO:root:Updated r is 0.8574398856194199\n",
      "INFO:root:Loglik change on updating W is -342.229667622596\n",
      "INFO:root:Loglik change on updating H is -1117.4259266033769\n",
      "INFO:root:Loglik change on updating W is -176.30485689267516\n",
      "INFO:root:Loglik change on updating H is -675.9363882243633\n",
      "INFO:root:Loglik change on updating r is -18.48007033765316\n",
      "INFO:root:Updated r is 0.8736968169597801\n",
      "INFO:root:Loglik change on updating W is -153.37953946739435\n",
      "INFO:root:Loglik change on updating H is -509.13095704466105\n",
      "INFO:root:Loglik change on updating W is -168.3590913042426\n",
      "INFO:root:Loglik change on updating H is -444.02828665822744\n",
      "INFO:root:Loglik change on updating W is -197.25959122553468\n",
      "INFO:root:Loglik change on updating H is -422.1394377760589\n",
      "INFO:root:Loglik change on updating r is -9.592706896364689\n",
      "INFO:root:Updated r is 0.8856102226520176\n",
      "INFO:root:Loglik change on updating W is -229.34674029424787\n",
      "INFO:root:Loglik change on updating H is -417.67401299253106\n",
      "INFO:root:Loglik change on updating W is -254.66514433547854\n",
      "INFO:root:Loglik change on updating H is -411.31829128041863\n",
      "INFO:root:Loglik change on updating W is -271.30827694386244\n",
      "INFO:root:Loglik change on updating H is -401.36300503090024\n",
      "INFO:root:Iteration 10 after 4.151 seconds, error: -27111327.50672313\n",
      "INFO:root:Loglik change on updating W is -278.0625663846731\n",
      "INFO:root:Loglik change on updating H is -386.1839796602726\n",
      "INFO:root:Loglik change on updating W is -275.741646874696\n",
      "INFO:root:Loglik change on updating H is -366.45469664409757\n",
      "INFO:root:Loglik change on updating r is -24.42948652803898\n",
      "INFO:root:Updated r is 0.9049980171947398\n",
      "INFO:root:Loglik change on updating W is -269.84063719958067\n",
      "INFO:root:Loglik change on updating H is -348.1440706476569\n",
      "INFO:root:Loglik change on updating W is -256.0538251027465\n",
      "INFO:root:Loglik change on updating H is -323.49550677090883\n",
      "INFO:root:Loglik change on updating W is -239.18447107076645\n",
      "INFO:root:Loglik change on updating H is -298.2097790837288\n",
      "INFO:root:Loglik change on updating W is -220.93515980616212\n",
      "INFO:root:Loglik change on updating H is -272.78447630628943\n",
      "INFO:root:Loglik change on updating W is -202.439589638263\n",
      "INFO:root:Loglik change on updating H is -248.03915697708726\n",
      "INFO:root:Loglik change on updating W is -184.53713186085224\n",
      "INFO:root:Loglik change on updating H is -224.82256472110748\n",
      "INFO:root:Loglik change on updating W is -167.700817566365\n",
      "INFO:root:Loglik change on updating H is -203.2646818011999\n",
      "INFO:root:Loglik change on updating r is -27.518963273614645\n",
      "INFO:root:Updated r is 0.9260795526362898\n",
      "INFO:root:Loglik change on updating W is -154.13932952284813\n",
      "INFO:root:Loglik change on updating H is -185.98888117447495\n",
      "INFO:root:Iteration 20 after 6.210 seconds, error: -27116485.478141744\n",
      "INFO:root:error difference = 0.01989958109033731\n",
      "INFO:root:Loglik change on updating W is -139.80241706222296\n",
      "INFO:root:Loglik change on updating H is -167.47931840270758\n",
      "INFO:root:Loglik change on updating W is -126.31384680047631\n",
      "INFO:root:Loglik change on updating H is -150.90424071252346\n",
      "INFO:root:Loglik change on updating W is -113.95534529909492\n",
      "INFO:root:Loglik change on updating H is -136.139319550246\n",
      "INFO:root:Loglik change on updating W is -102.74181566014886\n",
      "INFO:root:Loglik change on updating H is -122.75759780779481\n",
      "INFO:root:Loglik change on updating W is -92.53422529622912\n",
      "INFO:root:Loglik change on updating H is -110.28678565099835\n",
      "INFO:root:Loglik change on updating W is -83.1919829659164\n",
      "INFO:root:Loglik change on updating H is -98.82301872223616\n",
      "INFO:root:Loglik change on updating W is -74.6664249189198\n",
      "INFO:root:Loglik change on updating H is -88.5821477137506\n",
      "INFO:root:Loglik change on updating W is -66.95109247416258\n",
      "INFO:root:Loglik change on updating H is -79.64773362502456\n",
      "INFO:root:Loglik change on updating W is -60.06596825271845\n",
      "INFO:root:Loglik change on updating H is -71.90346788987517\n",
      "INFO:root:Loglik change on updating W is -53.994834933429956\n",
      "INFO:root:Loglik change on updating H is -65.10438901931047\n",
      "INFO:root:Loglik change on updating r is -13.65169795230031\n",
      "INFO:root:Updated r is 0.9412383819445924\n",
      "INFO:root:Iteration 30 after 7.647 seconds, error: -27118504.975812454\n",
      "INFO:root:error difference = 0.007791271877739533\n",
      "INFO:root:Loglik change on updating W is -49.17708904668689\n",
      "INFO:root:Loglik change on updating H is -59.793420273810625\n",
      "INFO:root:Loglik change on updating W is -44.60283738747239\n",
      "INFO:root:Loglik change on updating H is -54.48544843867421\n",
      "INFO:root:Loglik change on updating W is -40.49245435744524\n",
      "INFO:root:Loglik change on updating H is -49.87176361307502\n",
      "INFO:root:Loglik change on updating W is -36.84848626703024\n",
      "INFO:root:Loglik change on updating H is -45.85938526690006\n",
      "INFO:root:Loglik change on updating W is -33.60114434361458\n",
      "INFO:root:Loglik change on updating H is -42.470187678933144\n",
      "INFO:root:Loglik change on updating W is -30.709663927555084\n",
      "INFO:root:Loglik change on updating H is -39.69881025329232\n",
      "INFO:root:Loglik change on updating W is -28.146376207470894\n",
      "INFO:root:Loglik change on updating H is -37.29635393247008\n",
      "INFO:root:Loglik change on updating W is -25.859555196017027\n",
      "INFO:root:Loglik change on updating H is -34.87089668959379\n",
      "INFO:root:Loglik change on updating W is -23.786466848105192\n",
      "INFO:root:Loglik change on updating H is -32.52203516289592\n",
      "INFO:root:Loglik change on updating W is -21.903054125607014\n",
      "INFO:root:Loglik change on updating H is -30.482626270502806\n",
      "INFO:root:Iteration 40 after 8.754 seconds, error: -27119267.45386774\n",
      "INFO:root:error difference = 0.0029416591639164834\n",
      "INFO:root:Loglik change on updating W is -20.211355295032263\n",
      "INFO:root:Loglik change on updating H is -28.78415936231613\n",
      "INFO:root:Loglik change on updating W is -18.72275920584798\n",
      "INFO:root:Loglik change on updating H is -27.36813187599182\n",
      "INFO:root:Loglik change on updating W is -17.436837501823902\n",
      "INFO:root:Loglik change on updating H is -25.98664714768529\n",
      "INFO:root:Loglik change on updating W is -16.29891586303711\n",
      "INFO:root:Loglik change on updating H is -24.233277667313814\n",
      "INFO:root:Loglik change on updating W is -15.203965187072754\n",
      "INFO:root:Loglik change on updating H is -22.322416961193085\n",
      "INFO:root:Loglik change on updating W is -14.137139897793531\n",
      "INFO:root:Loglik change on updating H is -20.869454514235258\n",
      "INFO:root:Loglik change on updating W is -13.143581982702017\n",
      "INFO:root:Loglik change on updating H is -19.727520644664764\n",
      "INFO:root:Loglik change on updating r is -2.783524304628372\n",
      "INFO:root:Updated r is 0.9481651898786683\n",
      "INFO:root:Loglik change on updating W is -12.289210837334394\n",
      "INFO:root:Loglik change on updating H is -18.710510332137346\n",
      "INFO:root:Loglik change on updating W is -11.453251160681248\n",
      "INFO:root:Loglik change on updating H is -17.526994042098522\n",
      "INFO:root:Loglik change on updating W is -10.644699059426785\n",
      "INFO:root:Loglik change on updating H is -16.364403005689383\n",
      "INFO:root:Iteration 50 after 10.187 seconds, error: -27119641.67262359\n",
      "INFO:root:error difference = 0.001443745200033587\n",
      "INFO:root:Loglik change on updating W is -9.886219806969166\n",
      "INFO:root:Loglik change on updating H is -15.398144073784351\n",
      "INFO:root:Loglik change on updating W is -9.197646223008633\n",
      "INFO:root:Loglik change on updating H is -14.675390366464853\n",
      "INFO:root:Loglik change on updating W is -8.585261344909668\n",
      "INFO:root:Loglik change on updating H is -14.10420859605074\n",
      "INFO:root:Loglik change on updating W is -8.047765661031008\n",
      "INFO:root:Loglik change on updating H is -13.6543351970613\n",
      "INFO:root:Loglik change on updating W is -7.590671710669994\n",
      "INFO:root:Loglik change on updating H is -13.306415442377329\n",
      "INFO:root:Loglik change on updating W is -7.209467101842165\n",
      "INFO:root:Loglik change on updating H is -12.91980142146349\n",
      "INFO:root:Loglik change on updating W is -6.881104625761509\n"
     ]
    },
    {
     "name": "stderr",
     "output_type": "stream",
     "text": [
      "INFO:root:Loglik change on updating H is -12.447245970368385\n",
      "INFO:root:Loglik change on updating W is -6.588500551879406\n",
      "INFO:root:Loglik change on updating H is -11.962687999010086\n",
      "INFO:root:Loglik change on updating W is -6.318550925701857\n",
      "INFO:root:Loglik change on updating H is -11.441335402429104\n",
      "INFO:root:Loglik change on updating W is -6.049777086824179\n",
      "INFO:root:Loglik change on updating H is -10.92110750824213\n",
      "INFO:root:Iteration 60 after 11.305 seconds, error: -27119848.858260605\n",
      "INFO:root:error difference = 0.0007993273033018879\n",
      "INFO:root:Loglik change on updating W is -5.782559763640165\n",
      "INFO:root:Loglik change on updating H is -10.53912964463234\n",
      "INFO:root:Loglik change on updating W is -5.534420620650053\n",
      "INFO:root:Loglik change on updating H is -10.329353634268045\n",
      "INFO:root:Loglik change on updating W is -5.315052654594183\n",
      "INFO:root:Loglik change on updating H is -10.244514629244804\n",
      "INFO:root:Loglik change on updating W is -5.122845601290464\n",
      "INFO:root:Loglik change on updating H is -10.21188685297966\n",
      "INFO:root:Loglik change on updating W is -4.951968248933554\n",
      "INFO:root:Loglik change on updating H is -10.206120632588863\n",
      "INFO:root:Loglik change on updating W is -4.7983259335160255\n",
      "INFO:root:Loglik change on updating H is -10.089427061378956\n",
      "INFO:root:Loglik change on updating W is -4.649457931518555\n",
      "INFO:root:Loglik change on updating H is -9.814755521714687\n",
      "INFO:root:Loglik change on updating W is -4.502462569624186\n",
      "INFO:root:Loglik change on updating H is -9.656779695302248\n",
      "INFO:root:Loglik change on updating W is -4.3862579464912415\n",
      "INFO:root:Loglik change on updating H is -9.608942050486803\n",
      "INFO:root:Loglik change on updating W is -4.310523610562086\n",
      "INFO:root:Loglik change on updating H is -9.124636821448803\n",
      "INFO:root:Iteration 70 after 12.440 seconds, error: -27119998.03768203\n",
      "INFO:root:error difference = 0.0005755378912996363\n",
      "INFO:root:Loglik change on updating W is -4.194349884986877\n",
      "INFO:root:Loglik change on updating H is -8.091575141996145\n",
      "INFO:root:Loglik change on updating W is -3.988463658839464\n",
      "INFO:root:Loglik change on updating H is -7.2135010324418545\n",
      "INFO:root:Loglik change on updating r is -0.4932800494134426\n",
      "INFO:root:Updated r is 0.9510961808614312\n",
      "INFO:root:Loglik change on updating W is -3.752591408789158\n",
      "INFO:root:Loglik change on updating H is -6.701891366392374\n",
      "INFO:root:Loglik change on updating W is -3.5137027353048325\n",
      "INFO:root:Loglik change on updating H is -6.375839237123728\n",
      "INFO:root:Loglik change on updating W is -3.2837234809994698\n",
      "INFO:root:Loglik change on updating H is -6.081788834184408\n",
      "INFO:root:Loglik change on updating W is -3.066759280860424\n",
      "INFO:root:Loglik change on updating H is -5.765978414565325\n",
      "INFO:root:Loglik change on updating W is -2.8660972081124783\n",
      "INFO:root:Loglik change on updating H is -5.481458108872175\n",
      "INFO:root:Loglik change on updating W is -2.686367128044367\n",
      "INFO:root:Loglik change on updating H is -5.272348560392857\n",
      "INFO:root:Loglik change on updating W is -2.5291222520172596\n",
      "INFO:root:Loglik change on updating H is -5.118372239172459\n",
      "INFO:root:Loglik change on updating W is -2.391484472900629\n",
      "INFO:root:Loglik change on updating H is -4.977543108165264\n",
      "INFO:root:Iteration 80 after 13.818 seconds, error: -27120091.883919634\n",
      "INFO:root:error difference = 0.00036206110186564423\n",
      "INFO:root:Loglik change on updating W is -2.26865765824914\n",
      "INFO:root:Loglik change on updating H is -4.8797216936945915\n",
      "INFO:root:Loglik change on updating W is -2.159028399735689\n",
      "INFO:root:Loglik change on updating H is -4.922847118228674\n",
      "INFO:root:Loglik change on updating W is -2.0654762387275696\n",
      "INFO:root:Loglik change on updating H is -5.074991766363382\n",
      "INFO:root:Loglik change on updating W is -1.9891600795090199\n",
      "INFO:root:Loglik change on updating H is -5.1352092288434505\n",
      "INFO:root:Loglik change on updating W is -1.9241710975766182\n",
      "INFO:root:Loglik change on updating H is -4.997994881123304\n",
      "INFO:root:Loglik change on updating W is -1.8632207438349724\n",
      "INFO:root:Loglik change on updating H is -4.831389993429184\n",
      "INFO:root:Loglik change on updating W is -1.8022336922585964\n",
      "INFO:root:Loglik change on updating H is -4.647338829934597\n",
      "INFO:root:Loglik change on updating W is -1.736612606793642\n",
      "INFO:root:Loglik change on updating H is -4.426132641732693\n",
      "INFO:root:Loglik change on updating W is -1.6704138405621052\n",
      "INFO:root:Loglik change on updating H is -4.3099583350121975\n",
      "INFO:root:Loglik change on updating W is -1.6116792634129524\n",
      "INFO:root:Loglik change on updating H is -4.398386165499687\n",
      "INFO:root:Iteration 90 after 14.904 seconds, error: -27120158.59854391\n",
      "INFO:root:error difference = 0.0002573866677257796\n",
      "INFO:root:Loglik change on updating W is -1.5657302662730217\n",
      "INFO:root:Loglik change on updating H is -4.605801969766617\n",
      "INFO:root:Loglik change on updating W is -1.5336181856691837\n",
      "INFO:root:Loglik change on updating H is -4.71345978975296\n",
      "INFO:root:Loglik change on updating W is -1.5110202096402645\n",
      "INFO:root:Loglik change on updating H is -4.5892678163945675\n",
      "INFO:root:Loglik change on updating W is -1.4897493720054626\n",
      "INFO:root:Loglik change on updating H is -4.360352545976639\n",
      "INFO:root:Loglik change on updating W is -1.4646324887871742\n",
      "INFO:root:Loglik change on updating H is -4.144549995660782\n",
      "INFO:root:Loglik change on updating W is -1.4305200539529324\n",
      "INFO:root:Loglik change on updating H is -3.82491797208786\n",
      "INFO:root:Loglik change on updating W is -1.3786198943853378\n",
      "INFO:root:Loglik change on updating H is -3.586487364023924\n",
      "INFO:root:Loglik change on updating W is -1.3194999732077122\n",
      "INFO:root:Loglik change on updating H is -3.5631744787096977\n",
      "INFO:root:Loglik change on updating W is -1.2640881165862083\n",
      "INFO:root:Loglik change on updating H is -3.578121054917574\n",
      "INFO:root:Loglik change on updating W is -1.2141534984111786\n",
      "INFO:root:Loglik change on updating H is -3.4922772012650967\n",
      "INFO:root:Iteration 100 after 16.117 seconds, error: -27120213.228586156\n",
      "INFO:root:error difference = 0.00021076405188068747\n",
      "INFO:root:Loglik change on updating W is -1.1680846735835075\n",
      "INFO:root:Loglik change on updating H is -3.3412702456116676\n",
      "INFO:root:Loglik change on updating W is -1.1251947842538357\n",
      "INFO:root:Loglik change on updating H is -3.2105506770312786\n",
      "INFO:root:Loglik change on updating W is -1.0853140838444233\n",
      "INFO:root:Loglik change on updating H is -3.1232698187232018\n",
      "INFO:root:Loglik change on updating W is -1.0484320633113384\n",
      "INFO:root:Loglik change on updating H is -3.0780938789248466\n",
      "INFO:root:Loglik change on updating W is -1.015379711985588\n",
      "INFO:root:Loglik change on updating H is -3.068171128630638\n",
      "INFO:root:Loglik change on updating W is -0.9882062040269375\n",
      "INFO:root:Loglik change on updating H is -3.0638536103069782\n",
      "INFO:root:Loglik change on updating W is -0.9680426381528378\n",
      "INFO:root:Loglik change on updating H is -2.9728117920458317\n",
      "INFO:root:Loglik change on updating W is -0.9472024403512478\n",
      "INFO:root:Loglik change on updating H is -2.770174514502287\n",
      "INFO:root:Loglik change on updating W is -0.9170419462025166\n",
      "INFO:root:Loglik change on updating H is -2.5868442729115486\n",
      "INFO:root:Loglik change on updating W is -0.8802707940340042\n",
      "INFO:root:Loglik change on updating H is -2.434647485613823\n",
      "INFO:root:Loglik change on updating r is -0.10269706323742867\n",
      "INFO:root:Updated r is 0.9524364617395347\n",
      "INFO:root:Iteration 110 after 17.783 seconds, error: -27120253.124139983\n",
      "INFO:root:error difference = 0.00015391803174107164\n",
      "INFO:root:Loglik change on updating W is -0.8419994153082371\n",
      "INFO:root:Loglik change on updating H is -2.329554047435522\n",
      "INFO:root:Loglik change on updating W is -0.804352767765522\n",
      "INFO:root:Loglik change on updating H is -2.303521938621998\n",
      "INFO:root:Loglik change on updating W is -0.7712111324071884\n",
      "INFO:root:Loglik change on updating H is -2.3130722902715206\n",
      "INFO:root:Loglik change on updating W is -0.7462298311293125\n",
      "INFO:root:Loglik change on updating H is -2.333317343145609\n",
      "INFO:root:Loglik change on updating W is -0.7326531819999218\n",
      "INFO:root:Loglik change on updating H is -2.369727812707424\n",
      "INFO:root:Loglik change on updating W is -0.7316274493932724\n",
      "INFO:root:Loglik change on updating H is -2.395110797137022\n",
      "INFO:root:Loglik change on updating W is -0.7343296743929386\n"
     ]
    },
    {
     "name": "stderr",
     "output_type": "stream",
     "text": [
      "INFO:root:Loglik change on updating H is -2.4046318903565407\n",
      "INFO:root:Loglik change on updating W is -0.7289247065782547\n",
      "INFO:root:Loglik change on updating H is -2.3775899037718773\n",
      "INFO:root:Loglik change on updating W is -0.7174245044589043\n",
      "INFO:root:Loglik change on updating H is -2.373893588781357\n",
      "INFO:root:Loglik change on updating W is -0.7097682021558285\n",
      "INFO:root:Loglik change on updating H is -2.394626311957836\n",
      "INFO:root:Iteration 120 after 19.142 seconds, error: -27120284.237706773\n",
      "INFO:root:error difference = 0.00012003690891117317\n",
      "INFO:root:Loglik change on updating W is -0.7053102850914001\n",
      "INFO:root:Loglik change on updating H is -2.357743702828884\n",
      "INFO:root:Loglik change on updating W is -0.6985336542129517\n",
      "INFO:root:Loglik change on updating H is -2.423633713275194\n",
      "INFO:root:Loglik change on updating W is -0.6915742605924606\n",
      "INFO:root:Loglik change on updating H is -2.570873945951462\n",
      "INFO:root:Loglik change on updating W is -0.6846610084176064\n",
      "INFO:root:Loglik change on updating H is -2.7171438485383987\n",
      "INFO:root:Loglik change on updating W is -0.6790572628378868\n",
      "INFO:root:Loglik change on updating H is -2.852891057729721\n",
      "INFO:root:Loglik change on updating W is -0.6801848262548447\n",
      "INFO:root:Loglik change on updating H is -2.8901940546929836\n",
      "INFO:root:Loglik change on updating W is -0.6847919523715973\n",
      "INFO:root:Loglik change on updating H is -2.8033324629068375\n",
      "INFO:root:Loglik change on updating W is -0.6820523217320442\n",
      "INFO:root:Loglik change on updating H is -2.7592745907604694\n",
      "INFO:root:Loglik change on updating W is -0.6639648787677288\n",
      "INFO:root:Loglik change on updating H is -2.4992900416254997\n",
      "INFO:root:Loglik change on updating W is -0.6332468688488007\n",
      "INFO:root:Loglik change on updating H is -1.9559761099517345\n",
      "INFO:root:Iteration 130 after 20.490 seconds, error: -27120316.87143762\n",
      "INFO:root:error difference = 0.0001259017393803569\n",
      "INFO:root:Loglik change on updating W is -0.5991711132228374\n",
      "INFO:root:Loglik change on updating H is -1.7022310234606266\n",
      "INFO:root:Loglik change on updating W is -0.5676108561456203\n",
      "INFO:root:Loglik change on updating H is -1.6445659175515175\n",
      "INFO:root:Loglik change on updating W is -0.5416866019368172\n",
      "INFO:root:Loglik change on updating H is -1.676812019199133\n",
      "INFO:root:Loglik change on updating W is -0.5249288007616997\n",
      "INFO:root:Loglik change on updating H is -1.8014964535832405\n",
      "INFO:root:Loglik change on updating W is -0.5208653993904591\n",
      "INFO:root:Loglik change on updating H is -1.9114092402160168\n",
      "INFO:root:Loglik change on updating W is -0.5233743004500866\n",
      "INFO:root:Loglik change on updating H is -1.848880223929882\n",
      "INFO:root:Loglik change on updating W is -0.5183051973581314\n",
      "INFO:root:Loglik change on updating H is -1.734991043806076\n",
      "INFO:root:Loglik change on updating W is -0.5055868588387966\n",
      "INFO:root:Loglik change on updating H is -1.6960390657186508\n",
      "INFO:root:Loglik change on updating W is -0.49164077639579773\n",
      "INFO:root:Loglik change on updating H is -1.7195500805974007\n",
      "INFO:root:Loglik change on updating W is -0.4795611724257469\n",
      "INFO:root:Loglik change on updating H is -1.7860471680760384\n",
      "INFO:root:Iteration 140 after 21.765 seconds, error: -27120339.666190933\n",
      "INFO:root:error difference = 8.794272111521827e-05\n",
      "INFO:root:Iteration 140 after 21.777 seconds, W and H converged, error: -27120339.666190933\n",
      "INFO:root:Loglik change on updating W is -0.47047579288482666\n",
      "INFO:root:Loglik change on updating H is -1.8867792896926403\n",
      "INFO:root:Loglik change on updating r is -0.016024384647607803\n",
      "INFO:root:Updated r is 0.9529660124815195\n",
      "INFO:root:Loglik change on updating W is -0.4660622626543045\n",
      "INFO:root:Loglik change on updating H is -2.046058028936386\n",
      "INFO:root:Loglik change on updating r is -2.2433698177337646e-05\n",
      "INFO:root:Updated r is 0.9529858456818556\n",
      "INFO:root:Loglik change on updating W is -0.47250282764434814\n",
      "INFO:root:Loglik change on updating H is -2.2828195318579674\n",
      "INFO:root:Loglik change on updating r is -2.428889274597168e-05\n",
      "INFO:root:Updated r is 0.9530064832942078\n",
      "INFO:root:Loglik change on updating W is -0.5082838721573353\n",
      "INFO:root:Loglik change on updating H is -2.419897861778736\n",
      "INFO:root:Loglik change on updating r is -2.8096139430999756e-05\n",
      "INFO:root:Updated r is 0.9530286763936464\n",
      "INFO:root:Loglik change on updating W is -0.5707489214837551\n",
      "INFO:root:Loglik change on updating H is -2.1079021841287613\n",
      "INFO:root:Loglik change on updating r is -2.3856759071350098e-05\n",
      "INFO:root:Updated r is 0.9530491334537282\n",
      "INFO:root:Loglik change on updating W is -0.5956257432699203\n",
      "INFO:root:Loglik change on updating H is -1.613999105989933\n",
      "INFO:root:Loglik change on updating r is -1.5739351511001587e-05\n",
      "INFO:root:Updated r is 0.9530657431313685\n",
      "INFO:root:Loglik change on updating W is -0.5747989974915981\n",
      "INFO:root:Loglik change on updating H is -1.3762326389551163\n",
      "INFO:root:Loglik change on updating r is -1.1801719665527344e-05\n",
      "INFO:root:Updated r is 0.9530801310346655\n",
      "INFO:root:Loglik change on updating W is -0.5404397062957287\n",
      "INFO:root:Loglik change on updating H is -1.3036321438848972\n",
      "INFO:root:Loglik change on updating r is -1.0196119546890259e-05\n",
      "INFO:root:Updated r is 0.9530935001380911\n",
      "INFO:root:Loglik change on updating W is -0.5057562179863453\n",
      "INFO:root:Loglik change on updating H is -1.293436635285616\n",
      "INFO:root:Loglik change on updating r is -9.272247552871704e-06\n",
      "INFO:root:Updated r is 0.9531062581523625\n",
      "INFO:root:Loglik change on updating W is -0.47371581569314003\n",
      "INFO:root:Loglik change on updating H is -1.3157565146684647\n",
      "INFO:root:Loglik change on updating r is -8.672475814819336e-06\n",
      "INFO:root:Updated r is 0.9531185915071937\n",
      "INFO:root:Iteration 150 after 24.879 seconds, error: -27120362.50729377\n",
      "INFO:root:error difference = 8.812153871447124e-05\n"
     ]
    }
   ],
   "source": [
    "%lprun -f nmflib.nmf._iterate_nmf_fit nmflib.nmf.fit(X_obs, 21, S_true, O_true, True, max_iter = 2000, verbose=True)"
   ]
  }
 ],
 "metadata": {
  "kernelspec": {
   "display_name": "Python 3",
   "language": "python",
   "name": "python3"
  },
  "language_info": {
   "codemirror_mode": {
    "name": "ipython",
    "version": 3
   },
   "file_extension": ".py",
   "mimetype": "text/x-python",
   "name": "python",
   "nbconvert_exporter": "python",
   "pygments_lexer": "ipython3",
   "version": "3.7.3"
  },
  "toc": {
   "base_numbering": 1,
   "nav_menu": {},
   "number_sections": true,
   "sideBar": true,
   "skip_h1_title": true,
   "title_cell": "Table of Contents",
   "title_sidebar": "Contents",
   "toc_cell": false,
   "toc_position": {},
   "toc_section_display": true,
   "toc_window_display": true
  }
 },
 "nbformat": 4,
 "nbformat_minor": 2
}
