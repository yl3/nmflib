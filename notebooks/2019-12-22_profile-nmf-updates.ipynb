{
 "cells": [
  {
   "cell_type": "markdown",
   "metadata": {},
   "source": [
    "# Line profiling nbinom NMF updates"
   ]
  },
  {
   "cell_type": "code",
   "execution_count": 1,
   "metadata": {
    "ExecuteTime": {
     "end_time": "2019-12-23T02:31:08.812828Z",
     "start_time": "2019-12-23T02:31:08.794782Z"
    }
   },
   "outputs": [],
   "source": [
    "%load_ext line_profiler"
   ]
  },
  {
   "cell_type": "markdown",
   "metadata": {},
   "source": [
    "## Setup"
   ]
  },
  {
   "cell_type": "code",
   "execution_count": 2,
   "metadata": {
    "ExecuteTime": {
     "end_time": "2019-12-23T02:31:08.843569Z",
     "start_time": "2019-12-23T02:31:08.816657Z"
    }
   },
   "outputs": [
    {
     "data": {
      "text/plain": [
       "'/Users/yl3/github/genomics/nmflib'"
      ]
     },
     "execution_count": 2,
     "metadata": {},
     "output_type": "execute_result"
    }
   ],
   "source": [
    "import os\n",
    "while not os.path.exists('test_data'):\n",
    "    os.chdir('..')\n",
    "os.getcwd()"
   ]
  },
  {
   "cell_type": "code",
   "execution_count": 3,
   "metadata": {
    "ExecuteTime": {
     "end_time": "2019-12-23T02:31:08.853382Z",
     "start_time": "2019-12-23T02:31:08.847399Z"
    }
   },
   "outputs": [],
   "source": [
    "import logging\n",
    "logger = logging.getLogger()\n",
    "logger.setLevel(logging.INFO)"
   ]
  },
  {
   "cell_type": "code",
   "execution_count": 4,
   "metadata": {
    "ExecuteTime": {
     "end_time": "2019-12-23T02:31:10.489238Z",
     "start_time": "2019-12-23T02:31:08.858213Z"
    }
   },
   "outputs": [],
   "source": [
    "import numpy as np\n",
    "import pandas as pd\n",
    "import scipy.stats\n",
    "\n",
    "import nmflib.nmf"
   ]
  },
  {
   "cell_type": "markdown",
   "metadata": {},
   "source": [
    "## Load data"
   ]
  },
  {
   "cell_type": "code",
   "execution_count": 5,
   "metadata": {
    "ExecuteTime": {
     "end_time": "2019-12-23T02:31:10.506128Z",
     "start_time": "2019-12-23T02:31:10.492624Z"
    }
   },
   "outputs": [],
   "source": [
    "def load_syn_data(r=10):\n",
    "    datadir = 'test_data'\n",
    "    W = pd.read_csv(datadir + '/ground.truth.syn.sigs.csv.gz',\n",
    "                    index_col=[0, 1],\n",
    "                    header=0)\n",
    "    H = pd.read_csv(datadir +\n",
    "                    '/ground.truth.syn.exposures.csv.gz',\n",
    "                    index_col=0,\n",
    "                    header=0)\n",
    "    \n",
    "    # Compute S, O and X_exp.\n",
    "    X_exp = W.dot(H)\n",
    "    S = scipy.stats.uniform.rvs(0.05,\n",
    "                                1 - 0.05,\n",
    "                                X_exp.shape)\n",
    "    X_exp *= S\n",
    "    O = scipy.stats.uniform.rvs(\n",
    "        0.5,\n",
    "        1 - 0.5,\n",
    "        X_exp.shape)\n",
    "    O *= X_exp.values\n",
    "    X_exp -= O\n",
    "\n",
    "    # Simulate random counts.\n",
    "    p = nmflib.nmf._nb_p(X_exp, r)\n",
    "    X_obs = scipy.stats.nbinom.rvs(r, p)\n",
    "    return X_obs, W, H, S, O, r"
   ]
  },
  {
   "cell_type": "code",
   "execution_count": 6,
   "metadata": {
    "ExecuteTime": {
     "end_time": "2019-12-23T02:31:12.490977Z",
     "start_time": "2019-12-23T02:31:10.510023Z"
    }
   },
   "outputs": [],
   "source": [
    "np.random.seed(0)\n",
    "X_obs, W_true, H_true, S_true, O_true, r_true = load_syn_data()"
   ]
  },
  {
   "cell_type": "markdown",
   "metadata": {},
   "source": [
    "## Actual profiling"
   ]
  },
  {
   "cell_type": "code",
   "execution_count": 7,
   "metadata": {
    "ExecuteTime": {
     "end_time": "2019-12-23T02:31:12.500968Z",
     "start_time": "2019-12-23T02:31:12.493432Z"
    }
   },
   "outputs": [
    {
     "data": {
      "text/plain": [
       "<module 'nmflib.nmf' from '/Users/yl3/github/genomics/nmflib/src/nmflib/nmf.py'>"
      ]
     },
     "execution_count": 7,
     "metadata": {},
     "output_type": "execute_result"
    }
   ],
   "source": [
    "import importlib\n",
    "importlib.reload(nmflib.nmf)"
   ]
  },
  {
   "cell_type": "code",
   "execution_count": 8,
   "metadata": {
    "ExecuteTime": {
     "end_time": "2019-12-23T02:31:48.220268Z",
     "start_time": "2019-12-23T02:31:12.504742Z"
    },
    "scrolled": true
   },
   "outputs": [
    {
     "name": "stderr",
     "output_type": "stream",
     "text": [
      "INFO:root:Loglik change on updating W is 648.062891693553\n",
      "INFO:root:Loglik change on updating H is 299.7375437361188\n",
      "INFO:root:Loglik change on updating r is 548596.298950528\n",
      "INFO:root:Updated r is 0.8279880305774335\n",
      "INFO:root:Loglik change on updating W is 1791.069751357776\n",
      "INFO:root:Loglik change on updating H is 2382.9524662148906\n",
      "INFO:root:Loglik change on updating r is 63.69419143488631\n",
      "INFO:root:Updated r is 0.8573256059075156\n",
      "INFO:root:Loglik change on updating W is 331.83371345873456\n",
      "INFO:root:Loglik change on updating H is 1118.0855693967314\n",
      "INFO:root:Loglik change on updating r is 7.606896870071068\n",
      "INFO:root:Updated r is 0.8677068109751234\n",
      "INFO:root:Loglik change on updating W is 171.70705436554272\n",
      "INFO:root:Loglik change on updating H is 680.5835255597485\n",
      "INFO:root:Loglik change on updating r is 2.379781933967024\n",
      "INFO:root:Updated r is 0.8735705749809028\n",
      "INFO:root:Loglik change on updating W is 150.18112839129753\n",
      "INFO:root:Loglik change on updating H is 510.6012069876306\n",
      "INFO:root:Loglik change on updating r is 1.2777497994247824\n",
      "INFO:root:Updated r is 0.8778939531477125\n",
      "INFO:root:Loglik change on updating W is 170.79008671431802\n",
      "INFO:root:Loglik change on updating H is 451.87238712841645\n",
      "INFO:root:Loglik change on updating r is 1.0197998308576643\n",
      "INFO:root:Updated r is 0.8817757789224037\n",
      "INFO:root:Loglik change on updating W is 206.40525741514284\n",
      "INFO:root:Loglik change on updating H is 435.3745031809667\n",
      "INFO:root:Loglik change on updating r is 1.0021302584791556\n",
      "INFO:root:Updated r is 0.8856420491789702\n",
      "INFO:root:Loglik change on updating W is 242.90575625828933\n",
      "INFO:root:Loglik change on updating H is 430.57153209485114\n",
      "INFO:root:Loglik change on updating r is 1.0559578135143965\n",
      "INFO:root:Updated r is 0.8896297346966501\n",
      "INFO:root:Loglik change on updating W is 272.0225166856544\n",
      "INFO:root:Loglik change on updating H is 425.0382511251373\n",
      "INFO:root:Loglik change on updating r is 1.111198698519729\n",
      "INFO:root:Updated r is 0.8937404130058088\n",
      "INFO:root:Loglik change on updating W is 289.9255884102313\n",
      "INFO:root:Loglik change on updating H is 414.43562145216856\n",
      "INFO:root:Loglik change on updating r is 1.1326307345880195\n",
      "INFO:root:Updated r is 0.8979112190797899\n",
      "INFO:root:Iteration 10 after 6.456 seconds, error: 850739.7950425548\n",
      "INFO:root:Loglik change on updating W is 296.1885641332483\n",
      "INFO:root:Loglik change on updating H is 398.44387648964766\n",
      "INFO:root:Loglik change on updating r is 1.1080735508585349\n",
      "INFO:root:Updated r is 0.902057122459889\n",
      "INFO:root:Loglik change on updating W is 292.622944160481\n",
      "INFO:root:Loglik change on updating H is 378.71142782934476\n",
      "INFO:root:Loglik change on updating r is 1.0431016813963652\n",
      "INFO:root:Updated r is 0.9060993060473468\n",
      "INFO:root:Loglik change on updating W is 282.0718833556166\n",
      "INFO:root:Loglik change on updating H is 356.7245178713929\n",
      "INFO:root:Loglik change on updating r is 0.9514792755944654\n",
      "INFO:root:Updated r is 0.9099780703461281\n",
      "INFO:root:Loglik change on updating W is 267.125845920993\n",
      "INFO:root:Loglik change on updating H is 332.78463030653074\n",
      "INFO:root:Loglik change on updating r is 0.844981576432474\n",
      "INFO:root:Updated r is 0.9136496708843393\n",
      "INFO:root:Loglik change on updating W is 249.57845177920535\n",
      "INFO:root:Loglik change on updating H is 307.0238914620131\n",
      "INFO:root:Loglik change on updating r is 0.7319086625939235\n",
      "INFO:root:Updated r is 0.9170811129203799\n",
      "INFO:root:Loglik change on updating W is 230.66803375363816\n",
      "INFO:root:Loglik change on updating H is 279.92664829140995\n",
      "INFO:root:Loglik change on updating r is 0.618990958086215\n",
      "INFO:root:Updated r is 0.9202490171408716\n",
      "INFO:root:Loglik change on updating W is 211.2433747461764\n",
      "INFO:root:Loglik change on updating H is 252.3769201207906\n",
      "INFO:root:Loglik change on updating r is 0.5118645783513784\n",
      "INFO:root:Updated r is 0.9231400049466995\n",
      "INFO:root:Loglik change on updating W is 191.94072044221684\n",
      "INFO:root:Loglik change on updating H is 225.75613142119255\n",
      "INFO:root:Loglik change on updating r is 0.4159701276803389\n",
      "INFO:root:Updated r is 0.9257545352359134\n",
      "INFO:root:Loglik change on updating W is 173.32648997195065\n",
      "INFO:root:Loglik change on updating H is 201.1356027862057\n",
      "INFO:root:Loglik change on updating r is 0.33433486497960985\n",
      "INFO:root:Updated r is 0.9281052866126586\n",
      "INFO:root:Loglik change on updating W is 155.8391956211999\n",
      "INFO:root:Loglik change on updating H is 178.964915534365\n",
      "INFO:root:Loglik change on updating r is 0.26692282129079103\n",
      "INFO:root:Updated r is 0.9302111490771976\n",
      "INFO:root:Iteration 20 after 11.394 seconds, error: 845470.51334846\n",
      "INFO:root:Loglik change on updating W is 139.70337534102146\n",
      "INFO:root:Loglik change on updating H is 159.19853838928975\n",
      "INFO:root:Loglik change on updating r is 0.212077027419582\n",
      "INFO:root:Updated r is 0.9320925597438574\n",
      "INFO:root:Loglik change on updating W is 124.98856488917954\n",
      "INFO:root:Loglik change on updating H is 141.6522243859945\n",
      "INFO:root:Loglik change on updating r is 0.1680074806790799\n",
      "INFO:root:Updated r is 0.9337705525712161\n",
      "INFO:root:Loglik change on updating W is 111.72077553789131\n",
      "INFO:root:Loglik change on updating H is 126.28128293121699\n",
      "INFO:root:Loglik change on updating r is 0.13316913996823132\n",
      "INFO:root:Updated r is 0.9352671934870543\n",
      "INFO:root:Loglik change on updating W is 99.90674290154129\n",
      "INFO:root:Loglik change on updating H is 113.04743899800815\n",
      "INFO:root:Loglik change on updating r is 0.10606107348576188\n",
      "INFO:root:Updated r is 0.93660501100314\n",
      "INFO:root:Loglik change on updating W is 89.47560395742767\n",
      "INFO:root:Loglik change on updating H is 101.71069561247714\n",
      "INFO:root:Loglik change on updating r is 0.08507612720131874\n",
      "INFO:root:Updated r is 0.9378049254977453\n",
      "INFO:root:Loglik change on updating W is 80.30157381575555\n",
      "INFO:root:Loglik change on updating H is 91.96466374781448\n",
      "INFO:root:Loglik change on updating r is 0.0687430651159957\n",
      "INFO:root:Updated r is 0.9388849239939692\n",
      "INFO:root:Loglik change on updating W is 72.26631489302963\n",
      "INFO:root:Loglik change on updating H is 83.45152204029728\n",
      "INFO:root:Loglik change on updating r is 0.05588183784857392\n",
      "INFO:root:Updated r is 0.9398598002957312\n",
      "INFO:root:Loglik change on updating W is 65.26368459931109\n",
      "INFO:root:Loglik change on updating H is 75.92660522193182\n",
      "INFO:root:Loglik change on updating r is 0.045639697345905006\n",
      "INFO:root:Updated r is 0.9407406737783811\n",
      "INFO:root:Loglik change on updating W is 59.17503261298407\n",
      "INFO:root:Loglik change on updating H is 69.21159544552211\n",
      "INFO:root:Loglik change on updating r is 0.03753147064708173\n",
      "INFO:root:Updated r is 0.941540324504418\n",
      "INFO:root:Loglik change on updating W is 53.84629559726454\n",
      "INFO:root:Loglik change on updating H is 63.066054165246896\n",
      "INFO:root:Loglik change on updating r is 0.030856985365971923\n",
      "INFO:root:Updated r is 0.9422660897988028\n",
      "INFO:root:Iteration 30 after 15.581 seconds, error: 843547.4117194717\n",
      "INFO:root:Loglik change on updating W is 49.11681211332325\n",
      "INFO:root:Loglik change on updating H is 57.34795448672958\n",
      "INFO:root:Loglik change on updating r is 0.025378820253536105\n",
      "INFO:root:Updated r is 0.9429248580284397\n",
      "INFO:root:Loglik change on updating W is 44.86415371799376\n",
      "INFO:root:Loglik change on updating H is 52.086083009140566\n",
      "INFO:root:Loglik change on updating r is 0.020857003633864224\n",
      "INFO:root:Updated r is 0.9435225327004354\n",
      "INFO:root:Loglik change on updating W is 41.01721551467199\n",
      "INFO:root:Loglik change on updating H is 47.46452753338963\n",
      "INFO:root:Loglik change on updating r is 0.01721068879123777\n",
      "INFO:root:Updated r is 0.9440658422301328\n",
      "INFO:root:Loglik change on updating W is 37.5476568628801\n",
      "INFO:root:Loglik change on updating H is 43.62744679534808\n",
      "INFO:root:Loglik change on updating r is 0.01439858297817409\n",
      "INFO:root:Updated r is 0.9445631070548616\n",
      "INFO:root:Loglik change on updating W is 34.43703180423472\n",
      "INFO:root:Loglik change on updating H is 40.42109806940425\n",
      "INFO:root:Loglik change on updating r is 0.012255126959644258\n",
      "INFO:root:Updated r is 0.945022137298518\n",
      "INFO:root:Loglik change on updating W is 31.64512563426979\n",
      "INFO:root:Loglik change on updating H is 37.62482160725631\n",
      "INFO:root:Loglik change on updating r is 0.010559184709563851\n",
      "INFO:root:Updated r is 0.9454484532702789\n",
      "INFO:root:Loglik change on updating W is 29.120447725756094\n"
     ]
    },
    {
     "name": "stderr",
     "output_type": "stream",
     "text": [
      "INFO:root:Loglik change on updating H is 35.09370893484447\n",
      "INFO:root:Loglik change on updating r is 0.009145410032942891\n",
      "INFO:root:Updated r is 0.9458454025514405\n",
      "INFO:root:Loglik change on updating W is 26.814960546209477\n",
      "INFO:root:Loglik change on updating H is 32.71770828682929\n",
      "INFO:root:Loglik change on updating r is 0.007932609762065113\n",
      "INFO:root:Updated r is 0.946215267874436\n",
      "INFO:root:Loglik change on updating W is 24.702771191485226\n",
      "INFO:root:Loglik change on updating H is 30.75220780062955\n",
      "INFO:root:Loglik change on updating r is 0.006954298471100628\n",
      "INFO:root:Updated r is 0.9465617256343553\n",
      "INFO:root:Loglik change on updating W is 22.817278948845342\n",
      "INFO:root:Loglik change on updating H is 29.372212817776017\n",
      "INFO:root:Loglik change on updating r is 0.006213799933902919\n",
      "INFO:root:Updated r is 0.9468893511305855\n",
      "INFO:root:Iteration 40 after 18.983 seconds, error: 842798.6895905451\n",
      "INFO:root:Loglik change on updating W is 21.18484754138626\n",
      "INFO:root:Loglik change on updating H is 28.381405020714737\n",
      "INFO:root:Loglik change on updating r is 0.00562403176445514\n",
      "INFO:root:Updated r is 0.9472011599199098\n",
      "INFO:root:Loglik change on updating W is 19.785832430701703\n",
      "INFO:root:Loglik change on updating H is 27.608702287077904\n",
      "INFO:root:Loglik change on updating r is 0.005133788683451712\n",
      "INFO:root:Updated r is 0.9474991764776854\n",
      "INFO:root:Loglik change on updating W is 18.591482298448682\n",
      "INFO:root:Loglik change on updating H is 26.93462107295636\n",
      "INFO:root:Loglik change on updating r is 0.004727429710328579\n",
      "INFO:root:Updated r is 0.9477852538690341\n",
      "INFO:root:Loglik change on updating W is 17.57270795130171\n",
      "INFO:root:Loglik change on updating H is 26.15794712805655\n",
      "INFO:root:Loglik change on updating r is 0.004361556260846555\n",
      "INFO:root:Updated r is 0.9480601290837529\n",
      "INFO:root:Loglik change on updating W is 16.67603661760222\n",
      "INFO:root:Loglik change on updating H is 25.1284674142953\n",
      "INFO:root:Loglik change on updating r is 0.003973101614974439\n",
      "INFO:root:Updated r is 0.9483225622011406\n",
      "INFO:root:Loglik change on updating W is 15.83704055135604\n",
      "INFO:root:Loglik change on updating H is 24.060658931615762\n",
      "INFO:root:Loglik change on updating r is 0.003592626773752272\n",
      "INFO:root:Updated r is 0.9485721900554687\n",
      "INFO:root:Loglik change on updating W is 15.055873830104247\n",
      "INFO:root:Loglik change on updating H is 23.196676840656437\n",
      "INFO:root:Loglik change on updating r is 0.0032943692058324814\n",
      "INFO:root:Updated r is 0.9488113009716413\n",
      "INFO:root:Loglik change on updating W is 14.364792476175353\n",
      "INFO:root:Loglik change on updating H is 22.27683045109734\n",
      "INFO:root:Loglik change on updating r is 0.003046013182029128\n",
      "INFO:root:Updated r is 0.9490412861895927\n",
      "INFO:root:Loglik change on updating W is 13.708215226302855\n",
      "INFO:root:Loglik change on updating H is 20.914387750206515\n",
      "INFO:root:Loglik change on updating r is 0.0027300515212118626\n",
      "INFO:root:Updated r is 0.9492590756492091\n",
      "INFO:root:Loglik change on updating W is 13.033364635775797\n",
      "INFO:root:Loglik change on updating H is 19.403437616187148\n",
      "INFO:root:Loglik change on updating r is 0.002369297668337822\n",
      "INFO:root:Updated r is 0.9494620181686955\n",
      "INFO:root:Iteration 50 after 22.315 seconds, error: 842388.7774102067\n",
      "INFO:root:Loglik change on updating W is 12.361368424375542\n",
      "INFO:root:Loglik change on updating H is 17.999288930557668\n",
      "INFO:root:Loglik change on updating r is 0.002053573727607727\n",
      "INFO:root:Updated r is 0.949651001122926\n",
      "INFO:root:Loglik change on updating W is 11.696732856682502\n",
      "INFO:root:Loglik change on updating H is 16.77777420775965\n",
      "INFO:root:Loglik change on updating r is 0.0018052732339128852\n",
      "INFO:root:Updated r is 0.949828230334929\n",
      "INFO:root:Loglik change on updating W is 11.042421971913427\n",
      "INFO:root:Loglik change on updating H is 15.814513574587181\n",
      "INFO:root:Loglik change on updating r is 0.001607435871846974\n",
      "INFO:root:Updated r is 0.9499955013053916\n",
      "INFO:root:Loglik change on updating W is 10.414652452687733\n",
      "INFO:root:Loglik change on updating H is 15.051853909739293\n",
      "INFO:root:Loglik change on updating r is 0.0014467017026618123\n",
      "INFO:root:Updated r is 0.9501542199765436\n",
      "INFO:root:Loglik change on updating W is 9.830604460672475\n",
      "INFO:root:Loglik change on updating H is 14.417696236516349\n",
      "INFO:root:Loglik change on updating r is 0.0013231070479378104\n",
      "INFO:root:Updated r is 0.9503060355106985\n",
      "INFO:root:Loglik change on updating W is 9.296847285237163\n",
      "INFO:root:Loglik change on updating H is 14.13320166990161\n",
      "INFO:root:Loglik change on updating r is 0.0012410030467435718\n",
      "INFO:root:Updated r is 0.9504530908927746\n",
      "INFO:root:Loglik change on updating W is 8.847037951345555\n",
      "INFO:root:Loglik change on updating H is 14.350341247860342\n",
      "INFO:root:Loglik change on updating r is 0.0012029343051835895\n",
      "INFO:root:Updated r is 0.9505978975125479\n",
      "INFO:root:Loglik change on updating W is 8.509367196820676\n",
      "INFO:root:Loglik change on updating H is 14.423337213462219\n",
      "INFO:root:Loglik change on updating r is 0.0011630780063569546\n",
      "INFO:root:Updated r is 0.9507403083048209\n",
      "INFO:root:Loglik change on updating W is 8.194032936356962\n",
      "INFO:root:Loglik change on updating H is 13.613367859274149\n",
      "INFO:root:Loglik change on updating r is 0.0010561905801296234\n",
      "INFO:root:Updated r is 0.9508760400088493\n",
      "INFO:root:Loglik change on updating W is 7.793149083037861\n",
      "INFO:root:Loglik change on updating H is 12.549008900881745\n",
      "INFO:root:Loglik change on updating r is 0.0009297211654484272\n",
      "INFO:root:Updated r is 0.9510034065854727\n",
      "INFO:root:Iteration 60 after 25.598 seconds, error: 842141.6469828184\n",
      "INFO:root:Loglik change on updating W is 7.3465029204962775\n",
      "INFO:root:Loglik change on updating H is 11.977610136615112\n",
      "INFO:root:Loglik change on updating r is 0.0008489454630762339\n",
      "INFO:root:Updated r is 0.9511251325181304\n",
      "INFO:root:Loglik change on updating W is 6.916859938879497\n",
      "INFO:root:Loglik change on updating H is 11.766890315106139\n",
      "INFO:root:Loglik change on updating r is 0.0008004996925592422\n",
      "INFO:root:Updated r is 0.9512433507393053\n",
      "INFO:root:Loglik change on updating W is 6.5194424473447725\n",
      "INFO:root:Loglik change on updating H is 11.437431950704195\n",
      "INFO:root:Loglik change on updating r is 0.0007498621707782149\n",
      "INFO:root:Updated r is 0.951357784268823\n",
      "INFO:root:Loglik change on updating W is 6.140263575944118\n",
      "INFO:root:Loglik change on updating H is 10.666445614537224\n",
      "INFO:root:Loglik change on updating r is 0.0006736567011103034\n",
      "INFO:root:Updated r is 0.9514662617887736\n",
      "INFO:root:Loglik change on updating W is 5.766684087342583\n",
      "INFO:root:Loglik change on updating H is 9.846499974490143\n",
      "INFO:root:Loglik change on updating r is 0.0005961238639429212\n",
      "INFO:root:Updated r is 0.9515683190564803\n",
      "INFO:root:Loglik change on updating W is 5.41449867002666\n",
      "INFO:root:Loglik change on updating H is 9.229368641856126\n",
      "INFO:root:Loglik change on updating r is 0.0005328953266143799\n",
      "INFO:root:Updated r is 0.951664823805179\n",
      "INFO:root:Loglik change on updating W is 5.089731283602305\n",
      "INFO:root:Loglik change on updating H is 8.744660415337421\n",
      "INFO:root:Loglik change on updating r is 0.0004753632238134742\n",
      "INFO:root:Updated r is 0.9517559807888135\n",
      "INFO:root:Loglik change on updating W is 4.785358672612347\n",
      "INFO:root:Loglik change on updating H is 8.419083004118875\n",
      "INFO:root:Loglik change on updating r is 0.00042494863737374544\n",
      "INFO:root:Updated r is 0.9518421776968597\n",
      "INFO:root:Loglik change on updating W is 4.500514883431606\n",
      "INFO:root:Loglik change on updating H is 8.198752616997808\n",
      "INFO:root:Loglik change on updating r is 0.00038497685454785824\n",
      "INFO:root:Updated r is 0.951924228841134\n",
      "INFO:root:Loglik change on updating W is 4.2235405129613355\n",
      "INFO:root:Loglik change on updating H is 7.791988607728854\n",
      "INFO:root:Loglik change on updating r is 0.0003408207558095455\n",
      "INFO:root:Updated r is 0.9520014385521398\n",
      "INFO:root:Iteration 70 after 29.032 seconds, error: 841986.8590264556\n",
      "INFO:root:Loglik change on updating W is 3.9320261096581817\n",
      "INFO:root:Loglik change on updating H is 7.222219661576673\n",
      "INFO:root:Loglik change on updating r is 0.0002910918556153774\n",
      "INFO:root:Updated r is 0.9520728001030807\n",
      "INFO:root:Loglik change on updating W is 3.6324128131382167\n",
      "INFO:root:Loglik change on updating H is 6.755612649023533\n",
      "INFO:root:Loglik change on updating r is 0.00024931447114795446\n"
     ]
    },
    {
     "name": "stderr",
     "output_type": "stream",
     "text": [
      "INFO:root:Updated r is 0.9521388479702296\n",
      "INFO:root:Loglik change on updating W is 3.3477750160964206\n",
      "INFO:root:Loglik change on updating H is 6.434899773914367\n",
      "INFO:root:Loglik change on updating r is 0.000217759283259511\n",
      "INFO:root:Updated r is 0.9522005795281567\n",
      "INFO:root:Loglik change on updating W is 3.092445722548291\n",
      "INFO:root:Loglik change on updating H is 6.214467896497808\n",
      "INFO:root:Loglik change on updating r is 0.00019470811821520329\n",
      "INFO:root:Updated r is 0.9522589567107907\n",
      "INFO:root:Loglik change on updating W is 2.874048724770546\n",
      "INFO:root:Loglik change on updating H is 6.090778499376029\n",
      "INFO:root:Loglik change on updating r is 0.0001798409502953291\n",
      "INFO:root:Updated r is 0.9523150645420857\n",
      "INFO:root:Loglik change on updating W is 2.6968852890422568\n",
      "INFO:root:Loglik change on updating H is 6.028720873524435\n",
      "INFO:root:Loglik change on updating r is 0.00017142074648290873\n",
      "INFO:root:Updated r is 0.9523698467365391\n",
      "INFO:root:Loglik change on updating W is 2.5539072431856766\n",
      "INFO:root:Loglik change on updating H is 5.858499342692085\n",
      "INFO:root:Loglik change on updating r is 0.0001624232390895486\n",
      "INFO:root:Updated r is 0.9524231753525473\n",
      "INFO:root:Loglik change on updating W is 2.4186630762415007\n",
      "INFO:root:Loglik change on updating H is 5.489503760705702\n",
      "INFO:root:Loglik change on updating r is 0.00014634570106863976\n",
      "INFO:root:Updated r is 0.9524737986541589\n",
      "INFO:root:Loglik change on updating W is 2.272233247756958\n",
      "INFO:root:Loglik change on updating H is 5.153414757689461\n",
      "INFO:root:Loglik change on updating r is 0.00012784358114004135\n",
      "INFO:root:Updated r is 0.9525211167817897\n",
      "INFO:root:Loglik change on updating W is 2.124550153501332\n",
      "INFO:root:Loglik change on updating H is 4.996626479434781\n",
      "INFO:root:Loglik change on updating r is 0.00011319119948893785\n",
      "INFO:root:Updated r is 0.952565643241157\n",
      "INFO:root:Iteration 80 after 32.397 seconds, error: 841897.667481426\n",
      "INFO:root:Loglik change on updating W is 1.9868502389872447\n",
      "INFO:root:Loglik change on updating H is 4.880459628184326\n",
      "INFO:root:Loglik change on updating r is 0.00010181334801018238\n",
      "INFO:root:Updated r is 0.9526078746331177\n",
      "INFO:root:Loglik change on updating W is 1.8587688186671585\n",
      "INFO:root:Loglik change on updating H is 4.683860364253633\n",
      "INFO:root:Loglik change on updating r is 9.216461330652237e-05\n",
      "INFO:root:Updated r is 0.9526480571580986\n",
      "INFO:root:Loglik change on updating W is 1.7370328176766634\n",
      "INFO:root:Loglik change on updating H is 4.444897017674521\n",
      "INFO:root:Loglik change on updating r is 8.425419218838215e-05\n",
      "INFO:root:Updated r is 0.9526864782786117\n",
      "INFO:root:Loglik change on updating W is 1.6214440597686917\n",
      "INFO:root:Loglik change on updating H is 4.234475231147371\n",
      "INFO:root:Loglik change on updating r is 7.788348011672497e-05\n",
      "INFO:root:Updated r is 0.9527234199339711\n",
      "INFO:root:Loglik change on updating W is 1.5133107074070722\n",
      "INFO:root:Loglik change on updating H is 4.041968399193138\n",
      "INFO:root:Loglik change on updating r is 7.181591354310513e-05\n",
      "INFO:root:Updated r is 0.9527588948554784\n",
      "INFO:root:Loglik change on updating W is 1.4132797713391483\n",
      "INFO:root:Loglik change on updating H is 3.838573839981109\n",
      "INFO:root:Loglik change on updating r is 6.491993553936481e-05\n",
      "INFO:root:Updated r is 0.9527926249331782\n",
      "INFO:root:Loglik change on updating W is 1.3222430341411382\n",
      "INFO:root:Loglik change on updating H is 3.6762631194433197\n",
      "INFO:root:Loglik change on updating r is 5.814037285745144e-05\n",
      "INFO:root:Updated r is 0.9528245466012712\n",
      "INFO:root:Loglik change on updating W is 1.2429328303551301\n",
      "INFO:root:Loglik change on updating H is 3.6270144088193774\n",
      "INFO:root:Loglik change on updating r is 5.333917215466499e-05\n",
      "INFO:root:Updated r is 0.9528551230595488\n",
      "INFO:root:Loglik change on updating W is 1.1779821469681337\n",
      "INFO:root:Loglik change on updating H is 3.659095493843779\n",
      "INFO:root:Loglik change on updating r is 5.037349183112383e-05\n",
      "INFO:root:Updated r is 0.9528848381905631\n",
      "INFO:root:Loglik change on updating W is 1.1252434722846374\n",
      "INFO:root:Loglik change on updating H is 3.6870169463800266\n",
      "INFO:root:Loglik change on updating r is 4.77861613035202e-05\n",
      "INFO:root:Updated r is 0.9529137808249897\n",
      "INFO:root:Iteration 90 after 35.682 seconds, error: 841841.8940665888\n"
     ]
    }
   ],
   "source": [
    "%lprun -f nmflib.nmf._iterate_nmf_fit nmflib.nmf.fit(X_obs, 21, S_true, O_true, True, verbose=True)"
   ]
  },
  {
   "cell_type": "code",
   "execution_count": null,
   "metadata": {},
   "outputs": [],
   "source": []
  }
 ],
 "metadata": {
  "kernelspec": {
   "display_name": "Python 3",
   "language": "python",
   "name": "python3"
  },
  "language_info": {
   "codemirror_mode": {
    "name": "ipython",
    "version": 3
   },
   "file_extension": ".py",
   "mimetype": "text/x-python",
   "name": "python",
   "nbconvert_exporter": "python",
   "pygments_lexer": "ipython3",
   "version": "3.7.3"
  },
  "toc": {
   "base_numbering": 1,
   "nav_menu": {},
   "number_sections": true,
   "sideBar": true,
   "skip_h1_title": true,
   "title_cell": "Table of Contents",
   "title_sidebar": "Contents",
   "toc_cell": false,
   "toc_position": {},
   "toc_section_display": true,
   "toc_window_display": true
  }
 },
 "nbformat": 4,
 "nbformat_minor": 2
}
