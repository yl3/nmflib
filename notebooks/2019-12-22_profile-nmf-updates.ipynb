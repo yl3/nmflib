{
 "cells": [
  {
   "cell_type": "markdown",
   "metadata": {},
   "source": [
    "# Line profiling nbinom NMF updates"
   ]
  },
  {
   "cell_type": "code",
   "execution_count": 1,
   "metadata": {
    "ExecuteTime": {
     "end_time": "2019-12-22T20:03:33.973480Z",
     "start_time": "2019-12-22T20:03:33.959037Z"
    }
   },
   "outputs": [],
   "source": [
    "%load_ext line_profiler"
   ]
  },
  {
   "cell_type": "markdown",
   "metadata": {},
   "source": [
    "## Setup"
   ]
  },
  {
   "cell_type": "code",
   "execution_count": 2,
   "metadata": {
    "ExecuteTime": {
     "end_time": "2019-12-22T20:03:33.989345Z",
     "start_time": "2019-12-22T20:03:33.976763Z"
    }
   },
   "outputs": [
    {
     "data": {
      "text/plain": [
       "'/Users/yl3/github/genomics/nmflib'"
      ]
     },
     "execution_count": 2,
     "metadata": {},
     "output_type": "execute_result"
    }
   ],
   "source": [
    "import os\n",
    "while not os.path.exists('test_data'):\n",
    "    os.chdir('..')\n",
    "os.getcwd()"
   ]
  },
  {
   "cell_type": "code",
   "execution_count": 3,
   "metadata": {
    "ExecuteTime": {
     "end_time": "2019-12-22T20:03:33.998957Z",
     "start_time": "2019-12-22T20:03:33.993194Z"
    }
   },
   "outputs": [],
   "source": [
    "import logging\n",
    "logger = logging.getLogger()\n",
    "logger.setLevel(logging.INFO)"
   ]
  },
  {
   "cell_type": "code",
   "execution_count": 4,
   "metadata": {
    "ExecuteTime": {
     "end_time": "2019-12-22T20:03:35.635625Z",
     "start_time": "2019-12-22T20:03:34.002241Z"
    }
   },
   "outputs": [],
   "source": [
    "import numpy as np\n",
    "import pandas as pd\n",
    "import scipy.stats\n",
    "\n",
    "import nmflib.nmf"
   ]
  },
  {
   "cell_type": "markdown",
   "metadata": {},
   "source": [
    "## Load data"
   ]
  },
  {
   "cell_type": "code",
   "execution_count": 5,
   "metadata": {
    "ExecuteTime": {
     "end_time": "2019-12-22T20:03:35.648657Z",
     "start_time": "2019-12-22T20:03:35.637514Z"
    }
   },
   "outputs": [],
   "source": [
    "def load_syn_data(r=10):\n",
    "    datadir = 'test_data'\n",
    "    W = pd.read_csv(datadir + '/ground.truth.syn.sigs.csv.gz',\n",
    "                    index_col=[0, 1],\n",
    "                    header=0)\n",
    "    H = pd.read_csv(datadir +\n",
    "                    '/ground.truth.syn.exposures.csv.gz',\n",
    "                    index_col=0,\n",
    "                    header=0)\n",
    "    \n",
    "    # Compute S, O and X_exp.\n",
    "    X_exp = W.dot(H)\n",
    "    S = scipy.stats.uniform.rvs(0.05,\n",
    "                                1 - 0.05,\n",
    "                                X_exp.shape)\n",
    "    X_exp *= S\n",
    "    O = scipy.stats.uniform.rvs(\n",
    "        0.5,\n",
    "        1 - 0.5,\n",
    "        X_exp.shape)\n",
    "    O *= X_exp.values\n",
    "    X_exp -= O\n",
    "\n",
    "    # Simulate random counts.\n",
    "    p = nmflib.nmf._nb_p(X_exp, r)\n",
    "    X_obs = scipy.stats.nbinom.rvs(r, p)\n",
    "    return X_obs, W, H, S, O, r"
   ]
  },
  {
   "cell_type": "code",
   "execution_count": 6,
   "metadata": {
    "ExecuteTime": {
     "end_time": "2019-12-22T20:03:38.766634Z",
     "start_time": "2019-12-22T20:03:35.652673Z"
    }
   },
   "outputs": [],
   "source": [
    "X_obs, W_true, H_true, S_true, O_true, r_true = load_syn_data()"
   ]
  },
  {
   "cell_type": "markdown",
   "metadata": {},
   "source": [
    "## Actual profiling"
   ]
  },
  {
   "cell_type": "code",
   "execution_count": 15,
   "metadata": {
    "ExecuteTime": {
     "end_time": "2019-12-22T20:14:18.456065Z",
     "start_time": "2019-12-22T20:14:18.439298Z"
    }
   },
   "outputs": [
    {
     "data": {
      "text/plain": [
       "<module 'nmflib.nmf' from '/Users/yl3/github/genomics/nmflib/src/nmflib/nmf.py'>"
      ]
     },
     "execution_count": 15,
     "metadata": {},
     "output_type": "execute_result"
    }
   ],
   "source": [
    "import importlib\n",
    "importlib.reload(nmflib.nmf)"
   ]
  },
  {
   "cell_type": "code",
   "execution_count": 16,
   "metadata": {
    "ExecuteTime": {
     "end_time": "2019-12-22T20:14:59.309518Z",
     "start_time": "2019-12-22T20:14:18.459165Z"
    },
    "scrolled": false
   },
   "outputs": [
    {
     "name": "stderr",
     "output_type": "stream",
     "text": [
      "INFO:root:Loglik change on updating W is 668.8951745457016\n",
      "INFO:root:Loglik change on updating H is 313.83326448104344\n",
      "INFO:root:Loglik change on updating r is 546617.347990741\n",
      "INFO:root:Updated r is 0.8293657468336494\n",
      "INFO:root:Loglik change on updating W is 1752.215105172363\n",
      "INFO:root:Loglik change on updating H is 2417.327996407519\n",
      "INFO:root:Loglik change on updating r is 63.61793972412124\n",
      "INFO:root:Updated r is 0.8587468152767291\n",
      "INFO:root:Loglik change on updating W is 316.9586755599594\n",
      "INFO:root:Loglik change on updating H is 1112.9560106982244\n",
      "INFO:root:Loglik change on updating r is 7.413047380745411\n",
      "INFO:root:Updated r is 0.8690152392334497\n",
      "INFO:root:Loglik change on updating W is 167.38748554326594\n",
      "INFO:root:Loglik change on updating H is 678.2676677785348\n",
      "INFO:root:Loglik change on updating r is 2.3440390293253586\n",
      "INFO:root:Updated r is 0.8748458217953224\n",
      "INFO:root:Loglik change on updating W is 149.29095883318223\n",
      "INFO:root:Loglik change on updating H is 513.4115704672877\n",
      "INFO:root:Loglik change on updating r is 1.2876688905525953\n",
      "INFO:root:Updated r is 0.8791941750086031\n",
      "INFO:root:Loglik change on updating W is 170.4436973623233\n",
      "INFO:root:Loglik change on updating H is 455.85517487768084\n",
      "INFO:root:Loglik change on updating r is 1.0368229704909027\n",
      "INFO:root:Updated r is 0.8831158572764825\n",
      "INFO:root:Loglik change on updating W is 205.99773427727632\n",
      "INFO:root:Loglik change on updating H is 438.8789704614319\n",
      "INFO:root:Loglik change on updating r is 1.0173758736345917\n",
      "INFO:root:Updated r is 0.8870191658598555\n",
      "INFO:root:Loglik change on updating W is 242.86983127391431\n",
      "INFO:root:Loglik change on updating H is 433.5314487225842\n",
      "INFO:root:Loglik change on updating r is 1.0679996601538733\n",
      "INFO:root:Updated r is 0.8910376368185029\n",
      "INFO:root:Loglik change on updating W is 272.7428846701514\n",
      "INFO:root:Loglik change on updating H is 427.77751993900165\n",
      "INFO:root:Loglik change on updating r is 1.1209930209442973\n",
      "INFO:root:Updated r is 0.8951748418270485\n",
      "INFO:root:Loglik change on updating W is 291.0432954324642\n",
      "INFO:root:Loglik change on updating H is 416.93180210352875\n",
      "INFO:root:Loglik change on updating r is 1.139946308452636\n",
      "INFO:root:Updated r is 0.8993677189393569\n",
      "INFO:root:Iteration 10 after 6.178 seconds, error: 850777.6952545742\n",
      "INFO:root:Loglik change on updating W is 297.05439189833123\n",
      "INFO:root:Loglik change on updating H is 400.7431288465159\n",
      "INFO:root:Loglik change on updating r is 1.1138066288549453\n",
      "INFO:root:Updated r is 0.9035329399583223\n",
      "INFO:root:Loglik change on updating W is 293.01609171531163\n",
      "INFO:root:Loglik change on updating H is 381.01618368539494\n",
      "INFO:root:Loglik change on updating r is 1.0503301864955574\n",
      "INFO:root:Updated r is 0.907597561961941\n",
      "INFO:root:Loglik change on updating W is 282.15378806903027\n",
      "INFO:root:Loglik change on updating H is 359.3155847467715\n",
      "INFO:root:Loglik change on updating r is 0.9624958742642775\n",
      "INFO:root:Updated r is 0.9115069605983636\n",
      "INFO:root:Loglik change on updating W is 267.23887003655545\n",
      "INFO:root:Loglik change on updating H is 336.2570341244573\n",
      "INFO:root:Loglik change on updating r is 0.8611760633066297\n",
      "INFO:root:Updated r is 0.9152215854926686\n",
      "INFO:root:Loglik change on updating W is 250.1200992941158\n",
      "INFO:root:Loglik change on updating H is 311.4216594833415\n",
      "INFO:root:Loglik change on updating r is 0.7526173405349255\n",
      "INFO:root:Updated r is 0.9187089808220734\n",
      "INFO:root:Loglik change on updating W is 231.71119940979406\n",
      "INFO:root:Loglik change on updating H is 284.57866974605713\n",
      "INFO:root:Loglik change on updating r is 0.6407995147164911\n",
      "INFO:root:Updated r is 0.9219396377589173\n",
      "INFO:root:Loglik change on updating W is 212.58679087110795\n",
      "INFO:root:Loglik change on updating H is 256.98601695522666\n",
      "INFO:root:Loglik change on updating r is 0.5325613981112838\n",
      "INFO:root:Updated r is 0.9248955341084065\n",
      "INFO:root:Loglik change on updating W is 193.4359659178881\n",
      "INFO:root:Loglik change on updating H is 229.95171068923082\n",
      "INFO:root:Loglik change on updating r is 0.43419792829081416\n",
      "INFO:root:Updated r is 0.9275733296824186\n",
      "INFO:root:Loglik change on updating W is 174.90915973484516\n",
      "INFO:root:Loglik change on updating H is 204.45847737253644\n",
      "INFO:root:Loglik change on updating r is 0.34910780284553766\n",
      "INFO:root:Updated r is 0.9299815685500262\n",
      "INFO:root:Loglik change on updating W is 157.52972994779702\n",
      "INFO:root:Loglik change on updating H is 181.35810112056788\n",
      "INFO:root:Loglik change on updating r is 0.2785097302403301\n",
      "INFO:root:Updated r is 0.9321382742399569\n",
      "INFO:root:Iteration 20 after 11.100 seconds, error: 845464.8769984416\n",
      "INFO:root:Loglik change on updating W is 141.60293104697485\n",
      "INFO:root:Loglik change on updating H is 160.80500870465767\n",
      "INFO:root:Loglik change on updating r is 0.2213359713787213\n",
      "INFO:root:Updated r is 0.9340654576186364\n",
      "INFO:root:Loglik change on updating W is 127.1872647840064\n",
      "INFO:root:Loglik change on updating H is 142.37068732222542\n",
      "INFO:root:Loglik change on updating r is 0.1753058199537918\n",
      "INFO:root:Updated r is 0.9357841905815182\n",
      "INFO:root:Loglik change on updating W is 114.16516482667066\n",
      "INFO:root:Loglik change on updating H is 125.75931591889821\n",
      "INFO:root:Loglik change on updating r is 0.1383363694185391\n",
      "INFO:root:Updated r is 0.9373138310120611\n",
      "INFO:root:Loglik change on updating W is 102.39268703316338\n",
      "INFO:root:Loglik change on updating H is 111.08258598973043\n",
      "INFO:root:Loglik change on updating r is 0.10889309667982161\n",
      "INFO:root:Updated r is 0.9386732091157257\n",
      "INFO:root:Loglik change on updating W is 91.76267635822296\n",
      "INFO:root:Loglik change on updating H is 98.31206548877526\n",
      "INFO:root:Loglik change on updating r is 0.08557167125400156\n",
      "INFO:root:Updated r is 0.9398800266867453\n",
      "INFO:root:Loglik change on updating W is 82.18810866947751\n",
      "INFO:root:Loglik change on updating H is 87.32185734563973\n",
      "INFO:root:Loglik change on updating r is 0.06721288512926549\n",
      "INFO:root:Updated r is 0.940950968550135\n",
      "INFO:root:Loglik change on updating W is 73.61548198875971\n",
      "INFO:root:Loglik change on updating H is 77.98659205820877\n",
      "INFO:root:Loglik change on updating r is 0.052932507707737386\n",
      "INFO:root:Updated r is 0.9419024468274748\n",
      "INFO:root:Loglik change on updating W is 66.00040333264042\n",
      "INFO:root:Loglik change on updating H is 70.09221404069103\n",
      "INFO:root:Loglik change on updating r is 0.04195010429248214\n",
      "INFO:root:Updated r is 0.9427493605351708\n",
      "INFO:root:Loglik change on updating W is 59.27287058881484\n",
      "INFO:root:Loglik change on updating H is 63.346535687567666\n",
      "INFO:root:Loglik change on updating r is 0.03362772020045668\n",
      "INFO:root:Updated r is 0.9435084042592554\n",
      "INFO:root:Loglik change on updating W is 53.3378680718597\n",
      "INFO:root:Loglik change on updating H is 57.44554851797875\n",
      "INFO:root:Loglik change on updating r is 0.0270961174974218\n",
      "INFO:root:Updated r is 0.9441903801175252\n",
      "INFO:root:Iteration 30 after 16.522 seconds, error: 843557.8768684032\n",
      "INFO:root:Loglik change on updating W is 48.09837040293496\n",
      "INFO:root:Loglik change on updating H is 52.23546529118903\n",
      "INFO:root:Loglik change on updating r is 0.02196552266832441\n",
      "INFO:root:Updated r is 0.9448049080890794\n",
      "INFO:root:Loglik change on updating W is 43.47071269562002\n",
      "INFO:root:Loglik change on updating H is 47.74886191356927\n",
      "INFO:root:Loglik change on updating r is 0.017903406522236764\n",
      "INFO:root:Updated r is 0.9453601184487315\n",
      "INFO:root:Loglik change on updating W is 39.39060403290205\n",
      "INFO:root:Loglik change on updating H is 43.98021582711954\n",
      "INFO:root:Loglik change on updating r is 0.014688360504806042\n",
      "INFO:root:Updated r is 0.9458633442612748\n",
      "INFO:root:Loglik change on updating W is 35.81081981747411\n",
      "INFO:root:Loglik change on updating H is 40.729023003950715\n",
      "INFO:root:Loglik change on updating r is 0.012149569345638156\n",
      "INFO:root:Updated r is 0.9463212907341767\n",
      "INFO:root:Loglik change on updating W is 32.6783456930425\n",
      "INFO:root:Loglik change on updating H is 37.578549374011345\n",
      "INFO:root:Loglik change on updating r is 0.010117240366525948\n",
      "INFO:root:Updated r is 0.946739408732915\n",
      "INFO:root:Loglik change on updating W is 29.894714056164958\n",
      "INFO:root:Loglik change on updating H is 34.310992916696705\n",
      "INFO:root:Loglik change on updating r is 0.008450321503914893\n",
      "INFO:root:Updated r is 0.9471217199840156\n",
      "INFO:root:Loglik change on updating W is 27.351564648444764\n"
     ]
    },
    {
     "name": "stderr",
     "output_type": "stream",
     "text": [
      "INFO:root:Loglik change on updating H is 31.275575046427548\n",
      "INFO:root:Loglik change on updating r is 0.007090146187692881\n",
      "INFO:root:Updated r is 0.9474720700837637\n",
      "INFO:root:Loglik change on updating W is 25.015337092569098\n",
      "INFO:root:Loglik change on updating H is 28.759903946192935\n",
      "INFO:root:Loglik change on updating r is 0.005997552536427975\n",
      "INFO:root:Updated r is 0.9477944285974026\n",
      "INFO:root:Loglik change on updating W is 22.891380938119255\n",
      "INFO:root:Loglik change on updating H is 26.77907237864565\n",
      "INFO:root:Loglik change on updating r is 0.005127833224833012\n",
      "INFO:root:Updated r is 0.9480926108807777\n",
      "INFO:root:Loglik change on updating W is 20.982729050912894\n",
      "INFO:root:Loglik change on updating H is 25.170739957597107\n",
      "INFO:root:Loglik change on updating r is 0.004418829805217683\n",
      "INFO:root:Updated r is 0.9483695079344221\n",
      "INFO:root:Iteration 40 after 21.040 seconds, error: 842863.6159815369\n",
      "INFO:root:Loglik change on updating W is 19.27348742261529\n",
      "INFO:root:Loglik change on updating H is 23.71498102741316\n",
      "INFO:root:Loglik change on updating r is 0.0037998935440555215\n",
      "INFO:root:Updated r is 0.9486263637544154\n",
      "INFO:root:Loglik change on updating W is 17.74797315779142\n",
      "INFO:root:Loglik change on updating H is 22.464723255834542\n",
      "INFO:root:Loglik change on updating r is 0.003272228525020182\n",
      "INFO:root:Updated r is 0.948864789857343\n",
      "INFO:root:Loglik change on updating W is 16.41759271034971\n",
      "INFO:root:Loglik change on updating H is 21.487024387926795\n",
      "INFO:root:Loglik change on updating r is 0.002862201537936926\n",
      "INFO:root:Updated r is 0.9490878388592621\n",
      "INFO:root:Loglik change on updating W is 15.283180735306814\n",
      "INFO:root:Loglik change on updating H is 20.576294409111142\n",
      "INFO:root:Loglik change on updating r is 0.0025422234321013093\n",
      "INFO:root:Updated r is 0.9492981036872764\n",
      "INFO:root:Loglik change on updating W is 14.29908524651546\n",
      "INFO:root:Loglik change on updating H is 19.563776472466998\n",
      "INFO:root:Loglik change on updating r is 0.0022608505096286535\n",
      "INFO:root:Updated r is 0.9494964385050848\n",
      "INFO:root:Loglik change on updating W is 13.404031203943305\n",
      "INFO:root:Loglik change on updating H is 18.557489517028444\n",
      "INFO:root:Loglik change on updating r is 0.002002212218940258\n",
      "INFO:root:Updated r is 0.9496831260647086\n",
      "INFO:root:Loglik change on updating W is 12.566398187191226\n",
      "INFO:root:Loglik change on updating H is 17.445666475687176\n",
      "INFO:root:Loglik change on updating r is 0.0017722202464938164\n",
      "INFO:root:Updated r is 0.9498588013606482\n",
      "INFO:root:Loglik change on updating W is 11.738461641944014\n",
      "INFO:root:Loglik change on updating H is 16.137322034104727\n",
      "INFO:root:Loglik change on updating r is 0.0015615185257047415\n",
      "INFO:root:Updated r is 0.9500237360662157\n",
      "INFO:root:Loglik change on updating W is 10.924426140263677\n",
      "INFO:root:Loglik change on updating H is 15.010293657775037\n",
      "INFO:root:Loglik change on updating r is 0.0013777987333014607\n",
      "INFO:root:Updated r is 0.9501786934353998\n",
      "INFO:root:Loglik change on updating W is 10.171516514732502\n",
      "INFO:root:Loglik change on updating H is 14.094605104648508\n",
      "INFO:root:Loglik change on updating r is 0.001223319792188704\n",
      "INFO:root:Updated r is 0.9503247313958486\n",
      "INFO:root:Iteration 50 after 25.794 seconds, error: 842532.7149777672\n",
      "INFO:root:Loglik change on updating W is 9.49748696014285\n",
      "INFO:root:Loglik change on updating H is 13.397467811475508\n",
      "INFO:root:Loglik change on updating r is 0.001093224622309208\n",
      "INFO:root:Updated r is 0.9504628085713712\n",
      "INFO:root:Loglik change on updating W is 8.901828708942048\n",
      "INFO:root:Loglik change on updating H is 12.827604125603102\n",
      "INFO:root:Loglik change on updating r is 0.0009793431963771582\n",
      "INFO:root:Updated r is 0.9505935165974885\n",
      "INFO:root:Loglik change on updating W is 8.36974916222971\n",
      "INFO:root:Loglik change on updating H is 12.335567155038007\n",
      "INFO:root:Loglik change on updating r is 0.0008819224312901497\n",
      "INFO:root:Updated r is 0.950717571449112\n",
      "INFO:root:Loglik change on updating W is 7.890570184215903\n",
      "INFO:root:Loglik change on updating H is 11.949743960984051\n",
      "INFO:root:Loglik change on updating r is 0.0008041876135393977\n",
      "INFO:root:Updated r is 0.9508360494814608\n",
      "INFO:root:Loglik change on updating W is 7.4648278002860025\n",
      "INFO:root:Loglik change on updating H is 11.634775092359632\n",
      "INFO:root:Loglik change on updating r is 0.0007431941339746118\n",
      "INFO:root:Updated r is 0.9509499609182182\n",
      "INFO:root:Loglik change on updating W is 7.091028735390864\n",
      "INFO:root:Loglik change on updating H is 11.300143103813753\n",
      "INFO:root:Loglik change on updating r is 0.0006917191203683615\n",
      "INFO:root:Updated r is 0.9510598705958727\n",
      "INFO:root:Loglik change on updating W is 6.752632008050568\n",
      "INFO:root:Loglik change on updating H is 10.906752255395986\n",
      "INFO:root:Loglik change on updating r is 0.0006424776511266828\n",
      "INFO:root:Updated r is 0.951165809023874\n",
      "INFO:root:Loglik change on updating W is 6.426267626462504\n",
      "INFO:root:Loglik change on updating H is 10.534641957026906\n",
      "INFO:root:Loglik change on updating r is 0.000593696953728795\n",
      "INFO:root:Updated r is 0.9512676582609725\n",
      "INFO:root:Loglik change on updating W is 6.1012827375670895\n",
      "INFO:root:Loglik change on updating H is 10.165094956406392\n",
      "INFO:root:Loglik change on updating r is 0.0005391681334003806\n",
      "INFO:root:Updated r is 0.9513647286890574\n",
      "INFO:root:Loglik change on updating W is 5.774323076242581\n",
      "INFO:root:Loglik change on updating H is 9.675232994253747\n",
      "INFO:root:Loglik change on updating r is 0.0004742816090583801\n",
      "INFO:root:Updated r is 0.9514557808604448\n",
      "INFO:root:Iteration 60 after 29.770 seconds, error: 842343.7105141398\n",
      "INFO:root:Loglik change on updating W is 5.44879645225592\n",
      "INFO:root:Loglik change on updating H is 9.161506085540168\n",
      "INFO:root:Loglik change on updating r is 0.00041519931983202696\n",
      "INFO:root:Updated r is 0.9515409817722231\n",
      "INFO:root:Loglik change on updating W is 5.138143241056241\n",
      "INFO:root:Loglik change on updating H is 8.748030437738635\n",
      "INFO:root:Loglik change on updating r is 0.00037061586044728756\n",
      "INFO:root:Updated r is 0.9516214860698745\n",
      "INFO:root:Loglik change on updating W is 4.851135393488221\n",
      "INFO:root:Loglik change on updating H is 8.379087035078555\n",
      "INFO:root:Loglik change on updating r is 0.0003341654082760215\n",
      "INFO:root:Updated r is 0.9516979356235603\n",
      "INFO:root:Loglik change on updating W is 4.586937514482997\n",
      "INFO:root:Loglik change on updating H is 7.98597709427122\n",
      "INFO:root:Loglik change on updating r is 0.0003021343145519495\n",
      "INFO:root:Updated r is 0.9517706351959719\n",
      "INFO:root:Loglik change on updating W is 4.336225000792183\n",
      "INFO:root:Loglik change on updating H is 7.5590352159924805\n",
      "INFO:root:Loglik change on updating r is 0.00027386040892452\n",
      "INFO:root:Updated r is 0.9518398549704056\n",
      "INFO:root:Loglik change on updating W is 4.086344180046581\n",
      "INFO:root:Loglik change on updating H is 7.137717195204459\n",
      "INFO:root:Loglik change on updating r is 0.00024887348990887403\n",
      "INFO:root:Updated r is 0.951905846526252\n",
      "INFO:root:Loglik change on updating W is 3.8337518010521308\n",
      "INFO:root:Loglik change on updating H is 6.776959316572174\n",
      "INFO:root:Loglik change on updating r is 0.0002278592437505722\n",
      "INFO:root:Updated r is 0.9519689952876895\n",
      "INFO:root:Loglik change on updating W is 3.586012053419836\n",
      "INFO:root:Loglik change on updating H is 6.482691906276159\n",
      "INFO:root:Loglik change on updating r is 0.00021099916193634272\n",
      "INFO:root:Updated r is 0.9520297670393328\n",
      "INFO:root:Loglik change on updating W is 3.3506057244958356\n",
      "INFO:root:Loglik change on updating H is 6.246035761316307\n",
      "INFO:root:Loglik change on updating r is 0.0001975814811885357\n",
      "INFO:root:Updated r is 0.9520885787798761\n",
      "INFO:root:Loglik change on updating W is 3.133620371692814\n",
      "INFO:root:Loglik change on updating H is 6.1407411091495305\n",
      "INFO:root:Loglik change on updating r is 0.00018878618720918894\n",
      "INFO:root:Updated r is 0.952146070422625\n",
      "INFO:root:Iteration 70 after 33.558 seconds, error: 842226.738391175\n",
      "INFO:root:Loglik change on updating W is 2.9452000288292766\n",
      "INFO:root:Loglik change on updating H is 6.259384857257828\n",
      "INFO:root:Loglik change on updating r is 0.0001859912881627679\n",
      "INFO:root:Updated r is 0.9522031386177594\n",
      "INFO:root:Loglik change on updating W is 2.796415983350016\n",
      "INFO:root:Loglik change on updating H is 6.603079105028883\n",
      "INFO:root:Loglik change on updating r is 0.00018771446775645018\n"
     ]
    },
    {
     "name": "stderr",
     "output_type": "stream",
     "text": [
      "INFO:root:Updated r is 0.9522604739805162\n",
      "INFO:root:Loglik change on updating W is 2.6948250215500593\n",
      "INFO:root:Loglik change on updating H is 7.119097925140522\n",
      "INFO:root:Loglik change on updating r is 0.00019400299061089754\n",
      "INFO:root:Updated r is 0.9523187655297505\n",
      "INFO:root:Loglik change on updating W is 2.6471503246575594\n",
      "INFO:root:Loglik change on updating H is 7.727525153430179\n",
      "INFO:root:Loglik change on updating r is 0.00021093839313834906\n",
      "INFO:root:Updated r is 0.9523795520396466\n",
      "INFO:root:Loglik change on updating W is 2.6522237259196118\n",
      "INFO:root:Loglik change on updating H is 8.220902736182325\n",
      "INFO:root:Loglik change on updating r is 0.00023599935229867697\n",
      "INFO:root:Updated r is 0.9524438521176479\n",
      "INFO:root:Loglik change on updating W is 2.6769649997586384\n",
      "INFO:root:Loglik change on updating H is 8.232217233045958\n",
      "INFO:root:Loglik change on updating r is 0.0002404949627816677\n",
      "INFO:root:Updated r is 0.9525087663765951\n",
      "INFO:root:Loglik change on updating W is 2.6637037857435644\n",
      "INFO:root:Loglik change on updating H is 7.785667374962941\n",
      "INFO:root:Loglik change on updating r is 0.00021847605239599943\n",
      "INFO:root:Updated r is 0.9525706422164357\n",
      "INFO:root:Loglik change on updating W is 2.6105724846711382\n",
      "INFO:root:Loglik change on updating H is 7.400583382812329\n",
      "INFO:root:Loglik change on updating r is 0.00020364276133477688\n",
      "INFO:root:Updated r is 0.9526303845680402\n",
      "INFO:root:Loglik change on updating W is 2.54388693976216\n",
      "INFO:root:Loglik change on updating H is 6.927516862284392\n",
      "INFO:root:Loglik change on updating r is 0.00019138469360768795\n",
      "INFO:root:Updated r is 0.9526883047954336\n",
      "INFO:root:Loglik change on updating W is 2.454135816777125\n",
      "INFO:root:Loglik change on updating H is 6.2138939667493105\n",
      "INFO:root:Loglik change on updating r is 0.00016692292410880327\n",
      "INFO:root:Updated r is 0.9527424008260393\n",
      "INFO:root:Iteration 80 after 37.205 seconds, error: 842127.5614078993\n",
      "INFO:root:Loglik change on updating W is 2.3370453134411946\n",
      "INFO:root:Loglik change on updating H is 5.6846195318503305\n",
      "INFO:root:Loglik change on updating r is 0.00014115392696112394\n",
      "INFO:root:Updated r is 0.9527921492666688\n",
      "INFO:root:Loglik change on updating W is 2.223927916842513\n",
      "INFO:root:Loglik change on updating H is 5.638636793475598\n",
      "INFO:root:Loglik change on updating r is 0.00012826081365346909\n",
      "INFO:root:Updated r is 0.9528395739251431\n",
      "INFO:root:Loglik change on updating W is 2.1414445895934477\n",
      "INFO:root:Loglik change on updating H is 5.93890568066854\n",
      "INFO:root:Loglik change on updating r is 0.00012716162018477917\n",
      "INFO:root:Updated r is 0.9528867972806695\n",
      "INFO:root:Loglik change on updating W is 2.110801292466931\n",
      "INFO:root:Loglik change on updating H is 6.134213604847901\n",
      "INFO:root:Loglik change on updating r is 0.00012910319492220879\n",
      "INFO:root:Updated r is 0.9529343822814252\n",
      "INFO:root:Loglik change on updating W is 2.0904130985727534\n",
      "INFO:root:Loglik change on updating H is 5.505554820992984\n",
      "INFO:root:Loglik change on updating r is 0.00011760578490793705\n",
      "INFO:root:Updated r is 0.9529798014245219\n",
      "INFO:root:Loglik change on updating W is 1.9866251753410324\n",
      "INFO:root:Loglik change on updating H is 4.743762309313752\n",
      "INFO:root:Loglik change on updating r is 0.00010196631774306297\n",
      "INFO:root:Updated r is 0.9530220947205903\n",
      "INFO:root:Loglik change on updating W is 1.8524273402290419\n",
      "INFO:root:Loglik change on updating H is 4.400178528856486\n",
      "INFO:root:Loglik change on updating r is 9.231362491846085e-05\n",
      "INFO:root:Updated r is 0.9530623383991413\n",
      "INFO:root:Loglik change on updating W is 1.7318883701227605\n",
      "INFO:root:Loglik change on updating H is 4.255351127125323\n",
      "INFO:root:Loglik change on updating r is 8.482788689434528e-05\n",
      "INFO:root:Updated r is 0.9531009178564175\n",
      "INFO:root:Loglik change on updating W is 1.6309708124026656\n",
      "INFO:root:Loglik change on updating H is 4.267641061800532\n",
      "INFO:root:Loglik change on updating r is 8.07660399004817e-05\n",
      "INFO:root:Updated r is 0.9531385638735792\n",
      "INFO:root:Loglik change on updating W is 1.5492196581326425\n",
      "INFO:root:Loglik change on updating H is 4.450143669266254\n",
      "INFO:root:Loglik change on updating r is 8.079293183982372e-05\n",
      "INFO:root:Updated r is 0.9531762175167242\n",
      "INFO:root:Iteration 90 after 40.822 seconds, error: 842056.8865532518\n"
     ]
    }
   ],
   "source": [
    "%lprun -f nmflib.nmf._iterate_nmf_fit nmflib.nmf.fit(X_obs, 21, S_true, O_true, True, verbose=True)"
   ]
  },
  {
   "cell_type": "code",
   "execution_count": 17,
   "metadata": {
    "ExecuteTime": {
     "end_time": "2019-12-22T20:17:13.013595Z",
     "start_time": "2019-12-22T20:17:12.997251Z"
    }
   },
   "outputs": [
    {
     "ename": "NameError",
     "evalue": "name 'n_iter' is not defined",
     "output_type": "error",
     "traceback": [
      "\u001b[0;31m---------------------------------------------------------------------------\u001b[0m",
      "\u001b[0;31mNameError\u001b[0m                                 Traceback (most recent call last)",
      "\u001b[0;32m<ipython-input-17-3f65d6c66956>\u001b[0m in \u001b[0;36m<module>\u001b[0;34m\u001b[0m\n\u001b[0;32m----> 1\u001b[0;31m \u001b[0mn_iter\u001b[0m\u001b[0;34m\u001b[0m\u001b[0;34m\u001b[0m\u001b[0m\n\u001b[0m",
      "\u001b[0;31mNameError\u001b[0m: name 'n_iter' is not defined"
     ]
    }
   ],
   "source": [
    "n_iter"
   ]
  }
 ],
 "metadata": {
  "kernelspec": {
   "display_name": "Python 3",
   "language": "python",
   "name": "python3"
  },
  "language_info": {
   "codemirror_mode": {
    "name": "ipython",
    "version": 3
   },
   "file_extension": ".py",
   "mimetype": "text/x-python",
   "name": "python",
   "nbconvert_exporter": "python",
   "pygments_lexer": "ipython3",
   "version": "3.7.3"
  },
  "toc": {
   "base_numbering": 1,
   "nav_menu": {},
   "number_sections": true,
   "sideBar": true,
   "skip_h1_title": true,
   "title_cell": "Table of Contents",
   "title_sidebar": "Contents",
   "toc_cell": false,
   "toc_position": {},
   "toc_section_display": true,
   "toc_window_display": true
  }
 },
 "nbformat": 4,
 "nbformat_minor": 2
}
