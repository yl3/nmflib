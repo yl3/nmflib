{
 "cells": [
  {
   "cell_type": "markdown",
   "metadata": {},
   "source": [
    "# Test code for computing LRTs and confidence intervals"
   ]
  },
  {
   "cell_type": "markdown",
   "metadata": {},
   "source": [
    "## Setup"
   ]
  },
  {
   "cell_type": "code",
   "execution_count": 1,
   "metadata": {
    "ExecuteTime": {
     "end_time": "2019-12-27T00:54:59.231317Z",
     "start_time": "2019-12-27T00:54:59.199257Z"
    }
   },
   "outputs": [
    {
     "data": {
      "text/plain": [
       "'/Users/yl3/github/genomics/nmflib'"
      ]
     },
     "execution_count": 1,
     "metadata": {},
     "output_type": "execute_result"
    }
   ],
   "source": [
    "import os\n",
    "while not os.path.exists('test_data'):\n",
    "    os.chdir('..')\n",
    "os.getcwd()"
   ]
  },
  {
   "cell_type": "code",
   "execution_count": 2,
   "metadata": {
    "ExecuteTime": {
     "end_time": "2019-12-27T00:55:01.617395Z",
     "start_time": "2019-12-27T00:54:59.234498Z"
    }
   },
   "outputs": [],
   "source": [
    "import matplotlib.pyplot as plt\n",
    "import numpy as np\n",
    "import pandas as pd\n",
    "import seaborn as sns\n",
    "import scipy.stats\n",
    "\n",
    "import nmflib.nmf"
   ]
  },
  {
   "cell_type": "code",
   "execution_count": 3,
   "metadata": {
    "ExecuteTime": {
     "end_time": "2019-12-27T00:55:01.627824Z",
     "start_time": "2019-12-27T00:55:01.619785Z"
    }
   },
   "outputs": [],
   "source": [
    "import logging\n",
    "logger = logging.getLogger()\n",
    "logger.setLevel(logging.INFO)"
   ]
  },
  {
   "cell_type": "code",
   "execution_count": 4,
   "metadata": {
    "ExecuteTime": {
     "end_time": "2019-12-27T00:55:01.643184Z",
     "start_time": "2019-12-27T00:55:01.632117Z"
    }
   },
   "outputs": [],
   "source": [
    "sns.set()"
   ]
  },
  {
   "cell_type": "markdown",
   "metadata": {},
   "source": [
    "## Load data"
   ]
  },
  {
   "cell_type": "code",
   "execution_count": 68,
   "metadata": {
    "ExecuteTime": {
     "end_time": "2019-12-27T02:23:10.954026Z",
     "start_time": "2019-12-27T02:23:10.943068Z"
    }
   },
   "outputs": [],
   "source": [
    "def load_syn_data(r=70):  # r in PCAWG-7 data seems to be around 70\n",
    "    datadir = 'test_data'\n",
    "    W = pd.read_csv(datadir + '/ground.truth.syn.sigs.csv.gz',\n",
    "                    index_col=[0, 1],\n",
    "                    header=0)\n",
    "    H = pd.read_csv(datadir +\n",
    "                    '/ground.truth.syn.exposures.csv.gz',\n",
    "                    index_col=0,\n",
    "                    header=0)\n",
    "    \n",
    "    # Compute S, O and X_exp.\n",
    "    WH = W.dot(H)\n",
    "    O = scipy.stats.uniform.rvs(0, 20, WH.shape)\n",
    "    S = scipy.stats.uniform.rvs(0.05, 1 - 0.05, WH.shape)\n",
    "    \n",
    "    # Simulate random counts.\n",
    "    p = nmflib.nmf._nb_p((WH + O) * S, r)\n",
    "    X_obs = scipy.stats.nbinom.rvs(r, p)\n",
    "    return X_obs, W, H, S, O, r"
   ]
  },
  {
   "cell_type": "code",
   "execution_count": 6,
   "metadata": {
    "ExecuteTime": {
     "end_time": "2019-12-27T00:55:03.665432Z",
     "start_time": "2019-12-27T00:55:01.662898Z"
    }
   },
   "outputs": [],
   "source": [
    "np.random.seed(0)\n",
    "X_obs, W_true, H_true, S_true, O_true, r_true = load_syn_data()\n",
    "X_obs = pd.DataFrame(X_obs, index=W_true.index, columns=H_true.columns)"
   ]
  },
  {
   "cell_type": "markdown",
   "metadata": {},
   "source": [
    "## First: fit the data."
   ]
  },
  {
   "cell_type": "code",
   "execution_count": 7,
   "metadata": {
    "ExecuteTime": {
     "end_time": "2019-12-27T00:55:38.550489Z",
     "start_time": "2019-12-27T00:55:03.673373Z"
    },
    "scrolled": true
   },
   "outputs": [
    {
     "name": "stderr",
     "output_type": "stream",
     "text": [
      "INFO:root:Updated r to 2.617887688212463\n",
      "INFO:root:Updated r to 2.8670768131951627\n",
      "INFO:root:Updated r to 3.0551984279323436\n",
      "INFO:root:Updated r to 3.7803134944562755\n",
      "INFO:root:Iteration 10 after 3.631 seconds, error: -147543153.77314487\n",
      "INFO:root:Updated r to 6.713234908722501\n",
      "INFO:root:Updated r to 12.499144194997115\n",
      "INFO:root:Iteration 20 after 4.827 seconds, error: -147641137.37883416\n",
      "INFO:root:Updated r to 24.64133950136789\n",
      "INFO:root:Iteration 30 after 5.515 seconds, error: -147689404.84505832\n",
      "INFO:root:Iteration 40 after 5.743 seconds, error: -147710781.87765732\n",
      "INFO:root:Updated r to 41.717863627486054\n",
      "INFO:root:Iteration 50 after 6.601 seconds, error: -147728078.12487012\n",
      "INFO:root:Iteration 60 after 6.809 seconds, error: -147736492.99068806\n",
      "INFO:root:Iteration 70 after 7.055 seconds, error: -147741663.64767116\n",
      "INFO:root:Updated r to 59.57107337947317\n",
      "INFO:root:Iteration 80 after 7.649 seconds, error: -147747938.97671044\n",
      "INFO:root:Iteration 90 after 7.846 seconds, error: -147750926.31121448\n",
      "INFO:root:Iteration 100 after 8.055 seconds, error: -147752998.64803576\n",
      "INFO:root:Updated r to 73.56208726711193\n",
      "INFO:root:Iteration 110 after 8.609 seconds, error: -147755116.18889415\n",
      "INFO:root:Iteration 120 after 8.899 seconds, error: -147756391.512907\n",
      "INFO:root:Iteration 130 after 9.143 seconds, error: -147757377.66975006\n",
      "INFO:root:Iteration 140 after 9.355 seconds, error: -147758192.80949786\n",
      "INFO:root:Iteration 150 after 9.578 seconds, error: -147758883.8851835\n",
      "INFO:root:Iteration 160 after 9.772 seconds, error: -147759487.2861929\n",
      "INFO:root:Updated r to 81.68667029888785\n",
      "INFO:root:Iteration 170 after 10.326 seconds, error: -147760178.0442437\n",
      "INFO:root:Iteration 180 after 10.508 seconds, error: -147760690.71251485\n",
      "INFO:root:Iteration 190 after 10.788 seconds, error: -147761158.16468897\n",
      "INFO:root:Iteration 200 after 10.973 seconds, error: -147761590.35742557\n",
      "INFO:root:Iteration 210 after 11.160 seconds, error: -147761997.07870418\n",
      "INFO:root:Iteration 220 after 11.357 seconds, error: -147762379.5782756\n",
      "INFO:root:Iteration 230 after 11.535 seconds, error: -147762739.85893276\n",
      "INFO:root:Iteration 240 after 11.724 seconds, error: -147763081.02147552\n",
      "INFO:root:Iteration 250 after 11.946 seconds, error: -147763412.22261018\n",
      "INFO:root:Updated r to 88.42674414009441\n",
      "INFO:root:Iteration 260 after 12.495 seconds, error: -147763824.35238963\n",
      "INFO:root:Iteration 270 after 12.706 seconds, error: -147764137.65416506\n",
      "INFO:root:Iteration 280 after 12.960 seconds, error: -147764433.231938\n",
      "INFO:root:Iteration 290 after 13.183 seconds, error: -147764712.48526984\n",
      "INFO:root:Iteration 300 after 13.400 seconds, error: -147764977.06896284\n",
      "INFO:root:Iteration 310 after 13.621 seconds, error: -147765225.17481682\n",
      "INFO:root:Iteration 320 after 13.870 seconds, error: -147765458.75150964\n",
      "INFO:root:Iteration 330 after 14.059 seconds, error: -147765680.78456175\n",
      "INFO:root:Iteration 340 after 14.259 seconds, error: -147765892.41255128\n",
      "INFO:root:Iteration 350 after 14.473 seconds, error: -147766095.0801401\n",
      "INFO:root:Iteration 360 after 14.699 seconds, error: -147766290.12034538\n",
      "INFO:root:Iteration 370 after 14.928 seconds, error: -147766476.89157665\n",
      "INFO:root:Iteration 380 after 15.147 seconds, error: -147766657.9551585\n",
      "INFO:root:Updated r to 94.90445679817499\n",
      "INFO:root:Iteration 390 after 15.686 seconds, error: -147766902.5129134\n",
      "INFO:root:Iteration 400 after 15.959 seconds, error: -147767081.5371725\n",
      "INFO:root:Iteration 410 after 16.181 seconds, error: -147767254.92911762\n",
      "INFO:root:Iteration 420 after 16.358 seconds, error: -147767424.00942227\n",
      "INFO:root:Iteration 430 after 16.548 seconds, error: -147767588.5468168\n",
      "INFO:root:Iteration 440 after 16.740 seconds, error: -147767748.42364532\n",
      "INFO:root:Iteration 450 after 17.002 seconds, error: -147767904.53258872\n",
      "INFO:root:Iteration 460 after 17.265 seconds, error: -147768056.13573885\n",
      "INFO:root:Iteration 470 after 17.479 seconds, error: -147768203.17708254\n",
      "INFO:root:Iteration 480 after 17.726 seconds, error: -147768347.50065765\n",
      "INFO:root:Iteration 490 after 17.924 seconds, error: -147768491.10377702\n",
      "INFO:root:Iteration 500 after 18.117 seconds, error: -147768629.81951192\n",
      "INFO:root:Iteration 510 after 18.330 seconds, error: -147768767.34547278\n",
      "INFO:root:Iteration 520 after 18.522 seconds, error: -147768904.57707298\n",
      "INFO:root:Iteration 530 after 18.715 seconds, error: -147769041.8021574\n",
      "INFO:root:Iteration 540 after 18.892 seconds, error: -147769179.9176609\n",
      "INFO:root:Iteration 550 after 19.072 seconds, error: -147769319.66450813\n",
      "INFO:root:Iteration 560 after 19.263 seconds, error: -147769461.42081034\n",
      "INFO:root:Iteration 570 after 19.440 seconds, error: -147769605.22861025\n",
      "INFO:root:Updated r to 103.1814658723176\n",
      "INFO:root:Iteration 580 after 19.913 seconds, error: -147769832.387254\n",
      "INFO:root:Iteration 590 after 20.099 seconds, error: -147769984.68070778\n",
      "INFO:root:Iteration 600 after 20.303 seconds, error: -147770129.29636043\n",
      "INFO:root:Iteration 610 after 20.480 seconds, error: -147770267.00831074\n",
      "INFO:root:Iteration 620 after 20.666 seconds, error: -147770399.41359589\n",
      "INFO:root:Iteration 630 after 20.854 seconds, error: -147770527.3336783\n",
      "INFO:root:Iteration 640 after 21.034 seconds, error: -147770651.0222958\n",
      "INFO:root:Iteration 650 after 21.226 seconds, error: -147770770.75929844\n",
      "INFO:root:Iteration 660 after 21.407 seconds, error: -147770886.70125645\n",
      "INFO:root:Iteration 670 after 21.587 seconds, error: -147770998.7539284\n",
      "INFO:root:Iteration 680 after 21.774 seconds, error: -147771106.70831218\n",
      "INFO:root:Iteration 690 after 21.955 seconds, error: -147771210.38706198\n",
      "INFO:root:Iteration 700 after 22.150 seconds, error: -147771309.7836744\n",
      "INFO:root:Iteration 710 after 22.338 seconds, error: -147771405.06344143\n",
      "INFO:root:Iteration 720 after 22.516 seconds, error: -147771496.5205886\n",
      "INFO:root:Iteration 730 after 22.700 seconds, error: -147771584.6974212\n",
      "INFO:root:Iteration 740 after 22.888 seconds, error: -147771670.5733588\n",
      "INFO:root:Iteration 750 after 23.067 seconds, error: -147771756.97166383\n",
      "INFO:root:Iteration 760 after 23.255 seconds, error: -147771847.0679037\n",
      "INFO:root:Iteration 770 after 23.441 seconds, error: -147771931.2055535\n",
      "INFO:root:Iteration 780 after 23.631 seconds, error: -147772008.0650156\n",
      "INFO:root:Iteration 790 after 23.911 seconds, error: -147772080.57438052\n",
      "INFO:root:Iteration 800 after 24.196 seconds, error: -147772150.15502784\n",
      "INFO:root:Iteration 810 after 24.406 seconds, error: -147772217.69383845\n",
      "INFO:root:Iteration 820 after 24.643 seconds, error: -147772283.3686104\n",
      "INFO:root:Iteration 830 after 24.857 seconds, error: -147772347.11673173\n",
      "INFO:root:Iteration 840 after 25.094 seconds, error: -147772409.67343852\n",
      "INFO:root:Iteration 850 after 25.301 seconds, error: -147772472.64659363\n",
      "INFO:root:Iteration 860 after 25.535 seconds, error: -147772532.78092152\n",
      "INFO:root:Updated r to 112.09223991585807\n",
      "INFO:root:Iteration 870 after 26.110 seconds, error: -147772661.90289387\n",
      "INFO:root:Iteration 880 after 26.315 seconds, error: -147772720.65725228\n",
      "INFO:root:Iteration 890 after 26.521 seconds, error: -147772777.14255404\n",
      "INFO:root:Iteration 900 after 26.813 seconds, error: -147772831.1972844\n",
      "INFO:root:Iteration 910 after 27.160 seconds, error: -147772882.84477645\n",
      "INFO:root:Iteration 920 after 27.396 seconds, error: -147772932.5142238\n",
      "INFO:root:Iteration 930 after 27.601 seconds, error: -147772980.61072108\n",
      "INFO:root:Iteration 940 after 27.852 seconds, error: -147773027.42284563\n",
      "INFO:root:Iteration 950 after 28.049 seconds, error: -147773073.00165612\n",
      "INFO:root:Iteration 960 after 28.264 seconds, error: -147773117.34172258\n",
      "INFO:root:Iteration 970 after 28.506 seconds, error: -147773160.5599237\n",
      "INFO:root:Iteration 980 after 28.711 seconds, error: -147773202.37620556\n",
      "INFO:root:Iteration 990 after 28.887 seconds, error: -147773242.4046593\n",
      "INFO:root:Iteration 1000 after 29.103 seconds, error: -147773280.949905\n",
      "INFO:root:Iteration 1010 after 29.318 seconds, error: -147773318.41234195\n",
      "INFO:root:Iteration 1020 after 29.509 seconds, error: -147773354.7790907\n",
      "INFO:root:Iteration 1030 after 29.726 seconds, error: -147773390.02989063\n",
      "INFO:root:Iteration 1040 after 29.979 seconds, error: -147773424.28126025\n",
      "INFO:root:Iteration 1050 after 30.198 seconds, error: -147773457.68523744\n"
     ]
    },
    {
     "name": "stderr",
     "output_type": "stream",
     "text": [
      "INFO:root:Iteration 1060 after 30.407 seconds, error: -147773490.29653576\n",
      "INFO:root:Iteration 1070 after 30.644 seconds, error: -147773522.01167068\n",
      "INFO:root:Iteration 1080 after 30.861 seconds, error: -147773552.4645343\n",
      "INFO:root:Iteration 1090 after 31.069 seconds, error: -147773581.43482852\n",
      "INFO:root:Iteration 1100 after 31.313 seconds, error: -147773609.1320214\n",
      "INFO:root:Iteration 1110 after 31.514 seconds, error: -147773635.89222902\n",
      "INFO:root:Iteration 1120 after 31.737 seconds, error: -147773661.97954065\n",
      "INFO:root:Iteration 1130 after 31.988 seconds, error: -147773687.641322\n",
      "INFO:root:Iteration 1130 after 31.989 seconds, W and H converged, error: -147773687.641322\n",
      "INFO:root:Updated r to 115.77681947903694\n",
      "INFO:root:Updated r to 115.82535188129643\n",
      "INFO:root:Updated r to 115.85209089533295\n",
      "INFO:root:Updated r to 115.87244203559226\n",
      "INFO:root:Updated r to 115.88956545507\n",
      "INFO:root:Updated r to 115.90472627332066\n",
      "INFO:root:Updated r to 115.91857842352624\n",
      "INFO:root:Updated r to 115.93150129652714\n",
      "INFO:root:Updated r to 115.94373233729775\n",
      "INFO:root:Updated r to 115.95542901439431\n",
      "INFO:root:Iteration 1140 after 33.481 seconds, error: -147773724.18182287\n",
      "INFO:root:Updated r to 115.96670068690722\n",
      "INFO:root:Updated r to 115.9776261790232\n",
      "INFO:root:Updated r to 115.98826404524544\n",
      "INFO:root:Updated r to 115.99865887029583\n",
      "INFO:root:Updated r to 116.00884530016309\n",
      "INFO:root:Updated r to 116.01885071673952\n",
      "INFO:root:Updated r to 116.02869707264071\n",
      "INFO:root:Updated r to 116.0384021818588\n",
      "INFO:root:Updated r to 116.04798065396938\n",
      "INFO:root:Updated r to 116.05744458153895\n",
      "INFO:root:Iteration 1150 after 34.848 seconds, error: -147773750.06549156\n"
     ]
    }
   ],
   "source": [
    "W, H, r, n_iter, errors = nmflib.nmf.fit(X_obs, W_true.shape[1], S_true,\n",
    "                                         O_true, True, max_iter=2000,\n",
    "                                         verbose=True)"
   ]
  },
  {
   "cell_type": "code",
   "execution_count": 8,
   "metadata": {
    "ExecuteTime": {
     "end_time": "2019-12-27T00:55:39.966768Z",
     "start_time": "2019-12-27T00:55:38.553882Z"
    },
    "scrolled": false
   },
   "outputs": [
    {
     "data": {
      "text/plain": [
       "<matplotlib.axes._subplots.AxesSubplot at 0x10a760780>"
      ]
     },
     "execution_count": 8,
     "metadata": {},
     "output_type": "execute_result"
    },
    {
     "data": {
      "image/png": "[encoded data removed]",
      "text/plain": [
       "<Figure size 864x576 with 4 Axes>"
      ]
     },
     "metadata": {},
     "output_type": "display_data"
    }
   ],
   "source": [
    "fig, ax = plt.subplots(1, 2, figsize=(12, 8))\n",
    "sns.heatmap(W, ax=ax[0])\n",
    "sns.heatmap(W_true, ax=ax[1])"
   ]
  },
  {
   "cell_type": "markdown",
   "metadata": {},
   "source": [
    "## Test LRT."
   ]
  },
  {
   "cell_type": "markdown",
   "metadata": {
    "ExecuteTime": {
     "end_time": "2019-12-27T00:10:02.823887Z",
     "start_time": "2019-12-27T00:10:02.820594Z"
    }
   },
   "source": [
    "### Which signature has the lowest total exposure? Find the patient with the lowest of number of that signature."
   ]
  },
  {
   "cell_type": "code",
   "execution_count": 188,
   "metadata": {
    "ExecuteTime": {
     "end_time": "2019-12-27T03:09:59.641142Z",
     "start_time": "2019-12-27T03:09:59.595978Z"
    },
    "scrolled": true
   },
   "outputs": [
    {
     "data": {
      "text/html": [
       "<div>\n",
       "<style scoped>\n",
       "    .dataframe tbody tr th:only-of-type {\n",
       "        vertical-align: middle;\n",
       "    }\n",
       "\n",
       "    .dataframe tbody tr th {\n",
       "        vertical-align: top;\n",
       "    }\n",
       "\n",
       "    .dataframe thead th {\n",
       "        text-align: right;\n",
       "    }\n",
       "</style>\n",
       "<table border=\"1\" class=\"dataframe\">\n",
       "  <thead>\n",
       "    <tr style=\"text-align: right;\">\n",
       "      <th></th>\n",
       "      <th>SP.Syn.Bladder-TCC::S.1</th>\n",
       "      <th>SP.Syn.Bladder-TCC::S.2</th>\n",
       "      <th>SP.Syn.Bladder-TCC::S.3</th>\n",
       "      <th>SP.Syn.Bladder-TCC::S.4</th>\n",
       "      <th>SP.Syn.Bladder-TCC::S.5</th>\n",
       "      <th>SP.Syn.Bladder-TCC::S.6</th>\n",
       "      <th>SP.Syn.Bladder-TCC::S.7</th>\n",
       "      <th>SP.Syn.Bladder-TCC::S.8</th>\n",
       "      <th>SP.Syn.Bladder-TCC::S.9</th>\n",
       "      <th>SP.Syn.Bladder-TCC::S.10</th>\n",
       "      <th>...</th>\n",
       "      <th>SP.Syn.Stomach-AdenoCA::S.291</th>\n",
       "      <th>SP.Syn.Stomach-AdenoCA::S.292</th>\n",
       "      <th>SP.Syn.Stomach-AdenoCA::S.293</th>\n",
       "      <th>SP.Syn.Stomach-AdenoCA::S.294</th>\n",
       "      <th>SP.Syn.Stomach-AdenoCA::S.295</th>\n",
       "      <th>SP.Syn.Stomach-AdenoCA::S.296</th>\n",
       "      <th>SP.Syn.Stomach-AdenoCA::S.297</th>\n",
       "      <th>SP.Syn.Stomach-AdenoCA::S.298</th>\n",
       "      <th>SP.Syn.Stomach-AdenoCA::S.299</th>\n",
       "      <th>SP.Syn.Stomach-AdenoCA::S.300</th>\n",
       "    </tr>\n",
       "  </thead>\n",
       "  <tbody>\n",
       "    <tr>\n",
       "      <th>0</th>\n",
       "      <td>246.372257</td>\n",
       "      <td>0.030873</td>\n",
       "      <td>3.682474e-19</td>\n",
       "      <td>1.205980e+02</td>\n",
       "      <td>226.590672</td>\n",
       "      <td>4.384992e+02</td>\n",
       "      <td>90.040100</td>\n",
       "      <td>1.916240e+03</td>\n",
       "      <td>134.100823</td>\n",
       "      <td>1.874307e+02</td>\n",
       "      <td>...</td>\n",
       "      <td>9.219452e-30</td>\n",
       "      <td>8.210593e-20</td>\n",
       "      <td>1.827784e+02</td>\n",
       "      <td>15.988048</td>\n",
       "      <td>1.195882e+02</td>\n",
       "      <td>560.029661</td>\n",
       "      <td>701.929598</td>\n",
       "      <td>3.005699e+02</td>\n",
       "      <td>238.201370</td>\n",
       "      <td>2.855691e+04</td>\n",
       "    </tr>\n",
       "    <tr>\n",
       "      <th>1</th>\n",
       "      <td>327.334572</td>\n",
       "      <td>72.814910</td>\n",
       "      <td>1.013121e+02</td>\n",
       "      <td>5.322921e+02</td>\n",
       "      <td>324.047260</td>\n",
       "      <td>5.758520e+02</td>\n",
       "      <td>565.513872</td>\n",
       "      <td>3.822392e+02</td>\n",
       "      <td>284.868938</td>\n",
       "      <td>9.887980e-20</td>\n",
       "      <td>...</td>\n",
       "      <td>1.460300e+03</td>\n",
       "      <td>1.849070e+02</td>\n",
       "      <td>2.913431e+02</td>\n",
       "      <td>385.774371</td>\n",
       "      <td>4.536145e+02</td>\n",
       "      <td>1897.535332</td>\n",
       "      <td>6273.765412</td>\n",
       "      <td>1.967372e+03</td>\n",
       "      <td>373.343458</td>\n",
       "      <td>4.854385e-11</td>\n",
       "    </tr>\n",
       "    <tr>\n",
       "      <th>2</th>\n",
       "      <td>1.188273</td>\n",
       "      <td>74.221025</td>\n",
       "      <td>9.263341e+01</td>\n",
       "      <td>1.201955e+02</td>\n",
       "      <td>183.883244</td>\n",
       "      <td>5.047975e+02</td>\n",
       "      <td>354.749062</td>\n",
       "      <td>3.291384e+01</td>\n",
       "      <td>28.567223</td>\n",
       "      <td>2.594688e+02</td>\n",
       "      <td>...</td>\n",
       "      <td>5.689100e+02</td>\n",
       "      <td>1.740922e+02</td>\n",
       "      <td>1.525683e+02</td>\n",
       "      <td>0.000467</td>\n",
       "      <td>2.740048e+02</td>\n",
       "      <td>310.452890</td>\n",
       "      <td>906.226137</td>\n",
       "      <td>2.600435e+02</td>\n",
       "      <td>87.247997</td>\n",
       "      <td>3.666138e-26</td>\n",
       "    </tr>\n",
       "    <tr>\n",
       "      <th>3</th>\n",
       "      <td>1386.431196</td>\n",
       "      <td>712.241497</td>\n",
       "      <td>5.088091e+02</td>\n",
       "      <td>1.955156e+03</td>\n",
       "      <td>1906.003723</td>\n",
       "      <td>1.242298e+03</td>\n",
       "      <td>3597.403067</td>\n",
       "      <td>2.582831e+02</td>\n",
       "      <td>1111.600299</td>\n",
       "      <td>1.948015e+02</td>\n",
       "      <td>...</td>\n",
       "      <td>9.699042e+02</td>\n",
       "      <td>2.167551e+01</td>\n",
       "      <td>9.008987e+01</td>\n",
       "      <td>137.624385</td>\n",
       "      <td>8.606629e+01</td>\n",
       "      <td>491.398179</td>\n",
       "      <td>1663.969873</td>\n",
       "      <td>3.850300e-52</td>\n",
       "      <td>180.072205</td>\n",
       "      <td>7.941335e+03</td>\n",
       "    </tr>\n",
       "    <tr>\n",
       "      <th>4</th>\n",
       "      <td>486.029846</td>\n",
       "      <td>832.125566</td>\n",
       "      <td>1.087868e+03</td>\n",
       "      <td>8.840000e+02</td>\n",
       "      <td>1354.236059</td>\n",
       "      <td>1.497995e+04</td>\n",
       "      <td>3232.602070</td>\n",
       "      <td>2.366628e+04</td>\n",
       "      <td>2002.393466</td>\n",
       "      <td>1.775597e+04</td>\n",
       "      <td>...</td>\n",
       "      <td>3.970931e+02</td>\n",
       "      <td>1.944875e+02</td>\n",
       "      <td>2.755406e+03</td>\n",
       "      <td>44.469194</td>\n",
       "      <td>2.178917e+02</td>\n",
       "      <td>259.392888</td>\n",
       "      <td>317.655289</td>\n",
       "      <td>2.321272e-76</td>\n",
       "      <td>532.768290</td>\n",
       "      <td>4.867329e+03</td>\n",
       "    </tr>\n",
       "    <tr>\n",
       "      <th>5</th>\n",
       "      <td>318.061064</td>\n",
       "      <td>95.949270</td>\n",
       "      <td>9.593623e+01</td>\n",
       "      <td>2.104428e+02</td>\n",
       "      <td>653.286152</td>\n",
       "      <td>5.791761e+02</td>\n",
       "      <td>56.180692</td>\n",
       "      <td>1.539595e-04</td>\n",
       "      <td>202.743090</td>\n",
       "      <td>2.865698e+00</td>\n",
       "      <td>...</td>\n",
       "      <td>1.648274e+04</td>\n",
       "      <td>3.521897e-21</td>\n",
       "      <td>6.000060e+01</td>\n",
       "      <td>45.602454</td>\n",
       "      <td>1.424854e-13</td>\n",
       "      <td>255.453314</td>\n",
       "      <td>371.679067</td>\n",
       "      <td>1.609106e-73</td>\n",
       "      <td>368.463144</td>\n",
       "      <td>7.358969e+03</td>\n",
       "    </tr>\n",
       "    <tr>\n",
       "      <th>6</th>\n",
       "      <td>161.601183</td>\n",
       "      <td>21.020104</td>\n",
       "      <td>4.156682e+01</td>\n",
       "      <td>1.219254e+02</td>\n",
       "      <td>340.149663</td>\n",
       "      <td>2.545903e+02</td>\n",
       "      <td>298.311658</td>\n",
       "      <td>3.835268e+01</td>\n",
       "      <td>139.302050</td>\n",
       "      <td>1.674690e+01</td>\n",
       "      <td>...</td>\n",
       "      <td>8.968470e+02</td>\n",
       "      <td>2.724495e-65</td>\n",
       "      <td>1.467573e+03</td>\n",
       "      <td>2497.727831</td>\n",
       "      <td>2.247356e+02</td>\n",
       "      <td>280.365772</td>\n",
       "      <td>8391.546116</td>\n",
       "      <td>4.921523e+01</td>\n",
       "      <td>5698.872986</td>\n",
       "      <td>5.319051e+03</td>\n",
       "    </tr>\n",
       "    <tr>\n",
       "      <th>7</th>\n",
       "      <td>152.195660</td>\n",
       "      <td>315.007174</td>\n",
       "      <td>1.375389e+02</td>\n",
       "      <td>7.601894e+01</td>\n",
       "      <td>343.528285</td>\n",
       "      <td>1.938164e+02</td>\n",
       "      <td>199.564831</td>\n",
       "      <td>2.048032e+02</td>\n",
       "      <td>151.026431</td>\n",
       "      <td>3.215387e+02</td>\n",
       "      <td>...</td>\n",
       "      <td>1.717209e-01</td>\n",
       "      <td>7.237414e+02</td>\n",
       "      <td>8.346908e+02</td>\n",
       "      <td>413.814571</td>\n",
       "      <td>1.424036e+03</td>\n",
       "      <td>383.939607</td>\n",
       "      <td>0.001313</td>\n",
       "      <td>1.039961e+03</td>\n",
       "      <td>218.761966</td>\n",
       "      <td>2.925653e-13</td>\n",
       "    </tr>\n",
       "    <tr>\n",
       "      <th>8</th>\n",
       "      <td>5072.494679</td>\n",
       "      <td>1864.648539</td>\n",
       "      <td>1.931204e+03</td>\n",
       "      <td>4.390274e+03</td>\n",
       "      <td>3938.987829</td>\n",
       "      <td>1.031825e+03</td>\n",
       "      <td>1244.968524</td>\n",
       "      <td>7.804084e+03</td>\n",
       "      <td>3591.893284</td>\n",
       "      <td>4.449585e+03</td>\n",
       "      <td>...</td>\n",
       "      <td>8.009692e+02</td>\n",
       "      <td>2.118989e-02</td>\n",
       "      <td>2.406592e+03</td>\n",
       "      <td>155.776209</td>\n",
       "      <td>3.657906e-36</td>\n",
       "      <td>96.851844</td>\n",
       "      <td>260.826895</td>\n",
       "      <td>9.090170e+01</td>\n",
       "      <td>316.109038</td>\n",
       "      <td>1.806662e+04</td>\n",
       "    </tr>\n",
       "    <tr>\n",
       "      <th>9</th>\n",
       "      <td>495.869622</td>\n",
       "      <td>74.847314</td>\n",
       "      <td>1.368099e+02</td>\n",
       "      <td>2.692231e+02</td>\n",
       "      <td>1252.177700</td>\n",
       "      <td>6.733144e+02</td>\n",
       "      <td>723.314801</td>\n",
       "      <td>1.127889e+04</td>\n",
       "      <td>220.923581</td>\n",
       "      <td>3.283333e-04</td>\n",
       "      <td>...</td>\n",
       "      <td>8.397355e+02</td>\n",
       "      <td>9.564514e-13</td>\n",
       "      <td>9.514003e+01</td>\n",
       "      <td>105.338448</td>\n",
       "      <td>4.731681e-19</td>\n",
       "      <td>192.213293</td>\n",
       "      <td>147.153322</td>\n",
       "      <td>3.604768e-12</td>\n",
       "      <td>799.852052</td>\n",
       "      <td>2.168649e+04</td>\n",
       "    </tr>\n",
       "    <tr>\n",
       "      <th>10</th>\n",
       "      <td>1298.746873</td>\n",
       "      <td>666.500101</td>\n",
       "      <td>7.062855e+02</td>\n",
       "      <td>2.896695e+03</td>\n",
       "      <td>1684.231507</td>\n",
       "      <td>1.518719e+03</td>\n",
       "      <td>5113.201293</td>\n",
       "      <td>3.499350e-15</td>\n",
       "      <td>2009.329781</td>\n",
       "      <td>1.796419e+02</td>\n",
       "      <td>...</td>\n",
       "      <td>2.251966e-17</td>\n",
       "      <td>3.408654e+01</td>\n",
       "      <td>3.123544e+02</td>\n",
       "      <td>97.758798</td>\n",
       "      <td>7.417886e+01</td>\n",
       "      <td>710.237473</td>\n",
       "      <td>2149.383233</td>\n",
       "      <td>1.735077e-08</td>\n",
       "      <td>218.874274</td>\n",
       "      <td>3.912492e-01</td>\n",
       "    </tr>\n",
       "    <tr>\n",
       "      <th>11</th>\n",
       "      <td>124.711050</td>\n",
       "      <td>94.567483</td>\n",
       "      <td>7.776423e+01</td>\n",
       "      <td>1.766861e+02</td>\n",
       "      <td>293.203727</td>\n",
       "      <td>2.112437e+02</td>\n",
       "      <td>386.024758</td>\n",
       "      <td>1.338612e+02</td>\n",
       "      <td>88.859296</td>\n",
       "      <td>1.862165e+01</td>\n",
       "      <td>...</td>\n",
       "      <td>1.360459e+03</td>\n",
       "      <td>3.078164e+03</td>\n",
       "      <td>1.431010e+02</td>\n",
       "      <td>1764.636514</td>\n",
       "      <td>1.503139e+03</td>\n",
       "      <td>74.193082</td>\n",
       "      <td>471.115901</td>\n",
       "      <td>6.938086e+02</td>\n",
       "      <td>478.219227</td>\n",
       "      <td>2.375576e+04</td>\n",
       "    </tr>\n",
       "    <tr>\n",
       "      <th>12</th>\n",
       "      <td>144.001713</td>\n",
       "      <td>396.798280</td>\n",
       "      <td>1.271325e+02</td>\n",
       "      <td>9.621172e-08</td>\n",
       "      <td>1503.506809</td>\n",
       "      <td>6.057051e+02</td>\n",
       "      <td>215.433421</td>\n",
       "      <td>1.024303e+03</td>\n",
       "      <td>3.459613</td>\n",
       "      <td>4.672689e-02</td>\n",
       "      <td>...</td>\n",
       "      <td>1.973802e+01</td>\n",
       "      <td>8.880527e+01</td>\n",
       "      <td>5.345477e-04</td>\n",
       "      <td>192.934177</td>\n",
       "      <td>9.036209e+01</td>\n",
       "      <td>198.228124</td>\n",
       "      <td>507.460173</td>\n",
       "      <td>3.249642e-01</td>\n",
       "      <td>731.952385</td>\n",
       "      <td>1.261878e+05</td>\n",
       "    </tr>\n",
       "    <tr>\n",
       "      <th>13</th>\n",
       "      <td>406.230148</td>\n",
       "      <td>272.290580</td>\n",
       "      <td>1.530522e+01</td>\n",
       "      <td>1.512294e+02</td>\n",
       "      <td>663.237991</td>\n",
       "      <td>8.634917e-14</td>\n",
       "      <td>723.035990</td>\n",
       "      <td>4.919984e+02</td>\n",
       "      <td>40.640938</td>\n",
       "      <td>7.561829e+00</td>\n",
       "      <td>...</td>\n",
       "      <td>2.796811e+02</td>\n",
       "      <td>7.278432e+01</td>\n",
       "      <td>1.691998e+01</td>\n",
       "      <td>36.370205</td>\n",
       "      <td>6.338647e+01</td>\n",
       "      <td>23.786529</td>\n",
       "      <td>800.468160</td>\n",
       "      <td>2.992838e+04</td>\n",
       "      <td>346.972024</td>\n",
       "      <td>5.444501e+04</td>\n",
       "    </tr>\n",
       "    <tr>\n",
       "      <th>14</th>\n",
       "      <td>772.551135</td>\n",
       "      <td>60.758882</td>\n",
       "      <td>1.624534e+02</td>\n",
       "      <td>1.680627e+02</td>\n",
       "      <td>901.370928</td>\n",
       "      <td>7.414414e+02</td>\n",
       "      <td>1128.997629</td>\n",
       "      <td>1.335797e-09</td>\n",
       "      <td>268.380259</td>\n",
       "      <td>7.684701e+01</td>\n",
       "      <td>...</td>\n",
       "      <td>9.533116e-04</td>\n",
       "      <td>1.598144e-08</td>\n",
       "      <td>1.885242e-09</td>\n",
       "      <td>15.430885</td>\n",
       "      <td>4.104523e+01</td>\n",
       "      <td>337.162917</td>\n",
       "      <td>365.398092</td>\n",
       "      <td>1.852587e-50</td>\n",
       "      <td>479.044904</td>\n",
       "      <td>2.736926e+05</td>\n",
       "    </tr>\n",
       "    <tr>\n",
       "      <th>15</th>\n",
       "      <td>661.611050</td>\n",
       "      <td>967.813943</td>\n",
       "      <td>3.770939e+02</td>\n",
       "      <td>2.565994e+02</td>\n",
       "      <td>308.959064</td>\n",
       "      <td>3.759053e+02</td>\n",
       "      <td>755.189896</td>\n",
       "      <td>3.992929e+02</td>\n",
       "      <td>379.619906</td>\n",
       "      <td>6.798648e+02</td>\n",
       "      <td>...</td>\n",
       "      <td>1.855046e+04</td>\n",
       "      <td>1.525396e+03</td>\n",
       "      <td>1.256982e+03</td>\n",
       "      <td>518.000287</td>\n",
       "      <td>1.585853e+03</td>\n",
       "      <td>761.227009</td>\n",
       "      <td>851.739588</td>\n",
       "      <td>2.286325e-31</td>\n",
       "      <td>320.123416</td>\n",
       "      <td>2.538694e-34</td>\n",
       "    </tr>\n",
       "    <tr>\n",
       "      <th>16</th>\n",
       "      <td>114.026561</td>\n",
       "      <td>13.762761</td>\n",
       "      <td>2.677002e+01</td>\n",
       "      <td>2.316219e+02</td>\n",
       "      <td>521.582065</td>\n",
       "      <td>1.917238e+02</td>\n",
       "      <td>436.597267</td>\n",
       "      <td>4.300440e-01</td>\n",
       "      <td>163.303143</td>\n",
       "      <td>7.064205e+01</td>\n",
       "      <td>...</td>\n",
       "      <td>1.185884e+05</td>\n",
       "      <td>6.109098e-41</td>\n",
       "      <td>1.242581e+01</td>\n",
       "      <td>0.000010</td>\n",
       "      <td>3.633594e+01</td>\n",
       "      <td>193.810215</td>\n",
       "      <td>721.858049</td>\n",
       "      <td>2.946153e+03</td>\n",
       "      <td>0.001125</td>\n",
       "      <td>3.239995e-14</td>\n",
       "    </tr>\n",
       "    <tr>\n",
       "      <th>17</th>\n",
       "      <td>175.183173</td>\n",
       "      <td>113.600745</td>\n",
       "      <td>8.236169e+01</td>\n",
       "      <td>4.422345e+02</td>\n",
       "      <td>643.791354</td>\n",
       "      <td>3.680118e+02</td>\n",
       "      <td>783.362882</td>\n",
       "      <td>1.513875e+02</td>\n",
       "      <td>530.412976</td>\n",
       "      <td>6.956532e+01</td>\n",
       "      <td>...</td>\n",
       "      <td>4.255901e+02</td>\n",
       "      <td>1.136061e-28</td>\n",
       "      <td>1.588102e+01</td>\n",
       "      <td>79.537925</td>\n",
       "      <td>1.281343e+02</td>\n",
       "      <td>152.133427</td>\n",
       "      <td>492.520033</td>\n",
       "      <td>2.381215e-25</td>\n",
       "      <td>70.824605</td>\n",
       "      <td>1.725967e+04</td>\n",
       "    </tr>\n",
       "    <tr>\n",
       "      <th>18</th>\n",
       "      <td>993.026394</td>\n",
       "      <td>393.934101</td>\n",
       "      <td>1.528744e+02</td>\n",
       "      <td>5.769319e+02</td>\n",
       "      <td>3150.759985</td>\n",
       "      <td>2.351595e+03</td>\n",
       "      <td>1545.961888</td>\n",
       "      <td>1.486219e-14</td>\n",
       "      <td>455.427094</td>\n",
       "      <td>2.760356e+02</td>\n",
       "      <td>...</td>\n",
       "      <td>1.938284e-12</td>\n",
       "      <td>5.829785e+01</td>\n",
       "      <td>1.282491e+02</td>\n",
       "      <td>67.294057</td>\n",
       "      <td>7.878620e-07</td>\n",
       "      <td>130.528061</td>\n",
       "      <td>741.785068</td>\n",
       "      <td>2.388597e-26</td>\n",
       "      <td>2111.054910</td>\n",
       "      <td>1.011197e+04</td>\n",
       "    </tr>\n",
       "    <tr>\n",
       "      <th>19</th>\n",
       "      <td>109.555835</td>\n",
       "      <td>148.483326</td>\n",
       "      <td>6.794199e+01</td>\n",
       "      <td>3.101714e+02</td>\n",
       "      <td>384.190544</td>\n",
       "      <td>2.224294e+02</td>\n",
       "      <td>579.210201</td>\n",
       "      <td>2.650314e+03</td>\n",
       "      <td>94.204985</td>\n",
       "      <td>5.193990e+01</td>\n",
       "      <td>...</td>\n",
       "      <td>5.913406e+02</td>\n",
       "      <td>2.720347e+01</td>\n",
       "      <td>2.135170e-19</td>\n",
       "      <td>30.440597</td>\n",
       "      <td>3.454592e+01</td>\n",
       "      <td>67.863487</td>\n",
       "      <td>310.080434</td>\n",
       "      <td>1.946224e-06</td>\n",
       "      <td>22.622240</td>\n",
       "      <td>5.328126e+04</td>\n",
       "    </tr>\n",
       "    <tr>\n",
       "      <th>20</th>\n",
       "      <td>1033.956923</td>\n",
       "      <td>964.477581</td>\n",
       "      <td>5.290814e+02</td>\n",
       "      <td>2.654879e+03</td>\n",
       "      <td>1556.251257</td>\n",
       "      <td>1.217026e+03</td>\n",
       "      <td>5243.677280</td>\n",
       "      <td>1.437965e-04</td>\n",
       "      <td>1466.908794</td>\n",
       "      <td>4.162255e+02</td>\n",
       "      <td>...</td>\n",
       "      <td>1.632222e+03</td>\n",
       "      <td>8.051881e+01</td>\n",
       "      <td>3.652999e+02</td>\n",
       "      <td>107.641301</td>\n",
       "      <td>3.228346e+01</td>\n",
       "      <td>416.857719</td>\n",
       "      <td>1740.082620</td>\n",
       "      <td>5.876242e-23</td>\n",
       "      <td>398.523754</td>\n",
       "      <td>1.018699e+05</td>\n",
       "    </tr>\n",
       "  </tbody>\n",
       "</table>\n",
       "<p>21 rows × 2700 columns</p>\n",
       "</div>"
      ],
      "text/plain": [
       "    SP.Syn.Bladder-TCC::S.1  SP.Syn.Bladder-TCC::S.2  SP.Syn.Bladder-TCC::S.3  \\\n",
       "0                246.372257                 0.030873             3.682474e-19   \n",
       "1                327.334572                72.814910             1.013121e+02   \n",
       "2                  1.188273                74.221025             9.263341e+01   \n",
       "3               1386.431196               712.241497             5.088091e+02   \n",
       "4                486.029846               832.125566             1.087868e+03   \n",
       "5                318.061064                95.949270             9.593623e+01   \n",
       "6                161.601183                21.020104             4.156682e+01   \n",
       "7                152.195660               315.007174             1.375389e+02   \n",
       "8               5072.494679              1864.648539             1.931204e+03   \n",
       "9                495.869622                74.847314             1.368099e+02   \n",
       "10              1298.746873               666.500101             7.062855e+02   \n",
       "11               124.711050                94.567483             7.776423e+01   \n",
       "12               144.001713               396.798280             1.271325e+02   \n",
       "13               406.230148               272.290580             1.530522e+01   \n",
       "14               772.551135                60.758882             1.624534e+02   \n",
       "15               661.611050               967.813943             3.770939e+02   \n",
       "16               114.026561                13.762761             2.677002e+01   \n",
       "17               175.183173               113.600745             8.236169e+01   \n",
       "18               993.026394               393.934101             1.528744e+02   \n",
       "19               109.555835               148.483326             6.794199e+01   \n",
       "20              1033.956923               964.477581             5.290814e+02   \n",
       "\n",
       "    SP.Syn.Bladder-TCC::S.4  SP.Syn.Bladder-TCC::S.5  SP.Syn.Bladder-TCC::S.6  \\\n",
       "0              1.205980e+02               226.590672             4.384992e+02   \n",
       "1              5.322921e+02               324.047260             5.758520e+02   \n",
       "2              1.201955e+02               183.883244             5.047975e+02   \n",
       "3              1.955156e+03              1906.003723             1.242298e+03   \n",
       "4              8.840000e+02              1354.236059             1.497995e+04   \n",
       "5              2.104428e+02               653.286152             5.791761e+02   \n",
       "6              1.219254e+02               340.149663             2.545903e+02   \n",
       "7              7.601894e+01               343.528285             1.938164e+02   \n",
       "8              4.390274e+03              3938.987829             1.031825e+03   \n",
       "9              2.692231e+02              1252.177700             6.733144e+02   \n",
       "10             2.896695e+03              1684.231507             1.518719e+03   \n",
       "11             1.766861e+02               293.203727             2.112437e+02   \n",
       "12             9.621172e-08              1503.506809             6.057051e+02   \n",
       "13             1.512294e+02               663.237991             8.634917e-14   \n",
       "14             1.680627e+02               901.370928             7.414414e+02   \n",
       "15             2.565994e+02               308.959064             3.759053e+02   \n",
       "16             2.316219e+02               521.582065             1.917238e+02   \n",
       "17             4.422345e+02               643.791354             3.680118e+02   \n",
       "18             5.769319e+02              3150.759985             2.351595e+03   \n",
       "19             3.101714e+02               384.190544             2.224294e+02   \n",
       "20             2.654879e+03              1556.251257             1.217026e+03   \n",
       "\n",
       "    SP.Syn.Bladder-TCC::S.7  SP.Syn.Bladder-TCC::S.8  SP.Syn.Bladder-TCC::S.9  \\\n",
       "0                 90.040100             1.916240e+03               134.100823   \n",
       "1                565.513872             3.822392e+02               284.868938   \n",
       "2                354.749062             3.291384e+01                28.567223   \n",
       "3               3597.403067             2.582831e+02              1111.600299   \n",
       "4               3232.602070             2.366628e+04              2002.393466   \n",
       "5                 56.180692             1.539595e-04               202.743090   \n",
       "6                298.311658             3.835268e+01               139.302050   \n",
       "7                199.564831             2.048032e+02               151.026431   \n",
       "8               1244.968524             7.804084e+03              3591.893284   \n",
       "9                723.314801             1.127889e+04               220.923581   \n",
       "10              5113.201293             3.499350e-15              2009.329781   \n",
       "11               386.024758             1.338612e+02                88.859296   \n",
       "12               215.433421             1.024303e+03                 3.459613   \n",
       "13               723.035990             4.919984e+02                40.640938   \n",
       "14              1128.997629             1.335797e-09               268.380259   \n",
       "15               755.189896             3.992929e+02               379.619906   \n",
       "16               436.597267             4.300440e-01               163.303143   \n",
       "17               783.362882             1.513875e+02               530.412976   \n",
       "18              1545.961888             1.486219e-14               455.427094   \n",
       "19               579.210201             2.650314e+03                94.204985   \n",
       "20              5243.677280             1.437965e-04              1466.908794   \n",
       "\n",
       "    SP.Syn.Bladder-TCC::S.10  ...  SP.Syn.Stomach-AdenoCA::S.291  \\\n",
       "0               1.874307e+02  ...                   9.219452e-30   \n",
       "1               9.887980e-20  ...                   1.460300e+03   \n",
       "2               2.594688e+02  ...                   5.689100e+02   \n",
       "3               1.948015e+02  ...                   9.699042e+02   \n",
       "4               1.775597e+04  ...                   3.970931e+02   \n",
       "5               2.865698e+00  ...                   1.648274e+04   \n",
       "6               1.674690e+01  ...                   8.968470e+02   \n",
       "7               3.215387e+02  ...                   1.717209e-01   \n",
       "8               4.449585e+03  ...                   8.009692e+02   \n",
       "9               3.283333e-04  ...                   8.397355e+02   \n",
       "10              1.796419e+02  ...                   2.251966e-17   \n",
       "11              1.862165e+01  ...                   1.360459e+03   \n",
       "12              4.672689e-02  ...                   1.973802e+01   \n",
       "13              7.561829e+00  ...                   2.796811e+02   \n",
       "14              7.684701e+01  ...                   9.533116e-04   \n",
       "15              6.798648e+02  ...                   1.855046e+04   \n",
       "16              7.064205e+01  ...                   1.185884e+05   \n",
       "17              6.956532e+01  ...                   4.255901e+02   \n",
       "18              2.760356e+02  ...                   1.938284e-12   \n",
       "19              5.193990e+01  ...                   5.913406e+02   \n",
       "20              4.162255e+02  ...                   1.632222e+03   \n",
       "\n",
       "    SP.Syn.Stomach-AdenoCA::S.292  SP.Syn.Stomach-AdenoCA::S.293  \\\n",
       "0                    8.210593e-20                   1.827784e+02   \n",
       "1                    1.849070e+02                   2.913431e+02   \n",
       "2                    1.740922e+02                   1.525683e+02   \n",
       "3                    2.167551e+01                   9.008987e+01   \n",
       "4                    1.944875e+02                   2.755406e+03   \n",
       "5                    3.521897e-21                   6.000060e+01   \n",
       "6                    2.724495e-65                   1.467573e+03   \n",
       "7                    7.237414e+02                   8.346908e+02   \n",
       "8                    2.118989e-02                   2.406592e+03   \n",
       "9                    9.564514e-13                   9.514003e+01   \n",
       "10                   3.408654e+01                   3.123544e+02   \n",
       "11                   3.078164e+03                   1.431010e+02   \n",
       "12                   8.880527e+01                   5.345477e-04   \n",
       "13                   7.278432e+01                   1.691998e+01   \n",
       "14                   1.598144e-08                   1.885242e-09   \n",
       "15                   1.525396e+03                   1.256982e+03   \n",
       "16                   6.109098e-41                   1.242581e+01   \n",
       "17                   1.136061e-28                   1.588102e+01   \n",
       "18                   5.829785e+01                   1.282491e+02   \n",
       "19                   2.720347e+01                   2.135170e-19   \n",
       "20                   8.051881e+01                   3.652999e+02   \n",
       "\n",
       "    SP.Syn.Stomach-AdenoCA::S.294  SP.Syn.Stomach-AdenoCA::S.295  \\\n",
       "0                       15.988048                   1.195882e+02   \n",
       "1                      385.774371                   4.536145e+02   \n",
       "2                        0.000467                   2.740048e+02   \n",
       "3                      137.624385                   8.606629e+01   \n",
       "4                       44.469194                   2.178917e+02   \n",
       "5                       45.602454                   1.424854e-13   \n",
       "6                     2497.727831                   2.247356e+02   \n",
       "7                      413.814571                   1.424036e+03   \n",
       "8                      155.776209                   3.657906e-36   \n",
       "9                      105.338448                   4.731681e-19   \n",
       "10                      97.758798                   7.417886e+01   \n",
       "11                    1764.636514                   1.503139e+03   \n",
       "12                     192.934177                   9.036209e+01   \n",
       "13                      36.370205                   6.338647e+01   \n",
       "14                      15.430885                   4.104523e+01   \n",
       "15                     518.000287                   1.585853e+03   \n",
       "16                       0.000010                   3.633594e+01   \n",
       "17                      79.537925                   1.281343e+02   \n",
       "18                      67.294057                   7.878620e-07   \n",
       "19                      30.440597                   3.454592e+01   \n",
       "20                     107.641301                   3.228346e+01   \n",
       "\n",
       "    SP.Syn.Stomach-AdenoCA::S.296  SP.Syn.Stomach-AdenoCA::S.297  \\\n",
       "0                      560.029661                     701.929598   \n",
       "1                     1897.535332                    6273.765412   \n",
       "2                      310.452890                     906.226137   \n",
       "3                      491.398179                    1663.969873   \n",
       "4                      259.392888                     317.655289   \n",
       "5                      255.453314                     371.679067   \n",
       "6                      280.365772                    8391.546116   \n",
       "7                      383.939607                       0.001313   \n",
       "8                       96.851844                     260.826895   \n",
       "9                      192.213293                     147.153322   \n",
       "10                     710.237473                    2149.383233   \n",
       "11                      74.193082                     471.115901   \n",
       "12                     198.228124                     507.460173   \n",
       "13                      23.786529                     800.468160   \n",
       "14                     337.162917                     365.398092   \n",
       "15                     761.227009                     851.739588   \n",
       "16                     193.810215                     721.858049   \n",
       "17                     152.133427                     492.520033   \n",
       "18                     130.528061                     741.785068   \n",
       "19                      67.863487                     310.080434   \n",
       "20                     416.857719                    1740.082620   \n",
       "\n",
       "    SP.Syn.Stomach-AdenoCA::S.298  SP.Syn.Stomach-AdenoCA::S.299  \\\n",
       "0                    3.005699e+02                     238.201370   \n",
       "1                    1.967372e+03                     373.343458   \n",
       "2                    2.600435e+02                      87.247997   \n",
       "3                    3.850300e-52                     180.072205   \n",
       "4                    2.321272e-76                     532.768290   \n",
       "5                    1.609106e-73                     368.463144   \n",
       "6                    4.921523e+01                    5698.872986   \n",
       "7                    1.039961e+03                     218.761966   \n",
       "8                    9.090170e+01                     316.109038   \n",
       "9                    3.604768e-12                     799.852052   \n",
       "10                   1.735077e-08                     218.874274   \n",
       "11                   6.938086e+02                     478.219227   \n",
       "12                   3.249642e-01                     731.952385   \n",
       "13                   2.992838e+04                     346.972024   \n",
       "14                   1.852587e-50                     479.044904   \n",
       "15                   2.286325e-31                     320.123416   \n",
       "16                   2.946153e+03                       0.001125   \n",
       "17                   2.381215e-25                      70.824605   \n",
       "18                   2.388597e-26                    2111.054910   \n",
       "19                   1.946224e-06                      22.622240   \n",
       "20                   5.876242e-23                     398.523754   \n",
       "\n",
       "    SP.Syn.Stomach-AdenoCA::S.300  \n",
       "0                    2.855691e+04  \n",
       "1                    4.854385e-11  \n",
       "2                    3.666138e-26  \n",
       "3                    7.941335e+03  \n",
       "4                    4.867329e+03  \n",
       "5                    7.358969e+03  \n",
       "6                    5.319051e+03  \n",
       "7                    2.925653e-13  \n",
       "8                    1.806662e+04  \n",
       "9                    2.168649e+04  \n",
       "10                   3.912492e-01  \n",
       "11                   2.375576e+04  \n",
       "12                   1.261878e+05  \n",
       "13                   5.444501e+04  \n",
       "14                   2.736926e+05  \n",
       "15                   2.538694e-34  \n",
       "16                   3.239995e-14  \n",
       "17                   1.725967e+04  \n",
       "18                   1.011197e+04  \n",
       "19                   5.328126e+04  \n",
       "20                   1.018699e+05  \n",
       "\n",
       "[21 rows x 2700 columns]"
      ]
     },
     "execution_count": 188,
     "metadata": {},
     "output_type": "execute_result"
    }
   ],
   "source": [
    "H = pd.DataFrame(H.values, columns=H_true.columns)\n",
    "H"
   ]
  },
  {
   "cell_type": "code",
   "execution_count": 189,
   "metadata": {
    "ExecuteTime": {
     "end_time": "2019-12-27T03:10:02.313815Z",
     "start_time": "2019-12-27T03:10:02.305072Z"
    }
   },
   "outputs": [
    {
     "data": {
      "text/plain": [
       "2"
      ]
     },
     "execution_count": 189,
     "metadata": {},
     "output_type": "execute_result"
    }
   ],
   "source": [
    "rarest_sig = H.sum(1).sort_values().index[0]\n",
    "rarest_sig"
   ]
  },
  {
   "cell_type": "code",
   "execution_count": 190,
   "metadata": {
    "ExecuteTime": {
     "end_time": "2019-12-27T03:10:03.527380Z",
     "start_time": "2019-12-27T03:10:03.160648Z"
    }
   },
   "outputs": [
    {
     "data": {
      "text/plain": [
       "<matplotlib.axes._subplots.AxesSubplot at 0x12029eef0>"
      ]
     },
     "execution_count": 190,
     "metadata": {},
     "output_type": "execute_result"
    },
    {
     "data": {
      "image/png": "[encoded data removed]",
      "text/plain": [
       "<Figure size 432x288 with 1 Axes>"
      ]
     },
     "metadata": {},
     "output_type": "display_data"
    }
   ],
   "source": [
    "sns.distplot(H.loc[rarest_sig, ])"
   ]
  },
  {
   "cell_type": "code",
   "execution_count": 191,
   "metadata": {
    "ExecuteTime": {
     "end_time": "2019-12-27T03:10:04.134737Z",
     "start_time": "2019-12-27T03:10:04.124548Z"
    },
    "scrolled": true
   },
   "outputs": [
    {
     "data": {
      "text/plain": [
       "SP.Syn.Stomach-AdenoCA::S.144    2.738025e-70\n",
       "SP.Syn.Stomach-AdenoCA::S.178    2.336531e+04\n",
       "Name: 2, dtype: float64"
      ]
     },
     "execution_count": 191,
     "metadata": {},
     "output_type": "execute_result"
    }
   ],
   "source": [
    "samples_of_interest = H.loc[rarest_sig, ].sort_values()[[0, -1]]\n",
    "samples_of_interest"
   ]
  },
  {
   "cell_type": "markdown",
   "metadata": {},
   "source": [
    "#### Compute LRT on the sample with no SBS15 mutations."
   ]
  },
  {
   "cell_type": "code",
   "execution_count": 192,
   "metadata": {
    "ExecuteTime": {
     "end_time": "2019-12-27T03:10:07.270720Z",
     "start_time": "2019-12-27T03:10:07.266189Z"
    }
   },
   "outputs": [],
   "source": [
    "x_obs = X_obs[samples_of_interest.index[0]].values\n",
    "sig_idx = np.where(H.index == rarest_sig)[0][0]\n",
    "h_hat = H[samples_of_interest.index[0]].values"
   ]
  },
  {
   "cell_type": "code",
   "execution_count": 193,
   "metadata": {
    "ExecuteTime": {
     "end_time": "2019-12-27T03:10:07.747934Z",
     "start_time": "2019-12-27T03:10:07.739954Z"
    }
   },
   "outputs": [
    {
     "data": {
      "text/plain": [
       "2543"
      ]
     },
     "execution_count": 193,
     "metadata": {},
     "output_type": "execute_result"
    }
   ],
   "source": [
    "sel = np.where(samples_of_interest.index[0] == H.columns)[0][0]\n",
    "sel"
   ]
  },
  {
   "cell_type": "code",
   "execution_count": 202,
   "metadata": {
    "ExecuteTime": {
     "end_time": "2019-12-27T03:11:34.942643Z",
     "start_time": "2019-12-27T03:11:34.926385Z"
    }
   },
   "outputs": [
    {
     "data": {
      "text/plain": [
       "(1.0, 0.0, -429.209071926011, -429.2073110728852)"
      ]
     },
     "execution_count": 202,
     "metadata": {},
     "output_type": "execute_result"
    }
   ],
   "source": [
    "pval, stat, ml_loglik, h0_loglik, restricted_h = nmflib.nmf.hk_lrt(\n",
    "    x_obs, W, sig_idx, S_true[:, [sel]], O_true[:, [sel]], r, h_hat)\n",
    "(pval, stat, ml_loglik, h0_loglik)"
   ]
  },
  {
   "cell_type": "markdown",
   "metadata": {},
   "source": [
    "### Which signature has the highest total exposure? Find the patient with the highest of number of that signature."
   ]
  },
  {
   "cell_type": "code",
   "execution_count": 136,
   "metadata": {
    "ExecuteTime": {
     "end_time": "2019-12-27T02:53:06.252411Z",
     "start_time": "2019-12-27T02:53:06.243889Z"
    }
   },
   "outputs": [
    {
     "data": {
      "text/plain": [
       "10"
      ]
     },
     "execution_count": 136,
     "metadata": {},
     "output_type": "execute_result"
    }
   ],
   "source": [
    "commonest_sig = H.max(1).sort_values().index[-1]\n",
    "commonest_sig"
   ]
  },
  {
   "cell_type": "code",
   "execution_count": 137,
   "metadata": {
    "ExecuteTime": {
     "end_time": "2019-12-27T02:53:07.011660Z",
     "start_time": "2019-12-27T02:53:06.609632Z"
    }
   },
   "outputs": [
    {
     "data": {
      "text/plain": [
       "<matplotlib.axes._subplots.AxesSubplot at 0x1200fd710>"
      ]
     },
     "execution_count": 137,
     "metadata": {},
     "output_type": "execute_result"
    },
    {
     "data": {
      "image/png": "[encoded data removed]",
      "text/plain": [
       "<Figure size 432x288 with 1 Axes>"
      ]
     },
     "metadata": {},
     "output_type": "display_data"
    }
   ],
   "source": [
    "sns.distplot(H.loc[commonest_sig, ])"
   ]
  },
  {
   "cell_type": "code",
   "execution_count": 138,
   "metadata": {
    "ExecuteTime": {
     "end_time": "2019-12-27T02:53:11.219769Z",
     "start_time": "2019-12-27T02:53:11.206827Z"
    }
   },
   "outputs": [
    {
     "data": {
      "text/plain": [
       "SP.Syn.Kidney-RCC::S.222         2.080697e-102\n",
       "SP.Syn.Stomach-AdenoCA::S.178     8.507878e+05\n",
       "Name: 10, dtype: float64"
      ]
     },
     "execution_count": 138,
     "metadata": {},
     "output_type": "execute_result"
    }
   ],
   "source": [
    "samples_of_interest = H.loc[commonest_sig, ].sort_values()[[0, -1]]\n",
    "samples_of_interest"
   ]
  },
  {
   "cell_type": "code",
   "execution_count": 139,
   "metadata": {
    "ExecuteTime": {
     "end_time": "2019-12-27T02:53:12.826018Z",
     "start_time": "2019-12-27T02:53:12.817760Z"
    },
    "scrolled": true
   },
   "outputs": [
    {
     "data": {
      "text/plain": [
       "'SP.Syn.Stomach-AdenoCA::S.178'"
      ]
     },
     "execution_count": 139,
     "metadata": {},
     "output_type": "execute_result"
    }
   ],
   "source": [
    "sample = samples_of_interest.index[1]\n",
    "sample"
   ]
  },
  {
   "cell_type": "code",
   "execution_count": 142,
   "metadata": {
    "ExecuteTime": {
     "end_time": "2019-12-27T02:53:20.003733Z",
     "start_time": "2019-12-27T02:53:19.999825Z"
    }
   },
   "outputs": [],
   "source": [
    "x_obs = X_obs[sample].values\n",
    "sig_idx = np.where(H.index == commonest_sig)[0][0]\n",
    "h_hat = H[sample].values"
   ]
  },
  {
   "cell_type": "code",
   "execution_count": 143,
   "metadata": {
    "ExecuteTime": {
     "end_time": "2019-12-27T02:53:20.237772Z",
     "start_time": "2019-12-27T02:53:20.229912Z"
    },
    "scrolled": true
   },
   "outputs": [
    {
     "data": {
      "text/plain": [
       "2577"
      ]
     },
     "execution_count": 143,
     "metadata": {},
     "output_type": "execute_result"
    }
   ],
   "source": [
    "sel = np.where(sample == H.columns)[0][0]\n",
    "sel"
   ]
  },
  {
   "cell_type": "code",
   "execution_count": 144,
   "metadata": {
    "ExecuteTime": {
     "end_time": "2019-12-27T02:53:24.100037Z",
     "start_time": "2019-12-27T02:53:24.093502Z"
    }
   },
   "outputs": [
    {
     "data": {
      "text/plain": [
       "10"
      ]
     },
     "execution_count": 144,
     "metadata": {},
     "output_type": "execute_result"
    }
   ],
   "source": [
    "sig_idx"
   ]
  },
  {
   "cell_type": "code",
   "execution_count": 121,
   "metadata": {
    "ExecuteTime": {
     "end_time": "2019-12-27T02:36:16.141944Z",
     "start_time": "2019-12-27T02:36:16.116257Z"
    },
    "scrolled": true
   },
   "outputs": [
    {
     "data": {
      "text/plain": [
       "(0.0, 799.8753219340119, -830.2640814295596, -1230.2017423965656)"
      ]
     },
     "execution_count": 121,
     "metadata": {},
     "output_type": "execute_result"
    }
   ],
   "source": [
    "pval, stat, ml_loglik, h0_loglik, restricted_h = nmflib.nmf.hk_confint(\n",
    "    x_obs, W, sig_idx, S_true[:, [sel]], O_true[:, [sel]], r, h_hat)\n",
    "(pval, stat, ml_loglik, h0_loglik)"
   ]
  },
  {
   "cell_type": "code",
   "execution_count": 128,
   "metadata": {
    "ExecuteTime": {
     "end_time": "2019-12-27T02:39:13.558666Z",
     "start_time": "2019-12-27T02:39:11.232480Z"
    }
   },
   "outputs": [
    {
     "data": {
      "text/plain": [
       "<matplotlib.axes._subplots.AxesSubplot at 0x11d4fb630>"
      ]
     },
     "execution_count": 128,
     "metadata": {},
     "output_type": "execute_result"
    },
    {
     "data": {
      "image/png": "[encoded data removed]",
      "text/plain": [
       "<Figure size 432x288 with 1 Axes>"
      ]
     },
     "metadata": {},
     "output_type": "display_data"
    }
   ],
   "source": [
    "sns.barplot(np.arange(len(x_obs)), x_obs, color='indianred')"
   ]
  },
  {
   "cell_type": "code",
   "execution_count": 134,
   "metadata": {
    "ExecuteTime": {
     "end_time": "2019-12-27T02:49:07.459633Z",
     "start_time": "2019-12-27T02:49:02.100419Z"
    }
   },
   "outputs": [
    {
     "data": {
      "text/plain": [
       "<matplotlib.axes._subplots.AxesSubplot at 0x11fb35438>"
      ]
     },
     "execution_count": 134,
     "metadata": {},
     "output_type": "execute_result"
    },
    {
     "data": {
      "image/png": "[encoded data removed]",
      "text/plain": [
       "<Figure size 720x720 with 4 Axes>"
      ]
     },
     "metadata": {},
     "output_type": "display_data"
    }
   ],
   "source": [
    "fig, ax = plt.subplots(2, 2, figsize=(10, 10))\n",
    "sns.barplot(np.arange(len(h_hat)), h_hat, color='indianred', ax=ax[0, 0])\n",
    "sns.barplot(np.arange(len(x_obs)),\n",
    "            nmflib.nmf._nmf_mu(W,\n",
    "                               h_hat.reshape(-1, 1),\n",
    "                               S_true[:, [sel]],\n",
    "                               O_true[:, [sel]]).reshape(-1),\n",
    "            color='indianred',\n",
    "            ax=ax[0, 1])\n",
    "sns.barplot(np.arange(len(restricted_h)), restricted_h, color='indianred',\n",
    "            ax=ax[1, 0])\n",
    "sns.barplot(np.arange(len(x_obs)),\n",
    "            nmflib.nmf._nmf_mu(W,\n",
    "                               restricted_h.reshape(-1, 1),\n",
    "                               S_true[:, [sel]],\n",
    "                               O_true[:, [sel]]).reshape(-1),\n",
    "            color='indianred',\n",
    "            ax=ax[1, 1])"
   ]
  },
  {
   "cell_type": "markdown",
   "metadata": {},
   "source": [
    "## Test confidence interval computation."
   ]
  },
  {
   "cell_type": "markdown",
   "metadata": {},
   "source": [
    "### Rarest signature"
   ]
  },
  {
   "cell_type": "code",
   "execution_count": 227,
   "metadata": {
    "ExecuteTime": {
     "end_time": "2019-12-27T03:43:49.478271Z",
     "start_time": "2019-12-27T03:43:49.468832Z"
    }
   },
   "outputs": [
    {
     "data": {
      "text/plain": [
       "2"
      ]
     },
     "execution_count": 227,
     "metadata": {},
     "output_type": "execute_result"
    }
   ],
   "source": [
    "rarest_sig = H.sum(1).sort_values().index[0]\n",
    "rarest_sig"
   ]
  },
  {
   "cell_type": "code",
   "execution_count": 228,
   "metadata": {
    "ExecuteTime": {
     "end_time": "2019-12-27T03:43:49.493292Z",
     "start_time": "2019-12-27T03:43:49.481507Z"
    },
    "scrolled": true
   },
   "outputs": [
    {
     "data": {
      "text/plain": [
       "SP.Syn.Stomach-AdenoCA::S.144    2.738025e-70\n",
       "SP.Syn.Stomach-AdenoCA::S.178    2.336531e+04\n",
       "Name: 2, dtype: float64"
      ]
     },
     "execution_count": 228,
     "metadata": {},
     "output_type": "execute_result"
    }
   ],
   "source": [
    "samples_of_interest = H.loc[rarest_sig, ].sort_values()[[0, -1]]\n",
    "samples_of_interest"
   ]
  },
  {
   "cell_type": "code",
   "execution_count": 229,
   "metadata": {
    "ExecuteTime": {
     "end_time": "2019-12-27T03:43:49.501877Z",
     "start_time": "2019-12-27T03:43:49.497207Z"
    }
   },
   "outputs": [],
   "source": [
    "x_obs = X_obs[samples_of_interest.index[0]].values\n",
    "sig_idx = np.where(H.index == rarest_sig)[0][0]\n",
    "h_hat = H[samples_of_interest.index[0]].values"
   ]
  },
  {
   "cell_type": "code",
   "execution_count": 230,
   "metadata": {
    "ExecuteTime": {
     "end_time": "2019-12-27T03:43:49.513039Z",
     "start_time": "2019-12-27T03:43:49.505547Z"
    }
   },
   "outputs": [
    {
     "data": {
      "text/plain": [
       "2543"
      ]
     },
     "execution_count": 230,
     "metadata": {},
     "output_type": "execute_result"
    }
   ],
   "source": [
    "sel = np.where(samples_of_interest.index[0] == H.columns)[0][0]\n",
    "sel"
   ]
  },
  {
   "cell_type": "code",
   "execution_count": 231,
   "metadata": {
    "ExecuteTime": {
     "end_time": "2019-12-27T03:43:49.559227Z",
     "start_time": "2019-12-27T03:43:49.516073Z"
    }
   },
   "outputs": [
    {
     "data": {
      "text/plain": [
       "(0,\n",
       " 32.80584031439503,\n",
       " 1.0,\n",
       " 0.0,\n",
       " -429.209071926011,\n",
       " -429.2073110728852,\n",
       "       converged: True\n",
       "            flag: 'converged'\n",
       "  function_calls: 8\n",
       "      iterations: 7\n",
       "            root: 32.80584031439503,\n",
       " None)"
      ]
     },
     "execution_count": 231,
     "metadata": {},
     "output_type": "execute_result"
    }
   ],
   "source": [
    "alpha = 0.05\n",
    "nmflib.nmf.hk_confint(\n",
    "    x_obs, W, sig_idx, S_true[:, [sel]], O_true[:, [sel]], alpha, r, h_hat)"
   ]
  },
  {
   "cell_type": "code",
   "execution_count": 232,
   "metadata": {
    "ExecuteTime": {
     "end_time": "2019-12-27T03:43:49.628488Z",
     "start_time": "2019-12-27T03:43:49.561686Z"
    }
   },
   "outputs": [
    {
     "data": {
      "text/plain": [
       "(0,\n",
       " 55.306512586737284,\n",
       " 1.0,\n",
       " 0.0,\n",
       " -429.209071926011,\n",
       " -429.2073110728852,\n",
       "       converged: True\n",
       "            flag: 'converged'\n",
       "  function_calls: 8\n",
       "      iterations: 7\n",
       "            root: 55.306512586737284,\n",
       " None)"
      ]
     },
     "execution_count": 232,
     "metadata": {},
     "output_type": "execute_result"
    }
   ],
   "source": [
    "alpha = 0.01\n",
    "nmflib.nmf.hk_confint(\n",
    "    x_obs, W, sig_idx, S_true[:, [sel]], O_true[:, [sel]], alpha, r, h_hat)"
   ]
  },
  {
   "cell_type": "code",
   "execution_count": 233,
   "metadata": {
    "ExecuteTime": {
     "end_time": "2019-12-27T03:43:49.707324Z",
     "start_time": "2019-12-27T03:43:49.631478Z"
    }
   },
   "outputs": [
    {
     "data": {
      "text/plain": [
       "(0,\n",
       " 23.363734905781495,\n",
       " 1.0,\n",
       " 0.0,\n",
       " -429.209071926011,\n",
       " -429.2073110728852,\n",
       "       converged: True\n",
       "            flag: 'converged'\n",
       "  function_calls: 8\n",
       "      iterations: 7\n",
       "            root: 23.363734905781495,\n",
       " None)"
      ]
     },
     "execution_count": 233,
     "metadata": {},
     "output_type": "execute_result"
    }
   ],
   "source": [
    "alpha = 0.1\n",
    "nmflib.nmf.hk_confint(\n",
    "    x_obs, W, sig_idx, S_true[:, [sel]], O_true[:, [sel]], alpha, r, h_hat)"
   ]
  },
  {
   "cell_type": "code",
   "execution_count": 234,
   "metadata": {
    "ExecuteTime": {
     "end_time": "2019-12-27T03:43:49.785645Z",
     "start_time": "2019-12-27T03:43:49.711477Z"
    }
   },
   "outputs": [
    {
     "name": "stdout",
     "output_type": "stream",
     "text": [
      "CPU times: user 60.2 ms, sys: 2.73 ms, total: 62.9 ms\n",
      "Wall time: 62.8 ms\n"
     ]
    },
    {
     "data": {
      "text/plain": [
       "(0,\n",
       " 32.80584031439503,\n",
       " 1.0,\n",
       " 0.0,\n",
       " -429.209071926011,\n",
       " -429.2073110728852,\n",
       "       converged: True\n",
       "            flag: 'converged'\n",
       "  function_calls: 8\n",
       "      iterations: 7\n",
       "            root: 32.80584031439503,\n",
       " None)"
      ]
     },
     "execution_count": 234,
     "metadata": {},
     "output_type": "execute_result"
    }
   ],
   "source": [
    "%%time\n",
    "\n",
    "nmflib.nmf.hk_confint(x_obs, W, sig_idx, S_true[:, [sel]], O_true[:, [sel]],\n",
    "                      0.05, r, h_hat)"
   ]
  },
  {
   "cell_type": "markdown",
   "metadata": {},
   "source": [
    "### Commonest signature"
   ]
  },
  {
   "cell_type": "code",
   "execution_count": 220,
   "metadata": {
    "ExecuteTime": {
     "end_time": "2019-12-27T03:43:34.579771Z",
     "start_time": "2019-12-27T03:43:34.570654Z"
    }
   },
   "outputs": [
    {
     "data": {
      "text/plain": [
       "10"
      ]
     },
     "execution_count": 220,
     "metadata": {},
     "output_type": "execute_result"
    }
   ],
   "source": [
    "commonest_sig = H.max(1).sort_values().index[-1]\n",
    "commonest_sig"
   ]
  },
  {
   "cell_type": "code",
   "execution_count": 221,
   "metadata": {
    "ExecuteTime": {
     "end_time": "2019-12-27T03:43:34.591523Z",
     "start_time": "2019-12-27T03:43:34.583427Z"
    },
    "scrolled": true
   },
   "outputs": [
    {
     "data": {
      "text/plain": [
       "'SP.Syn.Stomach-AdenoCA::S.178'"
      ]
     },
     "execution_count": 221,
     "metadata": {},
     "output_type": "execute_result"
    }
   ],
   "source": [
    "sample = samples_of_interest.index[1]\n",
    "sample"
   ]
  },
  {
   "cell_type": "code",
   "execution_count": 222,
   "metadata": {
    "ExecuteTime": {
     "end_time": "2019-12-27T03:43:34.602361Z",
     "start_time": "2019-12-27T03:43:34.595269Z"
    }
   },
   "outputs": [],
   "source": [
    "x_obs = X_obs[sample].values\n",
    "sig_idx = np.where(H.index == commonest_sig)[0][0]\n",
    "h_hat = H[sample].values"
   ]
  },
  {
   "cell_type": "code",
   "execution_count": 223,
   "metadata": {
    "ExecuteTime": {
     "end_time": "2019-12-27T03:43:34.615036Z",
     "start_time": "2019-12-27T03:43:34.605922Z"
    },
    "scrolled": true
   },
   "outputs": [
    {
     "data": {
      "text/plain": [
       "2577"
      ]
     },
     "execution_count": 223,
     "metadata": {},
     "output_type": "execute_result"
    }
   ],
   "source": [
    "sel = np.where(sample == H.columns)[0][0]\n",
    "sel"
   ]
  },
  {
   "cell_type": "code",
   "execution_count": 224,
   "metadata": {
    "ExecuteTime": {
     "end_time": "2019-12-27T03:43:34.623968Z",
     "start_time": "2019-12-27T03:43:34.617952Z"
    }
   },
   "outputs": [
    {
     "data": {
      "text/plain": [
       "10"
      ]
     },
     "execution_count": 224,
     "metadata": {},
     "output_type": "execute_result"
    }
   ],
   "source": [
    "sig_idx"
   ]
  },
  {
   "cell_type": "code",
   "execution_count": 281,
   "metadata": {
    "ExecuteTime": {
     "end_time": "2019-12-27T04:08:51.893175Z",
     "start_time": "2019-12-27T04:08:51.877494Z"
    }
   },
   "outputs": [
    {
     "data": {
      "text/plain": [
       "<module 'nmflib.nmf' from '/Users/yl3/github/genomics/nmflib/src/nmflib/nmf.py'>"
      ]
     },
     "execution_count": 281,
     "metadata": {},
     "output_type": "execute_result"
    }
   ],
   "source": [
    "importlib.reload(nmflib.nmf)"
   ]
  },
  {
   "cell_type": "code",
   "execution_count": 283,
   "metadata": {
    "ExecuteTime": {
     "end_time": "2019-12-27T04:09:04.244822Z",
     "start_time": "2019-12-27T04:09:04.004943Z"
    }
   },
   "outputs": [
    {
     "data": {
      "text/plain": [
       "(782960.9299153425,\n",
       " 919858.6490172008,\n",
       " 0.0,\n",
       " 799.8753219340119,\n",
       " -830.2640814295596,\n",
       " -1230.2017423965656,\n",
       "       converged: True\n",
       "            flag: 'converged'\n",
       "  function_calls: 11\n",
       "      iterations: 10\n",
       "            root: 919858.6490172008,\n",
       "       converged: True\n",
       "            flag: 'converged'\n",
       "  function_calls: 14\n",
       "      iterations: 13\n",
       "            root: 782960.9299153425)"
      ]
     },
     "execution_count": 283,
     "metadata": {},
     "output_type": "execute_result"
    }
   ],
   "source": [
    "nmflib.nmf.hk_confint(x_obs, W, sig_idx, S_true[:, [sel]], O_true[:, [sel]],\n",
    "                      r=r, h_hat=h_hat)"
   ]
  },
  {
   "cell_type": "code",
   "execution_count": 226,
   "metadata": {
    "ExecuteTime": {
     "end_time": "2019-12-27T03:43:35.350380Z",
     "start_time": "2019-12-27T03:43:34.995035Z"
    }
   },
   "outputs": [
    {
     "name": "stdout",
     "output_type": "stream",
     "text": [
      "CPU times: user 264 ms, sys: 5.22 ms, total: 269 ms\n",
      "Wall time: 339 ms\n"
     ]
    },
    {
     "data": {
      "text/plain": [
       "(782960.9299153425,\n",
       " 919858.6490172008,\n",
       " 0.0,\n",
       " 799.8753219340119,\n",
       " -830.2640814295596,\n",
       " -1230.2017423965656,\n",
       "       converged: True\n",
       "            flag: 'converged'\n",
       "  function_calls: 11\n",
       "      iterations: 10\n",
       "            root: 919858.6490172008,\n",
       "       converged: True\n",
       "            flag: 'converged'\n",
       "  function_calls: 14\n",
       "      iterations: 13\n",
       "            root: 782960.9299153425)"
      ]
     },
     "execution_count": 226,
     "metadata": {},
     "output_type": "execute_result"
    }
   ],
   "source": [
    "%time nmflib.nmf.hk_confint(x_obs, W, sig_idx, S_true[:, [sel]], O_true[:, [sel]], r=r, h_hat=h_hat)"
   ]
  },
  {
   "cell_type": "markdown",
   "metadata": {},
   "source": [
    "### Test computing confidence intervals for each signature's exposure."
   ]
  },
  {
   "cell_type": "code",
   "execution_count": 328,
   "metadata": {
    "ExecuteTime": {
     "end_time": "2019-12-27T04:43:23.174270Z",
     "start_time": "2019-12-27T04:43:23.165657Z"
    }
   },
   "outputs": [
    {
     "data": {
      "text/plain": [
       "10"
      ]
     },
     "execution_count": 328,
     "metadata": {},
     "output_type": "execute_result"
    }
   ],
   "source": [
    "commonest_sig = H.max(1).sort_values().index[-1]\n",
    "commonest_sig"
   ]
  },
  {
   "cell_type": "code",
   "execution_count": 329,
   "metadata": {
    "ExecuteTime": {
     "end_time": "2019-12-27T04:43:23.547217Z",
     "start_time": "2019-12-27T04:43:23.539858Z"
    },
    "scrolled": true
   },
   "outputs": [
    {
     "data": {
      "text/plain": [
       "'SP.Syn.Stomach-AdenoCA::S.178'"
      ]
     },
     "execution_count": 329,
     "metadata": {},
     "output_type": "execute_result"
    }
   ],
   "source": [
    "sample = samples_of_interest.index[1]\n",
    "sample"
   ]
  },
  {
   "cell_type": "code",
   "execution_count": 330,
   "metadata": {
    "ExecuteTime": {
     "end_time": "2019-12-27T04:43:27.824130Z",
     "start_time": "2019-12-27T04:43:27.820108Z"
    }
   },
   "outputs": [],
   "source": [
    "x_obs = X_obs[sample].values\n",
    "sig_idx = np.where(H.index == commonest_sig)[0][0]\n",
    "h_hat = H[sample].values"
   ]
  },
  {
   "cell_type": "code",
   "execution_count": 331,
   "metadata": {
    "ExecuteTime": {
     "end_time": "2019-12-27T04:43:28.299069Z",
     "start_time": "2019-12-27T04:43:28.291911Z"
    },
    "scrolled": true
   },
   "outputs": [
    {
     "data": {
      "text/plain": [
       "2577"
      ]
     },
     "execution_count": 331,
     "metadata": {},
     "output_type": "execute_result"
    }
   ],
   "source": [
    "sel = np.where(sample == H.columns)[0][0]\n",
    "sel"
   ]
  },
  {
   "cell_type": "code",
   "execution_count": 323,
   "metadata": {
    "ExecuteTime": {
     "end_time": "2019-12-27T04:41:48.064841Z",
     "start_time": "2019-12-27T04:41:48.046815Z"
    }
   },
   "outputs": [
    {
     "data": {
      "text/plain": [
       "<module 'nmflib.nmf' from '/Users/yl3/github/genomics/nmflib/src/nmflib/nmf.py'>"
      ]
     },
     "execution_count": 323,
     "metadata": {},
     "output_type": "execute_result"
    }
   ],
   "source": [
    "importlib.reload(nmflib.nmf)"
   ]
  },
  {
   "cell_type": "code",
   "execution_count": 325,
   "metadata": {
    "ExecuteTime": {
     "end_time": "2019-12-27T04:42:10.692756Z",
     "start_time": "2019-12-27T04:42:10.550526Z"
    },
    "scrolled": false
   },
   "outputs": [
    {
     "data": {
      "text/plain": [
       "(696445.4730305315,\n",
       " 774792.067879932,\n",
       " 0.0,\n",
       " 566.4645776420548,\n",
       " -830.2640814295596,\n",
       " -1113.496370250587,\n",
       "       converged: True\n",
       "            flag: 'converged'\n",
       "  function_calls: 13\n",
       "      iterations: 12\n",
       "            root: 774792.067879932,\n",
       "       converged: True\n",
       "            flag: 'converged'\n",
       "  function_calls: 9\n",
       "      iterations: 8\n",
       "            root: 696445.4730305315)"
      ]
     },
     "execution_count": 325,
     "metadata": {},
     "output_type": "execute_result"
    }
   ],
   "source": [
    "nmflib.nmf.hk_confint(x_obs, W, 3, S_true[:, [sel]], O_true[:, [sel]],\n",
    "                      r=r, h_hat=h_hat)"
   ]
  },
  {
   "cell_type": "code",
   "execution_count": 333,
   "metadata": {
    "ExecuteTime": {
     "end_time": "2019-12-27T04:44:47.544054Z",
     "start_time": "2019-12-27T04:44:47.532897Z"
    }
   },
   "outputs": [
    {
     "data": {
      "text/plain": [
       "array([15,  8, 16, 11,  6,  1,  4, 17, 19,  3,  7,  2, 14, 10,  0, 12,  5,\n",
       "       13, 20,  9, 18])"
      ]
     },
     "execution_count": 333,
     "metadata": {},
     "output_type": "execute_result"
    }
   ],
   "source": [
    "idx = nmflib.nmf.match_signatures(W_true, W)\n",
    "idx"
   ]
  },
  {
   "cell_type": "code",
   "execution_count": 336,
   "metadata": {
    "ExecuteTime": {
     "end_time": "2019-12-27T04:45:14.137851Z",
     "start_time": "2019-12-27T04:45:14.131034Z"
    }
   },
   "outputs": [
    {
     "data": {
      "text/plain": [
       "SBS40     3.649053e+03\n",
       "SBS22     0.000000e+00\n",
       "SBS41     0.000000e+00\n",
       "SBS29     0.000000e+00\n",
       "SBS2      8.578722e+01\n",
       "SBS13     0.000000e+00\n",
       "SBS17b    2.721449e+03\n",
       "SBS44     0.000000e+00\n",
       "SBS8      0.000000e+00\n",
       "SBS17a    3.870182e+02\n",
       "SBS21     0.000000e+00\n",
       "SBS15     1.804376e+04\n",
       "SBS4      0.000000e+00\n",
       "SBS28     0.000000e+00\n",
       "SBS1      2.115718e+03\n",
       "SBS3      0.000000e+00\n",
       "SBS18     0.000000e+00\n",
       "SBS30     0.000000e+00\n",
       "SBS9      0.000000e+00\n",
       "SBS26     0.000000e+00\n",
       "SBS5      3.698776e+06\n",
       "Name: SP.Syn.Stomach-AdenoCA::S.178, dtype: float64"
      ]
     },
     "execution_count": 336,
     "metadata": {},
     "output_type": "execute_result"
    }
   ],
   "source": [
    "H_true[sample].iloc[idx]"
   ]
  },
  {
   "cell_type": "code",
   "execution_count": 368,
   "metadata": {
    "ExecuteTime": {
     "end_time": "2019-12-27T14:12:27.321955Z",
     "start_time": "2019-12-27T14:12:25.351188Z"
    }
   },
   "outputs": [
    {
     "name": "stdout",
     "output_type": "stream",
     "text": [
      "CPU times: user 1.87 s, sys: 17.7 ms, total: 1.89 s\n",
      "Wall time: 1.96 s\n"
     ]
    },
    {
     "data": {
      "text/html": [
       "<div>\n",
       "<style scoped>\n",
       "    .dataframe tbody tr th:only-of-type {\n",
       "        vertical-align: middle;\n",
       "    }\n",
       "\n",
       "    .dataframe tbody tr th {\n",
       "        vertical-align: top;\n",
       "    }\n",
       "\n",
       "    .dataframe thead th {\n",
       "        text-align: right;\n",
       "    }\n",
       "</style>\n",
       "<table border=\"1\" class=\"dataframe\">\n",
       "  <thead>\n",
       "    <tr style=\"text-align: right;\">\n",
       "      <th></th>\n",
       "      <th>cint_low</th>\n",
       "      <th>cint_high</th>\n",
       "      <th>pval</th>\n",
       "      <th>chi2_stat</th>\n",
       "      <th>ml_loglik</th>\n",
       "      <th>h0_loglik</th>\n",
       "    </tr>\n",
       "  </thead>\n",
       "  <tbody>\n",
       "    <tr>\n",
       "      <th>0</th>\n",
       "      <td>0.000000</td>\n",
       "      <td>226.334478</td>\n",
       "      <td>1.285631e-01</td>\n",
       "      <td>2.309770</td>\n",
       "      <td>-367.218894</td>\n",
       "      <td>-368.373779</td>\n",
       "    </tr>\n",
       "    <tr>\n",
       "      <th>1</th>\n",
       "      <td>111.159280</td>\n",
       "      <td>631.350192</td>\n",
       "      <td>4.294358e-03</td>\n",
       "      <td>8.154959</td>\n",
       "      <td>-367.218894</td>\n",
       "      <td>-371.296373</td>\n",
       "    </tr>\n",
       "    <tr>\n",
       "      <th>2</th>\n",
       "      <td>0.000000</td>\n",
       "      <td>577.653407</td>\n",
       "      <td>2.401679e-01</td>\n",
       "      <td>1.379608</td>\n",
       "      <td>-367.218894</td>\n",
       "      <td>-367.908698</td>\n",
       "    </tr>\n",
       "    <tr>\n",
       "      <th>3</th>\n",
       "      <td>1103.668577</td>\n",
       "      <td>1955.786958</td>\n",
       "      <td>4.762857e-14</td>\n",
       "      <td>56.823297</td>\n",
       "      <td>-367.218894</td>\n",
       "      <td>-395.630542</td>\n",
       "    </tr>\n",
       "    <tr>\n",
       "      <th>4</th>\n",
       "      <td>6213.843850</td>\n",
       "      <td>7794.694272</td>\n",
       "      <td>0.000000e+00</td>\n",
       "      <td>3144.255828</td>\n",
       "      <td>-367.218894</td>\n",
       "      <td>-1939.346808</td>\n",
       "    </tr>\n",
       "    <tr>\n",
       "      <th>5</th>\n",
       "      <td>124.794468</td>\n",
       "      <td>646.290353</td>\n",
       "      <td>2.430577e-03</td>\n",
       "      <td>9.192131</td>\n",
       "      <td>-367.218894</td>\n",
       "      <td>-371.814959</td>\n",
       "    </tr>\n",
       "    <tr>\n",
       "      <th>6</th>\n",
       "      <td>114.568799</td>\n",
       "      <td>230.704660</td>\n",
       "      <td>0.000000e+00</td>\n",
       "      <td>83.420827</td>\n",
       "      <td>-367.218894</td>\n",
       "      <td>-408.929307</td>\n",
       "    </tr>\n",
       "    <tr>\n",
       "      <th>7</th>\n",
       "      <td>0.000000</td>\n",
       "      <td>150.241627</td>\n",
       "      <td>1.322312e-01</td>\n",
       "      <td>2.266113</td>\n",
       "      <td>-367.218894</td>\n",
       "      <td>-368.351950</td>\n",
       "    </tr>\n",
       "    <tr>\n",
       "      <th>8</th>\n",
       "      <td>1536.465509</td>\n",
       "      <td>2110.093671</td>\n",
       "      <td>0.000000e+00</td>\n",
       "      <td>534.366842</td>\n",
       "      <td>-367.218894</td>\n",
       "      <td>-634.402315</td>\n",
       "    </tr>\n",
       "    <tr>\n",
       "      <th>9</th>\n",
       "      <td>369.634224</td>\n",
       "      <td>746.660740</td>\n",
       "      <td>7.345163e-05</td>\n",
       "      <td>15.719790</td>\n",
       "      <td>-367.218894</td>\n",
       "      <td>-375.078789</td>\n",
       "    </tr>\n",
       "    <tr>\n",
       "      <th>10</th>\n",
       "      <td>1499.186583</td>\n",
       "      <td>2436.298931</td>\n",
       "      <td>7.327472e-15</td>\n",
       "      <td>60.501202</td>\n",
       "      <td>-367.218894</td>\n",
       "      <td>-397.469495</td>\n",
       "    </tr>\n",
       "    <tr>\n",
       "      <th>11</th>\n",
       "      <td>106.461404</td>\n",
       "      <td>355.076468</td>\n",
       "      <td>3.197662e-05</td>\n",
       "      <td>17.296554</td>\n",
       "      <td>-367.218894</td>\n",
       "      <td>-375.867171</td>\n",
       "    </tr>\n",
       "    <tr>\n",
       "      <th>12</th>\n",
       "      <td>449.095010</td>\n",
       "      <td>1482.947576</td>\n",
       "      <td>1.361740e-04</td>\n",
       "      <td>14.554349</td>\n",
       "      <td>-367.218894</td>\n",
       "      <td>-374.496068</td>\n",
       "    </tr>\n",
       "    <tr>\n",
       "      <th>13</th>\n",
       "      <td>0.000000</td>\n",
       "      <td>744.080502</td>\n",
       "      <td>2.932234e-01</td>\n",
       "      <td>1.104762</td>\n",
       "      <td>-367.218894</td>\n",
       "      <td>-367.771275</td>\n",
       "    </tr>\n",
       "    <tr>\n",
       "      <th>14</th>\n",
       "      <td>281.946430</td>\n",
       "      <td>1158.987283</td>\n",
       "      <td>1.115922e-03</td>\n",
       "      <td>10.624615</td>\n",
       "      <td>-367.218894</td>\n",
       "      <td>-372.531201</td>\n",
       "    </tr>\n",
       "    <tr>\n",
       "      <th>15</th>\n",
       "      <td>179.043484</td>\n",
       "      <td>664.050670</td>\n",
       "      <td>4.605102e-03</td>\n",
       "      <td>8.028340</td>\n",
       "      <td>-367.218894</td>\n",
       "      <td>-371.233064</td>\n",
       "    </tr>\n",
       "    <tr>\n",
       "      <th>16</th>\n",
       "      <td>0.000000</td>\n",
       "      <td>718.759810</td>\n",
       "      <td>5.207879e-02</td>\n",
       "      <td>3.773236</td>\n",
       "      <td>-367.218894</td>\n",
       "      <td>-369.105512</td>\n",
       "    </tr>\n",
       "    <tr>\n",
       "      <th>17</th>\n",
       "      <td>385.433245</td>\n",
       "      <td>763.129994</td>\n",
       "      <td>3.212319e-12</td>\n",
       "      <td>48.554540</td>\n",
       "      <td>-367.218894</td>\n",
       "      <td>-391.496164</td>\n",
       "    </tr>\n",
       "    <tr>\n",
       "      <th>18</th>\n",
       "      <td>1891.250425</td>\n",
       "      <td>3143.538687</td>\n",
       "      <td>0.000000e+00</td>\n",
       "      <td>80.571513</td>\n",
       "      <td>-367.218894</td>\n",
       "      <td>-407.504650</td>\n",
       "    </tr>\n",
       "    <tr>\n",
       "      <th>19</th>\n",
       "      <td>103.212127</td>\n",
       "      <td>365.837896</td>\n",
       "      <td>6.525514e-05</td>\n",
       "      <td>15.943684</td>\n",
       "      <td>-367.218894</td>\n",
       "      <td>-375.190736</td>\n",
       "    </tr>\n",
       "    <tr>\n",
       "      <th>20</th>\n",
       "      <td>1020.084320</td>\n",
       "      <td>1602.232601</td>\n",
       "      <td>5.971788e-08</td>\n",
       "      <td>29.372539</td>\n",
       "      <td>-367.218894</td>\n",
       "      <td>-381.905163</td>\n",
       "    </tr>\n",
       "  </tbody>\n",
       "</table>\n",
       "</div>"
      ],
      "text/plain": [
       "       cint_low    cint_high          pval    chi2_stat   ml_loglik  \\\n",
       "0      0.000000   226.334478  1.285631e-01     2.309770 -367.218894   \n",
       "1    111.159280   631.350192  4.294358e-03     8.154959 -367.218894   \n",
       "2      0.000000   577.653407  2.401679e-01     1.379608 -367.218894   \n",
       "3   1103.668577  1955.786958  4.762857e-14    56.823297 -367.218894   \n",
       "4   6213.843850  7794.694272  0.000000e+00  3144.255828 -367.218894   \n",
       "5    124.794468   646.290353  2.430577e-03     9.192131 -367.218894   \n",
       "6    114.568799   230.704660  0.000000e+00    83.420827 -367.218894   \n",
       "7      0.000000   150.241627  1.322312e-01     2.266113 -367.218894   \n",
       "8   1536.465509  2110.093671  0.000000e+00   534.366842 -367.218894   \n",
       "9    369.634224   746.660740  7.345163e-05    15.719790 -367.218894   \n",
       "10  1499.186583  2436.298931  7.327472e-15    60.501202 -367.218894   \n",
       "11   106.461404   355.076468  3.197662e-05    17.296554 -367.218894   \n",
       "12   449.095010  1482.947576  1.361740e-04    14.554349 -367.218894   \n",
       "13     0.000000   744.080502  2.932234e-01     1.104762 -367.218894   \n",
       "14   281.946430  1158.987283  1.115922e-03    10.624615 -367.218894   \n",
       "15   179.043484   664.050670  4.605102e-03     8.028340 -367.218894   \n",
       "16     0.000000   718.759810  5.207879e-02     3.773236 -367.218894   \n",
       "17   385.433245   763.129994  3.212319e-12    48.554540 -367.218894   \n",
       "18  1891.250425  3143.538687  0.000000e+00    80.571513 -367.218894   \n",
       "19   103.212127   365.837896  6.525514e-05    15.943684 -367.218894   \n",
       "20  1020.084320  1602.232601  5.971788e-08    29.372539 -367.218894   \n",
       "\n",
       "      h0_loglik  \n",
       "0   -368.373779  \n",
       "1   -371.296373  \n",
       "2   -367.908698  \n",
       "3   -395.630542  \n",
       "4  -1939.346808  \n",
       "5   -371.814959  \n",
       "6   -408.929307  \n",
       "7   -368.351950  \n",
       "8   -634.402315  \n",
       "9   -375.078789  \n",
       "10  -397.469495  \n",
       "11  -375.867171  \n",
       "12  -374.496068  \n",
       "13  -367.771275  \n",
       "14  -372.531201  \n",
       "15  -371.233064  \n",
       "16  -369.105512  \n",
       "17  -391.496164  \n",
       "18  -407.504650  \n",
       "19  -375.190736  \n",
       "20  -381.905163  "
      ]
     },
     "execution_count": 368,
     "metadata": {},
     "output_type": "execute_result"
    }
   ],
   "source": [
    "%%time\n",
    "\n",
    "nmflib.nmf.h_confint(x_obs, W, S_true[:, [sel]], O_true[:, [sel]],\n",
    "                     r=r, h_hat=h_hat)"
   ]
  },
  {
   "cell_type": "code",
   "execution_count": 343,
   "metadata": {
    "ExecuteTime": {
     "end_time": "2019-12-27T04:49:35.425867Z",
     "start_time": "2019-12-27T04:49:29.305816Z"
    }
   },
   "outputs": [
    {
     "data": {
      "text/plain": [
       "<matplotlib.axes._subplots.AxesSubplot at 0x122e2e9b0>"
      ]
     },
     "execution_count": 343,
     "metadata": {},
     "output_type": "execute_result"
    },
    {
     "data": {
      "image/png": "[encoded data removed]",
      "text/plain": [
       "<Figure size 720x720 with 4 Axes>"
      ]
     },
     "metadata": {},
     "output_type": "display_data"
    }
   ],
   "source": [
    "fig, ax = plt.subplots(2, 2, figsize=(10, 10))\n",
    "sns.barplot(np.arange(len(h_hat)), h_hat, color='indianred', ax=ax[0, 0])\n",
    "sns.barplot(np.arange(len(x_obs)),\n",
    "            nmflib.nmf._nmf_mu(W,\n",
    "                               h_hat.reshape(-1, 1),\n",
    "                               S_true[:, [sel]],\n",
    "                               O_true[:, [sel]]).reshape(-1),\n",
    "            color='indianred',\n",
    "            ax=ax[0, 1])\n",
    "sns.barplot(np.arange(len(h_hat)), H_true[sample], color='indianred',\n",
    "            ax=ax[1, 0])\n",
    "sns.barplot(np.arange(len(x_obs)),\n",
    "            x_obs,\n",
    "            color='indianred',\n",
    "            ax=ax[1, 1])"
   ]
  },
  {
   "cell_type": "code",
   "execution_count": 345,
   "metadata": {
    "ExecuteTime": {
     "end_time": "2019-12-27T04:51:10.759804Z",
     "start_time": "2019-12-27T04:51:08.362864Z"
    }
   },
   "outputs": [
    {
     "data": {
      "text/plain": [
       "<matplotlib.axes._subplots.AxesSubplot at 0x1230c0748>"
      ]
     },
     "execution_count": 345,
     "metadata": {},
     "output_type": "execute_result"
    },
    {
     "data": {
      "image/png": "[encoded data removed]",
      "text/plain": [
       "<Figure size 432x288 with 1 Axes>"
      ]
     },
     "metadata": {},
     "output_type": "display_data"
    }
   ],
   "source": [
    "sns.barplot(np.arange(W_true.shape[0]), W_true.loc[:, 'SBS5'], color='indianred')"
   ]
  },
  {
   "cell_type": "markdown",
   "metadata": {},
   "source": [
    "### Let's do some random samples"
   ]
  },
  {
   "cell_type": "code",
   "execution_count": 384,
   "metadata": {
    "ExecuteTime": {
     "end_time": "2019-12-27T20:52:47.834359Z",
     "start_time": "2019-12-27T20:52:47.823080Z"
    }
   },
   "outputs": [],
   "source": [
    "idx = nmflib.nmf.match_signatures(W, W_true)"
   ]
  },
  {
   "cell_type": "code",
   "execution_count": 458,
   "metadata": {
    "ExecuteTime": {
     "end_time": "2019-12-27T22:07:53.905728Z",
     "start_time": "2019-12-27T22:07:53.885456Z"
    }
   },
   "outputs": [
    {
     "data": {
      "text/plain": [
       "<module 'nmflib.nmf' from '/Users/yl3/github/genomics/nmflib/src/nmflib/nmf.py'>"
      ]
     },
     "execution_count": 458,
     "metadata": {},
     "output_type": "execute_result"
    }
   ],
   "source": [
    "importlib.reload(nmflib.nmf)"
   ]
  },
  {
   "cell_type": "code",
   "execution_count": 459,
   "metadata": {
    "ExecuteTime": {
     "end_time": "2019-12-27T22:07:56.884704Z",
     "start_time": "2019-12-27T22:07:55.045772Z"
    }
   },
   "outputs": [
    {
     "data": {
      "text/plain": [
       "'SP.Syn.Lung-SCC::S.187'"
      ]
     },
     "metadata": {},
     "output_type": "display_data"
    },
    {
     "data": {
      "text/html": [
       "<div>\n",
       "<style scoped>\n",
       "    .dataframe tbody tr th:only-of-type {\n",
       "        vertical-align: middle;\n",
       "    }\n",
       "\n",
       "    .dataframe tbody tr th {\n",
       "        vertical-align: top;\n",
       "    }\n",
       "\n",
       "    .dataframe thead th {\n",
       "        text-align: right;\n",
       "    }\n",
       "</style>\n",
       "<table border=\"1\" class=\"dataframe\">\n",
       "  <thead>\n",
       "    <tr style=\"text-align: right;\">\n",
       "      <th></th>\n",
       "      <th>1</th>\n",
       "      <th>h</th>\n",
       "      <th>cint_low</th>\n",
       "      <th>cint_high</th>\n",
       "      <th>pval</th>\n",
       "      <th>chi2_stat</th>\n",
       "      <th>ml_loglik</th>\n",
       "      <th>h0_loglik</th>\n",
       "    </tr>\n",
       "    <tr>\n",
       "      <th>0</th>\n",
       "      <th></th>\n",
       "      <th></th>\n",
       "      <th></th>\n",
       "      <th></th>\n",
       "      <th></th>\n",
       "      <th></th>\n",
       "      <th></th>\n",
       "      <th></th>\n",
       "    </tr>\n",
       "  </thead>\n",
       "  <tbody>\n",
       "    <tr>\n",
       "      <th>SBS4</th>\n",
       "      <td>21443.04119</td>\n",
       "      <td>16179.43235</td>\n",
       "      <td>14742.61230</td>\n",
       "      <td>17670.26395</td>\n",
       "      <td>0.00000</td>\n",
       "      <td>1040.59457</td>\n",
       "      <td>-432.14791</td>\n",
       "      <td>-952.44519</td>\n",
       "    </tr>\n",
       "    <tr>\n",
       "      <th>SBS18</th>\n",
       "      <td>0.00000</td>\n",
       "      <td>989.60766</td>\n",
       "      <td>83.74581</td>\n",
       "      <td>1992.61463</td>\n",
       "      <td>0.03173</td>\n",
       "      <td>4.61306</td>\n",
       "      <td>-432.14791</td>\n",
       "      <td>-434.45444</td>\n",
       "    </tr>\n",
       "    <tr>\n",
       "      <th>SBS29</th>\n",
       "      <td>0.00000</td>\n",
       "      <td>0.00000</td>\n",
       "      <td>0.00000</td>\n",
       "      <td>287.66411</td>\n",
       "      <td>1.00000</td>\n",
       "      <td>0.00000</td>\n",
       "      <td>-432.14791</td>\n",
       "      <td>-432.14715</td>\n",
       "    </tr>\n",
       "    <tr>\n",
       "      <th>SBS26</th>\n",
       "      <td>0.00000</td>\n",
       "      <td>3369.93551</td>\n",
       "      <td>2713.48788</td>\n",
       "      <td>4048.71576</td>\n",
       "      <td>0.00000</td>\n",
       "      <td>120.46855</td>\n",
       "      <td>-432.14791</td>\n",
       "      <td>-492.38218</td>\n",
       "    </tr>\n",
       "    <tr>\n",
       "      <th>SBS2</th>\n",
       "      <td>4657.73803</td>\n",
       "      <td>5791.66585</td>\n",
       "      <td>5031.11364</td>\n",
       "      <td>6666.17532</td>\n",
       "      <td>0.00000</td>\n",
       "      <td>1582.17149</td>\n",
       "      <td>-432.14791</td>\n",
       "      <td>-1223.23365</td>\n",
       "    </tr>\n",
       "    <tr>\n",
       "      <th>SBS41</th>\n",
       "      <td>0.00000</td>\n",
       "      <td>0.00012</td>\n",
       "      <td>0.00000</td>\n",
       "      <td>377.99080</td>\n",
       "      <td>1.00000</td>\n",
       "      <td>0.00000</td>\n",
       "      <td>-432.14791</td>\n",
       "      <td>-432.14715</td>\n",
       "    </tr>\n",
       "    <tr>\n",
       "      <th>SBS17b</th>\n",
       "      <td>0.00000</td>\n",
       "      <td>306.62822</td>\n",
       "      <td>221.25172</td>\n",
       "      <td>410.16277</td>\n",
       "      <td>0.00000</td>\n",
       "      <td>103.21092</td>\n",
       "      <td>-432.14791</td>\n",
       "      <td>-483.75337</td>\n",
       "    </tr>\n",
       "    <tr>\n",
       "      <th>SBS28</th>\n",
       "      <td>0.00000</td>\n",
       "      <td>0.01830</td>\n",
       "      <td>0.00000</td>\n",
       "      <td>169.05802</td>\n",
       "      <td>1.00000</td>\n",
       "      <td>0.00000</td>\n",
       "      <td>-432.14791</td>\n",
       "      <td>-432.14711</td>\n",
       "    </tr>\n",
       "    <tr>\n",
       "      <th>SBS13</th>\n",
       "      <td>4461.50200</td>\n",
       "      <td>4986.41006</td>\n",
       "      <td>4296.79966</td>\n",
       "      <td>5778.02982</td>\n",
       "      <td>0.00000</td>\n",
       "      <td>862.21335</td>\n",
       "      <td>-432.14791</td>\n",
       "      <td>-863.25458</td>\n",
       "    </tr>\n",
       "    <tr>\n",
       "      <th>SBS8</th>\n",
       "      <td>0.00000</td>\n",
       "      <td>1549.43633</td>\n",
       "      <td>767.41299</td>\n",
       "      <td>2372.73587</td>\n",
       "      <td>0.00008</td>\n",
       "      <td>15.59939</td>\n",
       "      <td>-432.14791</td>\n",
       "      <td>-439.94760</td>\n",
       "    </tr>\n",
       "    <tr>\n",
       "      <th>SBS30</th>\n",
       "      <td>0.00000</td>\n",
       "      <td>3801.08023</td>\n",
       "      <td>2869.03233</td>\n",
       "      <td>4769.93838</td>\n",
       "      <td>0.00000</td>\n",
       "      <td>69.00664</td>\n",
       "      <td>-432.14791</td>\n",
       "      <td>-466.65123</td>\n",
       "    </tr>\n",
       "    <tr>\n",
       "      <th>SBS17a</th>\n",
       "      <td>0.00000</td>\n",
       "      <td>160.73184</td>\n",
       "      <td>1.29421</td>\n",
       "      <td>351.96113</td>\n",
       "      <td>0.04799</td>\n",
       "      <td>3.91039</td>\n",
       "      <td>-432.14791</td>\n",
       "      <td>-434.10310</td>\n",
       "    </tr>\n",
       "    <tr>\n",
       "      <th>SBS40</th>\n",
       "      <td>0.00000</td>\n",
       "      <td>4575.87594</td>\n",
       "      <td>3386.53898</td>\n",
       "      <td>5786.34174</td>\n",
       "      <td>0.00000</td>\n",
       "      <td>64.26724</td>\n",
       "      <td>-432.14791</td>\n",
       "      <td>-464.28153</td>\n",
       "    </tr>\n",
       "    <tr>\n",
       "      <th>SBS44</th>\n",
       "      <td>0.00000</td>\n",
       "      <td>887.41907</td>\n",
       "      <td>45.40949</td>\n",
       "      <td>1741.34768</td>\n",
       "      <td>0.03864</td>\n",
       "      <td>4.27665</td>\n",
       "      <td>-432.14791</td>\n",
       "      <td>-434.28623</td>\n",
       "    </tr>\n",
       "    <tr>\n",
       "      <th>SBS3</th>\n",
       "      <td>0.00000</td>\n",
       "      <td>0.00069</td>\n",
       "      <td>0.00000</td>\n",
       "      <td>725.57248</td>\n",
       "      <td>1.00000</td>\n",
       "      <td>0.00000</td>\n",
       "      <td>-432.14791</td>\n",
       "      <td>-432.14715</td>\n",
       "    </tr>\n",
       "    <tr>\n",
       "      <th>SBS1</th>\n",
       "      <td>131.38413</td>\n",
       "      <td>602.85671</td>\n",
       "      <td>219.42205</td>\n",
       "      <td>775.31050</td>\n",
       "      <td>0.00260</td>\n",
       "      <td>9.06837</td>\n",
       "      <td>-432.14791</td>\n",
       "      <td>-436.68209</td>\n",
       "    </tr>\n",
       "    <tr>\n",
       "      <th>SBS15</th>\n",
       "      <td>0.00000</td>\n",
       "      <td>130.23179</td>\n",
       "      <td>0.00000</td>\n",
       "      <td>544.18811</td>\n",
       "      <td>0.42640</td>\n",
       "      <td>0.63260</td>\n",
       "      <td>-432.14791</td>\n",
       "      <td>-432.46421</td>\n",
       "    </tr>\n",
       "    <tr>\n",
       "      <th>SBS21</th>\n",
       "      <td>0.00000</td>\n",
       "      <td>808.07421</td>\n",
       "      <td>545.15540</td>\n",
       "      <td>1101.76100</td>\n",
       "      <td>0.00000</td>\n",
       "      <td>47.02484</td>\n",
       "      <td>-432.14791</td>\n",
       "      <td>-455.66033</td>\n",
       "    </tr>\n",
       "    <tr>\n",
       "      <th>SBS9</th>\n",
       "      <td>0.00000</td>\n",
       "      <td>1582.47364</td>\n",
       "      <td>1056.58159</td>\n",
       "      <td>2169.34141</td>\n",
       "      <td>0.00000</td>\n",
       "      <td>45.55572</td>\n",
       "      <td>-432.14791</td>\n",
       "      <td>-454.92577</td>\n",
       "    </tr>\n",
       "    <tr>\n",
       "      <th>SBS22</th>\n",
       "      <td>0.00000</td>\n",
       "      <td>3279.73205</td>\n",
       "      <td>2855.37491</td>\n",
       "      <td>3742.39713</td>\n",
       "      <td>0.00000</td>\n",
       "      <td>735.43879</td>\n",
       "      <td>-432.14791</td>\n",
       "      <td>-799.86731</td>\n",
       "    </tr>\n",
       "    <tr>\n",
       "      <th>SBS5</th>\n",
       "      <td>19923.11882</td>\n",
       "      <td>2902.23382</td>\n",
       "      <td>1954.88533</td>\n",
       "      <td>3899.62085</td>\n",
       "      <td>0.00000</td>\n",
       "      <td>36.74970</td>\n",
       "      <td>-432.14791</td>\n",
       "      <td>-450.52276</td>\n",
       "    </tr>\n",
       "  </tbody>\n",
       "</table>\n",
       "</div>"
      ],
      "text/plain": [
       "                 1           h    cint_low   cint_high    pval  chi2_stat  \\\n",
       "0                                                                           \n",
       "SBS4   21443.04119 16179.43235 14742.61230 17670.26395 0.00000 1040.59457   \n",
       "SBS18      0.00000   989.60766    83.74581  1992.61463 0.03173    4.61306   \n",
       "SBS29      0.00000     0.00000     0.00000   287.66411 1.00000    0.00000   \n",
       "SBS26      0.00000  3369.93551  2713.48788  4048.71576 0.00000  120.46855   \n",
       "SBS2    4657.73803  5791.66585  5031.11364  6666.17532 0.00000 1582.17149   \n",
       "SBS41      0.00000     0.00012     0.00000   377.99080 1.00000    0.00000   \n",
       "SBS17b     0.00000   306.62822   221.25172   410.16277 0.00000  103.21092   \n",
       "SBS28      0.00000     0.01830     0.00000   169.05802 1.00000    0.00000   \n",
       "SBS13   4461.50200  4986.41006  4296.79966  5778.02982 0.00000  862.21335   \n",
       "SBS8       0.00000  1549.43633   767.41299  2372.73587 0.00008   15.59939   \n",
       "SBS30      0.00000  3801.08023  2869.03233  4769.93838 0.00000   69.00664   \n",
       "SBS17a     0.00000   160.73184     1.29421   351.96113 0.04799    3.91039   \n",
       "SBS40      0.00000  4575.87594  3386.53898  5786.34174 0.00000   64.26724   \n",
       "SBS44      0.00000   887.41907    45.40949  1741.34768 0.03864    4.27665   \n",
       "SBS3       0.00000     0.00069     0.00000   725.57248 1.00000    0.00000   \n",
       "SBS1     131.38413   602.85671   219.42205   775.31050 0.00260    9.06837   \n",
       "SBS15      0.00000   130.23179     0.00000   544.18811 0.42640    0.63260   \n",
       "SBS21      0.00000   808.07421   545.15540  1101.76100 0.00000   47.02484   \n",
       "SBS9       0.00000  1582.47364  1056.58159  2169.34141 0.00000   45.55572   \n",
       "SBS22      0.00000  3279.73205  2855.37491  3742.39713 0.00000  735.43879   \n",
       "SBS5   19923.11882  2902.23382  1954.88533  3899.62085 0.00000   36.74970   \n",
       "\n",
       "        ml_loglik   h0_loglik  \n",
       "0                              \n",
       "SBS4   -432.14791  -952.44519  \n",
       "SBS18  -432.14791  -434.45444  \n",
       "SBS29  -432.14791  -432.14715  \n",
       "SBS26  -432.14791  -492.38218  \n",
       "SBS2   -432.14791 -1223.23365  \n",
       "SBS41  -432.14791  -432.14715  \n",
       "SBS17b -432.14791  -483.75337  \n",
       "SBS28  -432.14791  -432.14711  \n",
       "SBS13  -432.14791  -863.25458  \n",
       "SBS8   -432.14791  -439.94760  \n",
       "SBS30  -432.14791  -466.65123  \n",
       "SBS17a -432.14791  -434.10310  \n",
       "SBS40  -432.14791  -464.28153  \n",
       "SBS44  -432.14791  -434.28623  \n",
       "SBS3   -432.14791  -432.14715  \n",
       "SBS1   -432.14791  -436.68209  \n",
       "SBS15  -432.14791  -432.46421  \n",
       "SBS21  -432.14791  -455.66033  \n",
       "SBS9   -432.14791  -454.92577  \n",
       "SBS22  -432.14791  -799.86731  \n",
       "SBS5   -432.14791  -450.52276  "
      ]
     },
     "metadata": {},
     "output_type": "display_data"
    },
    {
     "name": "stdout",
     "output_type": "stream",
     "text": [
      "CPU times: user 1.82 s, sys: 8.77 ms, total: 1.83 s\n",
      "Wall time: 1.83 s\n"
     ]
    }
   ],
   "source": [
    "%%time\n",
    "\n",
    "sample = scipy.random.choice(H_true.columns, 1)[0]\n",
    "display(sample)\n",
    "# sample = 'SP.Syn.Stomach-AdenoCA::S.223'\n",
    "\n",
    "x_obs = X_obs[sample].values\n",
    "sig_idx = np.where(H.index == commonest_sig)[0][0]\n",
    "h_hat = H[sample].values\n",
    "sel = np.where(sample == H.columns)[0][0]\n",
    "\n",
    "with pd.option_context('display.float_format', lambda x: f'{x:.5f}'):\n",
    "    display(\n",
    "        pd.concat([pd.Series(H_true.index[idx]),\n",
    "                   pd.Series(H_true[sample].values[idx]),\n",
    "                   nmflib.nmf.h_confint(x_obs, W, S_true[:, [sel]],\n",
    "                                        O_true[:, [sel]], r=r, h_hat=h_hat)],\n",
    "                   1).set_index(0))"
   ]
  },
  {
   "cell_type": "code",
   "execution_count": 431,
   "metadata": {
    "ExecuteTime": {
     "end_time": "2019-12-27T21:35:42.740769Z",
     "start_time": "2019-12-27T21:35:42.419925Z"
    },
    "scrolled": true
   },
   "outputs": [
    {
     "data": {
      "text/plain": [
       "48707.339745298275"
      ]
     },
     "metadata": {},
     "output_type": "display_data"
    },
    {
     "data": {
      "text/plain": [
       "(45048.63319001976,\n",
       " 52448.927413959354,\n",
       " 0.0,\n",
       " 1808.6378454090695,\n",
       " -477.98263741766664,\n",
       " -1382.3015601222014,\n",
       "       converged: True\n",
       "            flag: 'converged'\n",
       "  function_calls: 14\n",
       "      iterations: 13\n",
       "            root: 52448.927413959354,\n",
       "       converged: True\n",
       "            flag: 'converged'\n",
       "  function_calls: 15\n",
       "      iterations: 14\n",
       "            root: 45048.63319001976)"
      ]
     },
     "execution_count": 431,
     "metadata": {},
     "output_type": "execute_result"
    }
   ],
   "source": [
    "sig_idx = 1\n",
    "display(h_hat[sig_idx])\n",
    "nmflib.nmf.hk_confint(x_obs, W, sig_idx, S_true[:, [sel]], O_true[:, [sel]],\n",
    "                      r=r, h_hat=h_hat)"
   ]
  }
 ],
 "metadata": {
  "kernelspec": {
   "display_name": "Python 3",
   "language": "python",
   "name": "python3"
  },
  "toc": {
   "base_numbering": 1,
   "nav_menu": {},
   "number_sections": true,
   "sideBar": true,
   "skip_h1_title": true,
   "title_cell": "Table of Contents",
   "title_sidebar": "Contents",
   "toc_cell": false,
   "toc_position": {
    "height": "calc(100% - 180px)",
    "left": "10px",
    "top": "150px",
    "width": "248.188px"
   },
   "toc_section_display": true,
   "toc_window_display": true
  }
 },
 "nbformat": 4,
 "nbformat_minor": 2
}
